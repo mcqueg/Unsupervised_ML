{
 "cells": [
  {
   "cell_type": "markdown",
   "metadata": {},
   "source": [
    "# Visual Assessment for Tendency\n",
    " Garrett McCue\n",
    "\n",
    "Goal of the assignment is to apply the VAT and the iVAT algorithms on a dataset in order to asses its clustering ability. The dataset that I will be using is the [2022 World Happiness Report Dataset from Kaggle](https://www.kaggle.com/datasets/hemil26/world-happiness-report-2022). This dataset contains the scores and rankings 146 countries based on individuals' own assessments of their lives and their overall happiness. For an indepth explanation of the data and its aquisition please see [here](https://happiness-report.s3.amazonaws.com/2022/Appendix_1_StatiscalAppendix_Ch2.pdf)."
   ]
  },
  {
   "cell_type": "code",
   "execution_count": 1,
   "metadata": {},
   "outputs": [],
   "source": [
    "import pandas as pd\n",
    "import numpy as np\n",
    "import plotly.express as px\n",
    "from sklearn.preprocessing import StandardScaler\n",
    "from sklearn.decomposition import PCA\n",
    "from sklearn.metrics import pairwise_distances"
   ]
  },
  {
   "cell_type": "markdown",
   "metadata": {},
   "source": [
    "## Load Data\n"
   ]
  },
  {
   "cell_type": "code",
   "execution_count": 2,
   "metadata": {},
   "outputs": [
    {
     "data": {
      "text/html": [
       "<div>\n",
       "<style scoped>\n",
       "    .dataframe tbody tr th:only-of-type {\n",
       "        vertical-align: middle;\n",
       "    }\n",
       "\n",
       "    .dataframe tbody tr th {\n",
       "        vertical-align: top;\n",
       "    }\n",
       "\n",
       "    .dataframe thead th {\n",
       "        text-align: right;\n",
       "    }\n",
       "</style>\n",
       "<table border=\"1\" class=\"dataframe\">\n",
       "  <thead>\n",
       "    <tr style=\"text-align: right;\">\n",
       "      <th></th>\n",
       "      <th>RANK</th>\n",
       "      <th>Country</th>\n",
       "      <th>Happiness score</th>\n",
       "      <th>Whisker-high</th>\n",
       "      <th>Whisker-low</th>\n",
       "      <th>Dystopia (1.83) + residual</th>\n",
       "      <th>Explained by: GDP per capita</th>\n",
       "      <th>Explained by: Social support</th>\n",
       "      <th>Explained by: Healthy life expectancy</th>\n",
       "      <th>Explained by: Freedom to make life choices</th>\n",
       "      <th>Explained by: Generosity</th>\n",
       "      <th>Explained by: Perceptions of corruption</th>\n",
       "    </tr>\n",
       "  </thead>\n",
       "  <tbody>\n",
       "    <tr>\n",
       "      <th>0</th>\n",
       "      <td>1</td>\n",
       "      <td>Finland</td>\n",
       "      <td>7.821</td>\n",
       "      <td>7.886</td>\n",
       "      <td>7.756</td>\n",
       "      <td>2.518</td>\n",
       "      <td>1.892</td>\n",
       "      <td>1.258</td>\n",
       "      <td>0.775</td>\n",
       "      <td>0.736</td>\n",
       "      <td>0.109</td>\n",
       "      <td>0.534</td>\n",
       "    </tr>\n",
       "    <tr>\n",
       "      <th>1</th>\n",
       "      <td>2</td>\n",
       "      <td>Denmark</td>\n",
       "      <td>7.636</td>\n",
       "      <td>7.710</td>\n",
       "      <td>7.563</td>\n",
       "      <td>2.226</td>\n",
       "      <td>1.953</td>\n",
       "      <td>1.243</td>\n",
       "      <td>0.777</td>\n",
       "      <td>0.719</td>\n",
       "      <td>0.188</td>\n",
       "      <td>0.532</td>\n",
       "    </tr>\n",
       "    <tr>\n",
       "      <th>2</th>\n",
       "      <td>3</td>\n",
       "      <td>Iceland</td>\n",
       "      <td>7.557</td>\n",
       "      <td>7.651</td>\n",
       "      <td>7.464</td>\n",
       "      <td>2.320</td>\n",
       "      <td>1.936</td>\n",
       "      <td>1.320</td>\n",
       "      <td>0.803</td>\n",
       "      <td>0.718</td>\n",
       "      <td>0.270</td>\n",
       "      <td>0.191</td>\n",
       "    </tr>\n",
       "    <tr>\n",
       "      <th>3</th>\n",
       "      <td>4</td>\n",
       "      <td>Switzerland</td>\n",
       "      <td>7.512</td>\n",
       "      <td>7.586</td>\n",
       "      <td>7.437</td>\n",
       "      <td>2.153</td>\n",
       "      <td>2.026</td>\n",
       "      <td>1.226</td>\n",
       "      <td>0.822</td>\n",
       "      <td>0.677</td>\n",
       "      <td>0.147</td>\n",
       "      <td>0.461</td>\n",
       "    </tr>\n",
       "    <tr>\n",
       "      <th>4</th>\n",
       "      <td>5</td>\n",
       "      <td>Netherlands</td>\n",
       "      <td>7.415</td>\n",
       "      <td>7.471</td>\n",
       "      <td>7.359</td>\n",
       "      <td>2.137</td>\n",
       "      <td>1.945</td>\n",
       "      <td>1.206</td>\n",
       "      <td>0.787</td>\n",
       "      <td>0.651</td>\n",
       "      <td>0.271</td>\n",
       "      <td>0.419</td>\n",
       "    </tr>\n",
       "  </tbody>\n",
       "</table>\n",
       "</div>"
      ],
      "text/plain": [
       "   RANK      Country  Happiness score  Whisker-high  Whisker-low  \\\n",
       "0     1      Finland            7.821         7.886        7.756   \n",
       "1     2      Denmark            7.636         7.710        7.563   \n",
       "2     3      Iceland            7.557         7.651        7.464   \n",
       "3     4  Switzerland            7.512         7.586        7.437   \n",
       "4     5  Netherlands            7.415         7.471        7.359   \n",
       "\n",
       "   Dystopia (1.83) + residual  Explained by: GDP per capita  \\\n",
       "0                       2.518                         1.892   \n",
       "1                       2.226                         1.953   \n",
       "2                       2.320                         1.936   \n",
       "3                       2.153                         2.026   \n",
       "4                       2.137                         1.945   \n",
       "\n",
       "   Explained by: Social support  Explained by: Healthy life expectancy  \\\n",
       "0                         1.258                                  0.775   \n",
       "1                         1.243                                  0.777   \n",
       "2                         1.320                                  0.803   \n",
       "3                         1.226                                  0.822   \n",
       "4                         1.206                                  0.787   \n",
       "\n",
       "   Explained by: Freedom to make life choices  Explained by: Generosity  \\\n",
       "0                                       0.736                     0.109   \n",
       "1                                       0.719                     0.188   \n",
       "2                                       0.718                     0.270   \n",
       "3                                       0.677                     0.147   \n",
       "4                                       0.651                     0.271   \n",
       "\n",
       "   Explained by: Perceptions of corruption  \n",
       "0                                    0.534  \n",
       "1                                    0.532  \n",
       "2                                    0.191  \n",
       "3                                    0.461  \n",
       "4                                    0.419  "
      ]
     },
     "execution_count": 2,
     "metadata": {},
     "output_type": "execute_result"
    }
   ],
   "source": [
    "hap_df = pd.read_csv(\"data/world_happiness_rankings_2022.csv\")\n",
    "hap_df.head()"
   ]
  },
  {
   "cell_type": "code",
   "execution_count": 3,
   "metadata": {},
   "outputs": [],
   "source": [
    "ranking_df = hap_df[['RANK', 'Country']]\n",
    "metrics_df = hap_df.drop(['RANK', 'Country'], axis=1)\n"
   ]
  },
  {
   "cell_type": "markdown",
   "metadata": {},
   "source": [
    "\n",
    "## Dimensionality Reduction"
   ]
  },
  {
   "cell_type": "code",
   "execution_count": 4,
   "metadata": {},
   "outputs": [
    {
     "name": "stdout",
     "output_type": "stream",
     "text": [
      "The data feature set has a shape of: (146, 10)\n"
     ]
    }
   ],
   "source": [
    "print(\"The data feature set has a shape of: {}\".format(metrics_df.shape))"
   ]
  },
  {
   "cell_type": "code",
   "execution_count": 5,
   "metadata": {},
   "outputs": [
    {
     "data": {
      "text/html": [
       "<div>\n",
       "<style scoped>\n",
       "    .dataframe tbody tr th:only-of-type {\n",
       "        vertical-align: middle;\n",
       "    }\n",
       "\n",
       "    .dataframe tbody tr th {\n",
       "        vertical-align: top;\n",
       "    }\n",
       "\n",
       "    .dataframe thead th {\n",
       "        text-align: right;\n",
       "    }\n",
       "</style>\n",
       "<table border=\"1\" class=\"dataframe\">\n",
       "  <thead>\n",
       "    <tr style=\"text-align: right;\">\n",
       "      <th></th>\n",
       "      <th>RANK</th>\n",
       "      <th>Country</th>\n",
       "      <th>PC1</th>\n",
       "      <th>PC2</th>\n",
       "    </tr>\n",
       "  </thead>\n",
       "  <tbody>\n",
       "    <tr>\n",
       "      <th>0</th>\n",
       "      <td>1</td>\n",
       "      <td>Finland</td>\n",
       "      <td>-4.966929</td>\n",
       "      <td>-0.421283</td>\n",
       "    </tr>\n",
       "    <tr>\n",
       "      <th>1</th>\n",
       "      <td>2</td>\n",
       "      <td>Denmark</td>\n",
       "      <td>-4.697100</td>\n",
       "      <td>-0.285749</td>\n",
       "    </tr>\n",
       "    <tr>\n",
       "      <th>2</th>\n",
       "      <td>3</td>\n",
       "      <td>Iceland</td>\n",
       "      <td>-4.234076</td>\n",
       "      <td>-1.113467</td>\n",
       "    </tr>\n",
       "    <tr>\n",
       "      <th>3</th>\n",
       "      <td>4</td>\n",
       "      <td>Switzerland</td>\n",
       "      <td>-4.463696</td>\n",
       "      <td>0.126756</td>\n",
       "    </tr>\n",
       "    <tr>\n",
       "      <th>4</th>\n",
       "      <td>5</td>\n",
       "      <td>Netherlands</td>\n",
       "      <td>-4.092789</td>\n",
       "      <td>-0.592264</td>\n",
       "    </tr>\n",
       "  </tbody>\n",
       "</table>\n",
       "</div>"
      ],
      "text/plain": [
       "   RANK      Country       PC1       PC2\n",
       "0     1      Finland -4.966929 -0.421283\n",
       "1     2      Denmark -4.697100 -0.285749\n",
       "2     3      Iceland -4.234076 -1.113467\n",
       "3     4  Switzerland -4.463696  0.126756\n",
       "4     5  Netherlands -4.092789 -0.592264"
      ]
     },
     "execution_count": 5,
     "metadata": {},
     "output_type": "execute_result"
    }
   ],
   "source": [
    "# Standardize Dataset\n",
    "metrics_df = StandardScaler().fit_transform(metrics_df)\n",
    "\n",
    "# apply 2D PCA \n",
    "pca_2 = PCA(n_components=2)\n",
    "pca_2_data = pca_2.fit_transform(metrics_df)\n",
    "pca_2_df = pd.DataFrame(data=pca_2_data, columns=['PC1', 'PC2'])\n",
    "pca_2_ranking_df = pd.concat([ranking_df, pca_2_df], axis=1)\n",
    "\n",
    "pca_2_ranking_df.head()"
   ]
  },
  {
   "cell_type": "code",
   "execution_count": 6,
   "metadata": {},
   "outputs": [
    {
     "data": {
      "text/html": [
       "<div>\n",
       "<style scoped>\n",
       "    .dataframe tbody tr th:only-of-type {\n",
       "        vertical-align: middle;\n",
       "    }\n",
       "\n",
       "    .dataframe tbody tr th {\n",
       "        vertical-align: top;\n",
       "    }\n",
       "\n",
       "    .dataframe thead th {\n",
       "        text-align: right;\n",
       "    }\n",
       "</style>\n",
       "<table border=\"1\" class=\"dataframe\">\n",
       "  <thead>\n",
       "    <tr style=\"text-align: right;\">\n",
       "      <th></th>\n",
       "      <th>RANK</th>\n",
       "      <th>Country</th>\n",
       "      <th>PC1</th>\n",
       "      <th>PC2</th>\n",
       "      <th>PC3</th>\n",
       "    </tr>\n",
       "  </thead>\n",
       "  <tbody>\n",
       "    <tr>\n",
       "      <th>0</th>\n",
       "      <td>1</td>\n",
       "      <td>Finland</td>\n",
       "      <td>-4.966929</td>\n",
       "      <td>-0.421283</td>\n",
       "      <td>0.555072</td>\n",
       "    </tr>\n",
       "    <tr>\n",
       "      <th>1</th>\n",
       "      <td>2</td>\n",
       "      <td>Denmark</td>\n",
       "      <td>-4.697100</td>\n",
       "      <td>-0.285749</td>\n",
       "      <td>1.383118</td>\n",
       "    </tr>\n",
       "    <tr>\n",
       "      <th>2</th>\n",
       "      <td>3</td>\n",
       "      <td>Iceland</td>\n",
       "      <td>-4.234076</td>\n",
       "      <td>-1.113467</td>\n",
       "      <td>0.648670</td>\n",
       "    </tr>\n",
       "    <tr>\n",
       "      <th>3</th>\n",
       "      <td>4</td>\n",
       "      <td>Switzerland</td>\n",
       "      <td>-4.463696</td>\n",
       "      <td>0.126756</td>\n",
       "      <td>0.707251</td>\n",
       "    </tr>\n",
       "    <tr>\n",
       "      <th>4</th>\n",
       "      <td>5</td>\n",
       "      <td>Netherlands</td>\n",
       "      <td>-4.092789</td>\n",
       "      <td>-0.592264</td>\n",
       "      <td>1.576686</td>\n",
       "    </tr>\n",
       "  </tbody>\n",
       "</table>\n",
       "</div>"
      ],
      "text/plain": [
       "   RANK      Country       PC1       PC2       PC3\n",
       "0     1      Finland -4.966929 -0.421283  0.555072\n",
       "1     2      Denmark -4.697100 -0.285749  1.383118\n",
       "2     3      Iceland -4.234076 -1.113467  0.648670\n",
       "3     4  Switzerland -4.463696  0.126756  0.707251\n",
       "4     5  Netherlands -4.092789 -0.592264  1.576686"
      ]
     },
     "execution_count": 6,
     "metadata": {},
     "output_type": "execute_result"
    }
   ],
   "source": [
    "# apply 3D PCA \n",
    "pca_3 = PCA(n_components=3)\n",
    "pca_3_data = pca_3.fit_transform(metrics_df)\n",
    "pca_3_df = pd.DataFrame(data=pca_3_data, columns=['PC1', 'PC2', 'PC3'])\n",
    "pca_3_ranking_df = pd.concat([ranking_df, pca_3_df], axis=1)\n",
    "pca_3_ranking_df.head()"
   ]
  },
  {
   "cell_type": "markdown",
   "metadata": {},
   "source": [
    "## Matrix Ordering Algorithm"
   ]
  },
  {
   "cell_type": "code",
   "execution_count": 7,
   "metadata": {},
   "outputs": [],
   "source": [
    "def reorder_pairwise_matrix(dissim_matrix):\n",
    "    ''' Computes the reordering of the pairwise distance matrix, or dissimilarity matrix, for VAT/iVAT \n",
    "    Parameters:\n",
    "    dissim_matrix : pairwise distance/dissimilarity matrix \n",
    "        np.array\n",
    "\n",
    "    Returns:\n",
    "    reordered_matrix : reordered pairwise distance/dissimilarity matrix\n",
    "    '''\n",
    "       # initialize arrays as zeros to hold row indices of the dissimilarity matrix\n",
    "    # the index array will be used to reorder the dissimilarity matrix\n",
    "    idx_list = np.zeros(dissim_matrix.shape[0], dtype=int)\n",
    "    path = np.zeros_like(idx_list)\n",
    "    # select the largest value and get the column index\n",
    "    idx_max = np.argmax(dissim_matrix)\n",
    "    # set the column index of the largest value as the first item in both zero initialized arrays\n",
    "    col_idx_max = (idx_max // dissim_matrix.shape[1])\n",
    "    idx_list[0] = col_idx_max\n",
    "    path[0] = col_idx_max\n",
    "    # create K to hold indices of all rows from dissimilarity matrix\n",
    "    K = np.linspace(\n",
    "        0, dissim_matrix.shape[0] - 1, dissim_matrix.shape[0]).astype(np.int32)\n",
    "    # create J, from K, excluding the max value\n",
    "    # J will be looped through to find the smallest values and add their row index to the zero initialized arrays\n",
    "    J = np.delete(K, col_idx_max)\n",
    "\n",
    "    # loop through each row finding the next smallest values\n",
    "    for r in range(1, dissim_matrix.shape[0]):\n",
    "        p, q = (-1, -1)\n",
    "        # initialize min_temp as the max of the matrix, \n",
    "        # loop through updating each time there is a smaller value until the smallest is found\n",
    "        min_temp = np.max(dissim_matrix)\n",
    "        for potential_p in path[0:r]:\n",
    "            for potential_j in J:\n",
    "                # if min_temp is larger than dissim_matrix @ potential_p, potential_j update min_temp, p, and q with current vals\n",
    "                if dissim_matrix[potential_p, potential_j] < min_temp:\n",
    "                    p = potential_p\n",
    "                    q = potential_j\n",
    "                    # update mintemp with value at current indices\n",
    "                    min_temp = dissim_matrix[p, q]\n",
    "        # set the column index of the smallest value to the rth index of the zero initialized arrays that will be used for reordering\n",
    "        idx_list[r] = q\n",
    "        path[r] = q\n",
    "        # remove the index in J that contains q, and continue looping until all indices are accounted for.\n",
    "        # np.where(array==X)[0] -> produces a list of indices where the condition is true,\n",
    "        # first element of the index list is set to q_idx\n",
    "        q_idx = np.where(J == q)[0][0]\n",
    "        J = np.delete(J, q_idx)\n",
    "\n",
    "    # reorder dissimilarity matrix using the ordered indices array\n",
    "    reordered_matrix = np.zeros_like(dissim_matrix)\n",
    "\n",
    "    for col_idx_max in range(reordered_matrix.shape[0]):  # loops through rows\n",
    "        for j in range(reordered_matrix.shape[1]):  # loops through cols\n",
    "            # assign vals from dissimilarity matrix to each idx in reordered matrix\n",
    "            # reordering is based on the index arrays holding the new row order\n",
    "            reordered_matrix[col_idx_max,\n",
    "                             j] = dissim_matrix[idx_list[col_idx_max], idx_list[j]]\n",
    "\n",
    "    return reordered_matrix\n"
   ]
  },
  {
   "cell_type": "markdown",
   "metadata": {},
   "source": [
    "## VAT"
   ]
  },
  {
   "cell_type": "code",
   "execution_count": 8,
   "metadata": {},
   "outputs": [],
   "source": [
    "\n",
    "\n",
    "def VAT(data, title):\n",
    "    ''' Computes the visual assesment tendency of clustering for the dataset\n",
    "\n",
    "    Parameters:\n",
    "    data : data matrix that has been scaled/normalized already \n",
    "    title : title for image that will be returned\n",
    "\n",
    "    Returns:\n",
    "    vat_img :  intensity image corresponding to the computed reordered dissimilarity matrix for the data\n",
    "    '''\n",
    "    # compute dissimilarity matrix\n",
    "    dissim_matrix = pairwise_distances(data)\n",
    "    # reorder the dissimilarity matrix for visualization\n",
    "    reordered_matrix = reorder_pairwise_matrix(dissim_matrix)\n",
    "    # plot ordered dissimilarity matrix as an intensity image\n",
    "    vat_img = px.imshow(reordered_matrix,\n",
    "                        zmin=0,\n",
    "                        zmax=np.max(reordered_matrix),\n",
    "                        #color_continuous_scale='gray',\n",
    "                        binary_string=True,\n",
    "                        width=600, height=600,\n",
    "                        title=title)\n",
    "\n",
    "    return vat_img\n"
   ]
  },
  {
   "cell_type": "code",
   "execution_count": 9,
   "metadata": {},
   "outputs": [
    {
     "data": {
      "application/vnd.plotly.v1+json": {
       "config": {
        "plotlyServerURL": "https://plot.ly"
       },
       "data": [
        {
         "hovertemplate": "x: %{x}<br>y: %{y}<extra></extra>",
         "name": "0",
         "source": "data:image/png;base64,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",
         "type": "image",
         "xaxis": "x",
         "yaxis": "y"
        }
       ],
       "layout": {
        "height": 600,
        "template": {
         "data": {
          "bar": [
           {
            "error_x": {
             "color": "#2a3f5f"
            },
            "error_y": {
             "color": "#2a3f5f"
            },
            "marker": {
             "line": {
              "color": "#E5ECF6",
              "width": 0.5
             },
             "pattern": {
              "fillmode": "overlay",
              "size": 10,
              "solidity": 0.2
             }
            },
            "type": "bar"
           }
          ],
          "barpolar": [
           {
            "marker": {
             "line": {
              "color": "#E5ECF6",
              "width": 0.5
             },
             "pattern": {
              "fillmode": "overlay",
              "size": 10,
              "solidity": 0.2
             }
            },
            "type": "barpolar"
           }
          ],
          "carpet": [
           {
            "aaxis": {
             "endlinecolor": "#2a3f5f",
             "gridcolor": "white",
             "linecolor": "white",
             "minorgridcolor": "white",
             "startlinecolor": "#2a3f5f"
            },
            "baxis": {
             "endlinecolor": "#2a3f5f",
             "gridcolor": "white",
             "linecolor": "white",
             "minorgridcolor": "white",
             "startlinecolor": "#2a3f5f"
            },
            "type": "carpet"
           }
          ],
          "choropleth": [
           {
            "colorbar": {
             "outlinewidth": 0,
             "ticks": ""
            },
            "type": "choropleth"
           }
          ],
          "contour": [
           {
            "colorbar": {
             "outlinewidth": 0,
             "ticks": ""
            },
            "colorscale": [
             [
              0,
              "#0d0887"
             ],
             [
              0.1111111111111111,
              "#46039f"
             ],
             [
              0.2222222222222222,
              "#7201a8"
             ],
             [
              0.3333333333333333,
              "#9c179e"
             ],
             [
              0.4444444444444444,
              "#bd3786"
             ],
             [
              0.5555555555555556,
              "#d8576b"
             ],
             [
              0.6666666666666666,
              "#ed7953"
             ],
             [
              0.7777777777777778,
              "#fb9f3a"
             ],
             [
              0.8888888888888888,
              "#fdca26"
             ],
             [
              1,
              "#f0f921"
             ]
            ],
            "type": "contour"
           }
          ],
          "contourcarpet": [
           {
            "colorbar": {
             "outlinewidth": 0,
             "ticks": ""
            },
            "type": "contourcarpet"
           }
          ],
          "heatmap": [
           {
            "colorbar": {
             "outlinewidth": 0,
             "ticks": ""
            },
            "colorscale": [
             [
              0,
              "#0d0887"
             ],
             [
              0.1111111111111111,
              "#46039f"
             ],
             [
              0.2222222222222222,
              "#7201a8"
             ],
             [
              0.3333333333333333,
              "#9c179e"
             ],
             [
              0.4444444444444444,
              "#bd3786"
             ],
             [
              0.5555555555555556,
              "#d8576b"
             ],
             [
              0.6666666666666666,
              "#ed7953"
             ],
             [
              0.7777777777777778,
              "#fb9f3a"
             ],
             [
              0.8888888888888888,
              "#fdca26"
             ],
             [
              1,
              "#f0f921"
             ]
            ],
            "type": "heatmap"
           }
          ],
          "heatmapgl": [
           {
            "colorbar": {
             "outlinewidth": 0,
             "ticks": ""
            },
            "colorscale": [
             [
              0,
              "#0d0887"
             ],
             [
              0.1111111111111111,
              "#46039f"
             ],
             [
              0.2222222222222222,
              "#7201a8"
             ],
             [
              0.3333333333333333,
              "#9c179e"
             ],
             [
              0.4444444444444444,
              "#bd3786"
             ],
             [
              0.5555555555555556,
              "#d8576b"
             ],
             [
              0.6666666666666666,
              "#ed7953"
             ],
             [
              0.7777777777777778,
              "#fb9f3a"
             ],
             [
              0.8888888888888888,
              "#fdca26"
             ],
             [
              1,
              "#f0f921"
             ]
            ],
            "type": "heatmapgl"
           }
          ],
          "histogram": [
           {
            "marker": {
             "pattern": {
              "fillmode": "overlay",
              "size": 10,
              "solidity": 0.2
             }
            },
            "type": "histogram"
           }
          ],
          "histogram2d": [
           {
            "colorbar": {
             "outlinewidth": 0,
             "ticks": ""
            },
            "colorscale": [
             [
              0,
              "#0d0887"
             ],
             [
              0.1111111111111111,
              "#46039f"
             ],
             [
              0.2222222222222222,
              "#7201a8"
             ],
             [
              0.3333333333333333,
              "#9c179e"
             ],
             [
              0.4444444444444444,
              "#bd3786"
             ],
             [
              0.5555555555555556,
              "#d8576b"
             ],
             [
              0.6666666666666666,
              "#ed7953"
             ],
             [
              0.7777777777777778,
              "#fb9f3a"
             ],
             [
              0.8888888888888888,
              "#fdca26"
             ],
             [
              1,
              "#f0f921"
             ]
            ],
            "type": "histogram2d"
           }
          ],
          "histogram2dcontour": [
           {
            "colorbar": {
             "outlinewidth": 0,
             "ticks": ""
            },
            "colorscale": [
             [
              0,
              "#0d0887"
             ],
             [
              0.1111111111111111,
              "#46039f"
             ],
             [
              0.2222222222222222,
              "#7201a8"
             ],
             [
              0.3333333333333333,
              "#9c179e"
             ],
             [
              0.4444444444444444,
              "#bd3786"
             ],
             [
              0.5555555555555556,
              "#d8576b"
             ],
             [
              0.6666666666666666,
              "#ed7953"
             ],
             [
              0.7777777777777778,
              "#fb9f3a"
             ],
             [
              0.8888888888888888,
              "#fdca26"
             ],
             [
              1,
              "#f0f921"
             ]
            ],
            "type": "histogram2dcontour"
           }
          ],
          "mesh3d": [
           {
            "colorbar": {
             "outlinewidth": 0,
             "ticks": ""
            },
            "type": "mesh3d"
           }
          ],
          "parcoords": [
           {
            "line": {
             "colorbar": {
              "outlinewidth": 0,
              "ticks": ""
             }
            },
            "type": "parcoords"
           }
          ],
          "pie": [
           {
            "automargin": true,
            "type": "pie"
           }
          ],
          "scatter": [
           {
            "marker": {
             "colorbar": {
              "outlinewidth": 0,
              "ticks": ""
             }
            },
            "type": "scatter"
           }
          ],
          "scatter3d": [
           {
            "line": {
             "colorbar": {
              "outlinewidth": 0,
              "ticks": ""
             }
            },
            "marker": {
             "colorbar": {
              "outlinewidth": 0,
              "ticks": ""
             }
            },
            "type": "scatter3d"
           }
          ],
          "scattercarpet": [
           {
            "marker": {
             "colorbar": {
              "outlinewidth": 0,
              "ticks": ""
             }
            },
            "type": "scattercarpet"
           }
          ],
          "scattergeo": [
           {
            "marker": {
             "colorbar": {
              "outlinewidth": 0,
              "ticks": ""
             }
            },
            "type": "scattergeo"
           }
          ],
          "scattergl": [
           {
            "marker": {
             "colorbar": {
              "outlinewidth": 0,
              "ticks": ""
             }
            },
            "type": "scattergl"
           }
          ],
          "scattermapbox": [
           {
            "marker": {
             "colorbar": {
              "outlinewidth": 0,
              "ticks": ""
             }
            },
            "type": "scattermapbox"
           }
          ],
          "scatterpolar": [
           {
            "marker": {
             "colorbar": {
              "outlinewidth": 0,
              "ticks": ""
             }
            },
            "type": "scatterpolar"
           }
          ],
          "scatterpolargl": [
           {
            "marker": {
             "colorbar": {
              "outlinewidth": 0,
              "ticks": ""
             }
            },
            "type": "scatterpolargl"
           }
          ],
          "scatterternary": [
           {
            "marker": {
             "colorbar": {
              "outlinewidth": 0,
              "ticks": ""
             }
            },
            "type": "scatterternary"
           }
          ],
          "surface": [
           {
            "colorbar": {
             "outlinewidth": 0,
             "ticks": ""
            },
            "colorscale": [
             [
              0,
              "#0d0887"
             ],
             [
              0.1111111111111111,
              "#46039f"
             ],
             [
              0.2222222222222222,
              "#7201a8"
             ],
             [
              0.3333333333333333,
              "#9c179e"
             ],
             [
              0.4444444444444444,
              "#bd3786"
             ],
             [
              0.5555555555555556,
              "#d8576b"
             ],
             [
              0.6666666666666666,
              "#ed7953"
             ],
             [
              0.7777777777777778,
              "#fb9f3a"
             ],
             [
              0.8888888888888888,
              "#fdca26"
             ],
             [
              1,
              "#f0f921"
             ]
            ],
            "type": "surface"
           }
          ],
          "table": [
           {
            "cells": {
             "fill": {
              "color": "#EBF0F8"
             },
             "line": {
              "color": "white"
             }
            },
            "header": {
             "fill": {
              "color": "#C8D4E3"
             },
             "line": {
              "color": "white"
             }
            },
            "type": "table"
           }
          ]
         },
         "layout": {
          "annotationdefaults": {
           "arrowcolor": "#2a3f5f",
           "arrowhead": 0,
           "arrowwidth": 1
          },
          "autotypenumbers": "strict",
          "coloraxis": {
           "colorbar": {
            "outlinewidth": 0,
            "ticks": ""
           }
          },
          "colorscale": {
           "diverging": [
            [
             0,
             "#8e0152"
            ],
            [
             0.1,
             "#c51b7d"
            ],
            [
             0.2,
             "#de77ae"
            ],
            [
             0.3,
             "#f1b6da"
            ],
            [
             0.4,
             "#fde0ef"
            ],
            [
             0.5,
             "#f7f7f7"
            ],
            [
             0.6,
             "#e6f5d0"
            ],
            [
             0.7,
             "#b8e186"
            ],
            [
             0.8,
             "#7fbc41"
            ],
            [
             0.9,
             "#4d9221"
            ],
            [
             1,
             "#276419"
            ]
           ],
           "sequential": [
            [
             0,
             "#0d0887"
            ],
            [
             0.1111111111111111,
             "#46039f"
            ],
            [
             0.2222222222222222,
             "#7201a8"
            ],
            [
             0.3333333333333333,
             "#9c179e"
            ],
            [
             0.4444444444444444,
             "#bd3786"
            ],
            [
             0.5555555555555556,
             "#d8576b"
            ],
            [
             0.6666666666666666,
             "#ed7953"
            ],
            [
             0.7777777777777778,
             "#fb9f3a"
            ],
            [
             0.8888888888888888,
             "#fdca26"
            ],
            [
             1,
             "#f0f921"
            ]
           ],
           "sequentialminus": [
            [
             0,
             "#0d0887"
            ],
            [
             0.1111111111111111,
             "#46039f"
            ],
            [
             0.2222222222222222,
             "#7201a8"
            ],
            [
             0.3333333333333333,
             "#9c179e"
            ],
            [
             0.4444444444444444,
             "#bd3786"
            ],
            [
             0.5555555555555556,
             "#d8576b"
            ],
            [
             0.6666666666666666,
             "#ed7953"
            ],
            [
             0.7777777777777778,
             "#fb9f3a"
            ],
            [
             0.8888888888888888,
             "#fdca26"
            ],
            [
             1,
             "#f0f921"
            ]
           ]
          },
          "colorway": [
           "#636efa",
           "#EF553B",
           "#00cc96",
           "#ab63fa",
           "#FFA15A",
           "#19d3f3",
           "#FF6692",
           "#B6E880",
           "#FF97FF",
           "#FECB52"
          ],
          "font": {
           "color": "#2a3f5f"
          },
          "geo": {
           "bgcolor": "white",
           "lakecolor": "white",
           "landcolor": "#E5ECF6",
           "showlakes": true,
           "showland": true,
           "subunitcolor": "white"
          },
          "hoverlabel": {
           "align": "left"
          },
          "hovermode": "closest",
          "mapbox": {
           "style": "light"
          },
          "paper_bgcolor": "white",
          "plot_bgcolor": "#E5ECF6",
          "polar": {
           "angularaxis": {
            "gridcolor": "white",
            "linecolor": "white",
            "ticks": ""
           },
           "bgcolor": "#E5ECF6",
           "radialaxis": {
            "gridcolor": "white",
            "linecolor": "white",
            "ticks": ""
           }
          },
          "scene": {
           "xaxis": {
            "backgroundcolor": "#E5ECF6",
            "gridcolor": "white",
            "gridwidth": 2,
            "linecolor": "white",
            "showbackground": true,
            "ticks": "",
            "zerolinecolor": "white"
           },
           "yaxis": {
            "backgroundcolor": "#E5ECF6",
            "gridcolor": "white",
            "gridwidth": 2,
            "linecolor": "white",
            "showbackground": true,
            "ticks": "",
            "zerolinecolor": "white"
           },
           "zaxis": {
            "backgroundcolor": "#E5ECF6",
            "gridcolor": "white",
            "gridwidth": 2,
            "linecolor": "white",
            "showbackground": true,
            "ticks": "",
            "zerolinecolor": "white"
           }
          },
          "shapedefaults": {
           "line": {
            "color": "#2a3f5f"
           }
          },
          "ternary": {
           "aaxis": {
            "gridcolor": "white",
            "linecolor": "white",
            "ticks": ""
           },
           "baxis": {
            "gridcolor": "white",
            "linecolor": "white",
            "ticks": ""
           },
           "bgcolor": "#E5ECF6",
           "caxis": {
            "gridcolor": "white",
            "linecolor": "white",
            "ticks": ""
           }
          },
          "title": {
           "x": 0.05
          },
          "xaxis": {
           "automargin": true,
           "gridcolor": "white",
           "linecolor": "white",
           "ticks": "",
           "title": {
            "standoff": 15
           },
           "zerolinecolor": "white",
           "zerolinewidth": 2
          },
          "yaxis": {
           "automargin": true,
           "gridcolor": "white",
           "linecolor": "white",
           "ticks": "",
           "title": {
            "standoff": 15
           },
           "zerolinecolor": "white",
           "zerolinewidth": 2
          }
         }
        },
        "title": {
         "text": "VAT: 2D-PCA"
        },
        "width": 600,
        "xaxis": {
         "anchor": "y",
         "domain": [
          0,
          1
         ]
        },
        "yaxis": {
         "anchor": "x",
         "domain": [
          0,
          1
         ]
        }
       }
      }
     },
     "metadata": {},
     "output_type": "display_data"
    }
   ],
   "source": [
    "vat_2d_img = VAT(pca_2_data, title='VAT: 2D-PCA')\n",
    "vat_2d_img.show()"
   ]
  },
  {
   "cell_type": "code",
   "execution_count": 10,
   "metadata": {},
   "outputs": [
    {
     "data": {
      "application/vnd.plotly.v1+json": {
       "config": {
        "plotlyServerURL": "https://plot.ly"
       },
       "data": [
        {
         "hovertemplate": "x: %{x}<br>y: %{y}<extra></extra>",
         "name": "0",
         "source": "data:image/png;base64,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",
         "type": "image",
         "xaxis": "x",
         "yaxis": "y"
        }
       ],
       "layout": {
        "height": 600,
        "template": {
         "data": {
          "bar": [
           {
            "error_x": {
             "color": "#2a3f5f"
            },
            "error_y": {
             "color": "#2a3f5f"
            },
            "marker": {
             "line": {
              "color": "#E5ECF6",
              "width": 0.5
             },
             "pattern": {
              "fillmode": "overlay",
              "size": 10,
              "solidity": 0.2
             }
            },
            "type": "bar"
           }
          ],
          "barpolar": [
           {
            "marker": {
             "line": {
              "color": "#E5ECF6",
              "width": 0.5
             },
             "pattern": {
              "fillmode": "overlay",
              "size": 10,
              "solidity": 0.2
             }
            },
            "type": "barpolar"
           }
          ],
          "carpet": [
           {
            "aaxis": {
             "endlinecolor": "#2a3f5f",
             "gridcolor": "white",
             "linecolor": "white",
             "minorgridcolor": "white",
             "startlinecolor": "#2a3f5f"
            },
            "baxis": {
             "endlinecolor": "#2a3f5f",
             "gridcolor": "white",
             "linecolor": "white",
             "minorgridcolor": "white",
             "startlinecolor": "#2a3f5f"
            },
            "type": "carpet"
           }
          ],
          "choropleth": [
           {
            "colorbar": {
             "outlinewidth": 0,
             "ticks": ""
            },
            "type": "choropleth"
           }
          ],
          "contour": [
           {
            "colorbar": {
             "outlinewidth": 0,
             "ticks": ""
            },
            "colorscale": [
             [
              0,
              "#0d0887"
             ],
             [
              0.1111111111111111,
              "#46039f"
             ],
             [
              0.2222222222222222,
              "#7201a8"
             ],
             [
              0.3333333333333333,
              "#9c179e"
             ],
             [
              0.4444444444444444,
              "#bd3786"
             ],
             [
              0.5555555555555556,
              "#d8576b"
             ],
             [
              0.6666666666666666,
              "#ed7953"
             ],
             [
              0.7777777777777778,
              "#fb9f3a"
             ],
             [
              0.8888888888888888,
              "#fdca26"
             ],
             [
              1,
              "#f0f921"
             ]
            ],
            "type": "contour"
           }
          ],
          "contourcarpet": [
           {
            "colorbar": {
             "outlinewidth": 0,
             "ticks": ""
            },
            "type": "contourcarpet"
           }
          ],
          "heatmap": [
           {
            "colorbar": {
             "outlinewidth": 0,
             "ticks": ""
            },
            "colorscale": [
             [
              0,
              "#0d0887"
             ],
             [
              0.1111111111111111,
              "#46039f"
             ],
             [
              0.2222222222222222,
              "#7201a8"
             ],
             [
              0.3333333333333333,
              "#9c179e"
             ],
             [
              0.4444444444444444,
              "#bd3786"
             ],
             [
              0.5555555555555556,
              "#d8576b"
             ],
             [
              0.6666666666666666,
              "#ed7953"
             ],
             [
              0.7777777777777778,
              "#fb9f3a"
             ],
             [
              0.8888888888888888,
              "#fdca26"
             ],
             [
              1,
              "#f0f921"
             ]
            ],
            "type": "heatmap"
           }
          ],
          "heatmapgl": [
           {
            "colorbar": {
             "outlinewidth": 0,
             "ticks": ""
            },
            "colorscale": [
             [
              0,
              "#0d0887"
             ],
             [
              0.1111111111111111,
              "#46039f"
             ],
             [
              0.2222222222222222,
              "#7201a8"
             ],
             [
              0.3333333333333333,
              "#9c179e"
             ],
             [
              0.4444444444444444,
              "#bd3786"
             ],
             [
              0.5555555555555556,
              "#d8576b"
             ],
             [
              0.6666666666666666,
              "#ed7953"
             ],
             [
              0.7777777777777778,
              "#fb9f3a"
             ],
             [
              0.8888888888888888,
              "#fdca26"
             ],
             [
              1,
              "#f0f921"
             ]
            ],
            "type": "heatmapgl"
           }
          ],
          "histogram": [
           {
            "marker": {
             "pattern": {
              "fillmode": "overlay",
              "size": 10,
              "solidity": 0.2
             }
            },
            "type": "histogram"
           }
          ],
          "histogram2d": [
           {
            "colorbar": {
             "outlinewidth": 0,
             "ticks": ""
            },
            "colorscale": [
             [
              0,
              "#0d0887"
             ],
             [
              0.1111111111111111,
              "#46039f"
             ],
             [
              0.2222222222222222,
              "#7201a8"
             ],
             [
              0.3333333333333333,
              "#9c179e"
             ],
             [
              0.4444444444444444,
              "#bd3786"
             ],
             [
              0.5555555555555556,
              "#d8576b"
             ],
             [
              0.6666666666666666,
              "#ed7953"
             ],
             [
              0.7777777777777778,
              "#fb9f3a"
             ],
             [
              0.8888888888888888,
              "#fdca26"
             ],
             [
              1,
              "#f0f921"
             ]
            ],
            "type": "histogram2d"
           }
          ],
          "histogram2dcontour": [
           {
            "colorbar": {
             "outlinewidth": 0,
             "ticks": ""
            },
            "colorscale": [
             [
              0,
              "#0d0887"
             ],
             [
              0.1111111111111111,
              "#46039f"
             ],
             [
              0.2222222222222222,
              "#7201a8"
             ],
             [
              0.3333333333333333,
              "#9c179e"
             ],
             [
              0.4444444444444444,
              "#bd3786"
             ],
             [
              0.5555555555555556,
              "#d8576b"
             ],
             [
              0.6666666666666666,
              "#ed7953"
             ],
             [
              0.7777777777777778,
              "#fb9f3a"
             ],
             [
              0.8888888888888888,
              "#fdca26"
             ],
             [
              1,
              "#f0f921"
             ]
            ],
            "type": "histogram2dcontour"
           }
          ],
          "mesh3d": [
           {
            "colorbar": {
             "outlinewidth": 0,
             "ticks": ""
            },
            "type": "mesh3d"
           }
          ],
          "parcoords": [
           {
            "line": {
             "colorbar": {
              "outlinewidth": 0,
              "ticks": ""
             }
            },
            "type": "parcoords"
           }
          ],
          "pie": [
           {
            "automargin": true,
            "type": "pie"
           }
          ],
          "scatter": [
           {
            "marker": {
             "colorbar": {
              "outlinewidth": 0,
              "ticks": ""
             }
            },
            "type": "scatter"
           }
          ],
          "scatter3d": [
           {
            "line": {
             "colorbar": {
              "outlinewidth": 0,
              "ticks": ""
             }
            },
            "marker": {
             "colorbar": {
              "outlinewidth": 0,
              "ticks": ""
             }
            },
            "type": "scatter3d"
           }
          ],
          "scattercarpet": [
           {
            "marker": {
             "colorbar": {
              "outlinewidth": 0,
              "ticks": ""
             }
            },
            "type": "scattercarpet"
           }
          ],
          "scattergeo": [
           {
            "marker": {
             "colorbar": {
              "outlinewidth": 0,
              "ticks": ""
             }
            },
            "type": "scattergeo"
           }
          ],
          "scattergl": [
           {
            "marker": {
             "colorbar": {
              "outlinewidth": 0,
              "ticks": ""
             }
            },
            "type": "scattergl"
           }
          ],
          "scattermapbox": [
           {
            "marker": {
             "colorbar": {
              "outlinewidth": 0,
              "ticks": ""
             }
            },
            "type": "scattermapbox"
           }
          ],
          "scatterpolar": [
           {
            "marker": {
             "colorbar": {
              "outlinewidth": 0,
              "ticks": ""
             }
            },
            "type": "scatterpolar"
           }
          ],
          "scatterpolargl": [
           {
            "marker": {
             "colorbar": {
              "outlinewidth": 0,
              "ticks": ""
             }
            },
            "type": "scatterpolargl"
           }
          ],
          "scatterternary": [
           {
            "marker": {
             "colorbar": {
              "outlinewidth": 0,
              "ticks": ""
             }
            },
            "type": "scatterternary"
           }
          ],
          "surface": [
           {
            "colorbar": {
             "outlinewidth": 0,
             "ticks": ""
            },
            "colorscale": [
             [
              0,
              "#0d0887"
             ],
             [
              0.1111111111111111,
              "#46039f"
             ],
             [
              0.2222222222222222,
              "#7201a8"
             ],
             [
              0.3333333333333333,
              "#9c179e"
             ],
             [
              0.4444444444444444,
              "#bd3786"
             ],
             [
              0.5555555555555556,
              "#d8576b"
             ],
             [
              0.6666666666666666,
              "#ed7953"
             ],
             [
              0.7777777777777778,
              "#fb9f3a"
             ],
             [
              0.8888888888888888,
              "#fdca26"
             ],
             [
              1,
              "#f0f921"
             ]
            ],
            "type": "surface"
           }
          ],
          "table": [
           {
            "cells": {
             "fill": {
              "color": "#EBF0F8"
             },
             "line": {
              "color": "white"
             }
            },
            "header": {
             "fill": {
              "color": "#C8D4E3"
             },
             "line": {
              "color": "white"
             }
            },
            "type": "table"
           }
          ]
         },
         "layout": {
          "annotationdefaults": {
           "arrowcolor": "#2a3f5f",
           "arrowhead": 0,
           "arrowwidth": 1
          },
          "autotypenumbers": "strict",
          "coloraxis": {
           "colorbar": {
            "outlinewidth": 0,
            "ticks": ""
           }
          },
          "colorscale": {
           "diverging": [
            [
             0,
             "#8e0152"
            ],
            [
             0.1,
             "#c51b7d"
            ],
            [
             0.2,
             "#de77ae"
            ],
            [
             0.3,
             "#f1b6da"
            ],
            [
             0.4,
             "#fde0ef"
            ],
            [
             0.5,
             "#f7f7f7"
            ],
            [
             0.6,
             "#e6f5d0"
            ],
            [
             0.7,
             "#b8e186"
            ],
            [
             0.8,
             "#7fbc41"
            ],
            [
             0.9,
             "#4d9221"
            ],
            [
             1,
             "#276419"
            ]
           ],
           "sequential": [
            [
             0,
             "#0d0887"
            ],
            [
             0.1111111111111111,
             "#46039f"
            ],
            [
             0.2222222222222222,
             "#7201a8"
            ],
            [
             0.3333333333333333,
             "#9c179e"
            ],
            [
             0.4444444444444444,
             "#bd3786"
            ],
            [
             0.5555555555555556,
             "#d8576b"
            ],
            [
             0.6666666666666666,
             "#ed7953"
            ],
            [
             0.7777777777777778,
             "#fb9f3a"
            ],
            [
             0.8888888888888888,
             "#fdca26"
            ],
            [
             1,
             "#f0f921"
            ]
           ],
           "sequentialminus": [
            [
             0,
             "#0d0887"
            ],
            [
             0.1111111111111111,
             "#46039f"
            ],
            [
             0.2222222222222222,
             "#7201a8"
            ],
            [
             0.3333333333333333,
             "#9c179e"
            ],
            [
             0.4444444444444444,
             "#bd3786"
            ],
            [
             0.5555555555555556,
             "#d8576b"
            ],
            [
             0.6666666666666666,
             "#ed7953"
            ],
            [
             0.7777777777777778,
             "#fb9f3a"
            ],
            [
             0.8888888888888888,
             "#fdca26"
            ],
            [
             1,
             "#f0f921"
            ]
           ]
          },
          "colorway": [
           "#636efa",
           "#EF553B",
           "#00cc96",
           "#ab63fa",
           "#FFA15A",
           "#19d3f3",
           "#FF6692",
           "#B6E880",
           "#FF97FF",
           "#FECB52"
          ],
          "font": {
           "color": "#2a3f5f"
          },
          "geo": {
           "bgcolor": "white",
           "lakecolor": "white",
           "landcolor": "#E5ECF6",
           "showlakes": true,
           "showland": true,
           "subunitcolor": "white"
          },
          "hoverlabel": {
           "align": "left"
          },
          "hovermode": "closest",
          "mapbox": {
           "style": "light"
          },
          "paper_bgcolor": "white",
          "plot_bgcolor": "#E5ECF6",
          "polar": {
           "angularaxis": {
            "gridcolor": "white",
            "linecolor": "white",
            "ticks": ""
           },
           "bgcolor": "#E5ECF6",
           "radialaxis": {
            "gridcolor": "white",
            "linecolor": "white",
            "ticks": ""
           }
          },
          "scene": {
           "xaxis": {
            "backgroundcolor": "#E5ECF6",
            "gridcolor": "white",
            "gridwidth": 2,
            "linecolor": "white",
            "showbackground": true,
            "ticks": "",
            "zerolinecolor": "white"
           },
           "yaxis": {
            "backgroundcolor": "#E5ECF6",
            "gridcolor": "white",
            "gridwidth": 2,
            "linecolor": "white",
            "showbackground": true,
            "ticks": "",
            "zerolinecolor": "white"
           },
           "zaxis": {
            "backgroundcolor": "#E5ECF6",
            "gridcolor": "white",
            "gridwidth": 2,
            "linecolor": "white",
            "showbackground": true,
            "ticks": "",
            "zerolinecolor": "white"
           }
          },
          "shapedefaults": {
           "line": {
            "color": "#2a3f5f"
           }
          },
          "ternary": {
           "aaxis": {
            "gridcolor": "white",
            "linecolor": "white",
            "ticks": ""
           },
           "baxis": {
            "gridcolor": "white",
            "linecolor": "white",
            "ticks": ""
           },
           "bgcolor": "#E5ECF6",
           "caxis": {
            "gridcolor": "white",
            "linecolor": "white",
            "ticks": ""
           }
          },
          "title": {
           "x": 0.05
          },
          "xaxis": {
           "automargin": true,
           "gridcolor": "white",
           "linecolor": "white",
           "ticks": "",
           "title": {
            "standoff": 15
           },
           "zerolinecolor": "white",
           "zerolinewidth": 2
          },
          "yaxis": {
           "automargin": true,
           "gridcolor": "white",
           "linecolor": "white",
           "ticks": "",
           "title": {
            "standoff": 15
           },
           "zerolinecolor": "white",
           "zerolinewidth": 2
          }
         }
        },
        "title": {
         "text": "VAT: 3D-PCA"
        },
        "width": 600,
        "xaxis": {
         "anchor": "y",
         "domain": [
          0,
          1
         ]
        },
        "yaxis": {
         "anchor": "x",
         "domain": [
          0,
          1
         ]
        }
       }
      }
     },
     "metadata": {},
     "output_type": "display_data"
    }
   ],
   "source": [
    "vat_3d_img = VAT(pca_3_data, title='VAT: 3D-PCA')\n",
    "vat_3d_img.show()"
   ]
  },
  {
   "cell_type": "markdown",
   "metadata": {},
   "source": [
    "## iVAT\n"
   ]
  },
  {
   "cell_type": "code",
   "execution_count": 11,
   "metadata": {},
   "outputs": [],
   "source": [
    "def iVAT(data, title):\n",
    "    ''' Computes the improved visual assesment tendency of clustering for the dataset. This method improves on\n",
    "    VAT by further ordering of the pairwise distance matrix resulting in easier visual interpretation of potential clustering. \n",
    "\n",
    "    Parameters:\n",
    "    data : data matrix that has been scaled/normalized already\n",
    "    title : title for image that will be returned\n",
    "\n",
    "    Returns:\n",
    "    ivat_img :  intensity image corresponding to the computed reordered dissimilarity matrix for the data\n",
    "    '''\n",
    "    # compute dissimilarity matrix\n",
    "    dissim_matrix = pairwise_distances(data)\n",
    "    reordered_matrix = reorder_pairwise_matrix(dissim_matrix)\n",
    "    # initialize the square ivat_ordered_matrix with zeros and num rows x num rows as the shape\n",
    "    ivat_ordered_matrix = np.zeros((reordered_matrix.shape[0], reordered_matrix.shape[0]))\n",
    "    # loop through the ordered matrix rows\n",
    "    for r in range(1, reordered_matrix.shape[0]):\n",
    "        # find the index of the smallest value within the current row (r), from index 1 to r-1 of the row\n",
    "        j = np.argmin(reordered_matrix[r, 0:r])\n",
    "         # set min value in zero initialized matrix\n",
    "        ivat_ordered_matrix[r,j] = reordered_matrix[r,j]\n",
    "        # set the other portion of the ivat ordered matrix as a reflection over the top left to bottom right\n",
    "        ivat_ordered_matrix[j,r] = reordered_matrix[r,j] \n",
    "        # create an array from values in range 0 to the current row num to represent row/col indices\n",
    "        col_temp = np.array(range(0, r))\n",
    "        # and drop @ index j to remove the minimum value from being considered within this temp index array\n",
    "        col_temp = col_temp[col_temp!=j]\n",
    "        # loop through col_temp and update ivat_ordered_matrix to improve visual representation of portential clustering\n",
    "        for c in col_temp:\n",
    "            # update ivat_ordered_matrix \n",
    "            #  matrix [2,4] == matrix [4,2]\n",
    "            ivat_ordered_matrix[r, c] = max(reordered_matrix[r, j], ivat_ordered_matrix[j, c])\n",
    "            ivat_ordered_matrix[c, r] = ivat_ordered_matrix[r, c]\n",
    "    # plot newly ordered matrix\n",
    "    # plot ordered dissimilarity matrix as an intensity image\n",
    "    ivat_img = px.imshow(ivat_ordered_matrix,\n",
    "                        zmin=0,\n",
    "                        zmax=np.max(ivat_ordered_matrix),\n",
    "                        #color_continuous_scale='gray',\n",
    "                        binary_string=True,\n",
    "                        width=600, height=600,\n",
    "                        title=title)\n",
    "\n",
    "\n",
    "    return ivat_img"
   ]
  },
  {
   "cell_type": "code",
   "execution_count": 12,
   "metadata": {},
   "outputs": [
    {
     "data": {
      "application/vnd.plotly.v1+json": {
       "config": {
        "plotlyServerURL": "https://plot.ly"
       },
       "data": [
        {
         "hovertemplate": "x: %{x}<br>y: %{y}<extra></extra>",
         "name": "0",
         "source": "data:image/png;base64,iVBORw0KGgoAAAANSUhEUgAAAJIAAACSCAAAAACLEMxSAAAFwUlEQVR4Xs2cW29UVRiGn71mz6GdzgzdnZl0oC21kYIXJhQCCDHAD5BIuOCWhGtNuOM3mHjRxHsTb40xmvgD0BDQJlKMF3IQLFWKVkAETwgRL+b8dc/s09przZM0nf2u3cw73zp/e00d5iqAS4ts+0UsMn1XDqiO4vSWdJiAjKNQaiwDeJkGmbfU3Lq8zTZu5dVvJ3JeSeoWUTDxhxTtoiDnPZSqVRR43svfS9kmrksJllbngYp/rzCNav6aX3vy7Fl/iTValph60CfbpG2psOPuv30F9mhbgtqvPbJNWjNJBdj+zd7eEmu0ouQ4juPsvfpwFEaobsUBc+sjZ2k05ha3dzUyPc1KbaZHiEiylU2b/iiNRL/rrN1azMys7hFSSAq6piNpCfZcmwLyQE+pCKbT1RSOo8tMk62WmHqQy7csWUG2JYCc3anFz1K+9OSF1AziZ8ny+OTTlvJ5KG8U8qogS8zgHyUo/CMVYwyylK/8LiVTDLKk1ORvUjPEIEuFQqFxz06/G2QJYPpnqRjBp8d1pbn1Bo7vPWkyLErQuPe3lNJnuCW2PZJK+gyvFGd8fMNzht+jnYAogfkcRqAlx/g+eHiluOBSXJ+TeqoERgkwnDsMY8mwJ5+K83E5v7ZN4eKCo2trNBif9/fD5PgU0pIyOBaEtGRyfAppyXXd+qahjUtIS2CuPfn0OD9cwB3fyFVlQQpEiJKpPWckS9XtG1JKgZAV105E7Lhbxusr0U+kKAHlx/9JSTdRLRnYm4esuM685lFdq6pib5luIkcJqvelopcYllR9U0pa8am4oDRfkZd+GK9LVR8xogSM/yUVjfhEKQR11uqk9Yg6XpSgvplaAiquJcqPpaILn4oL5bJUqt2qlaWqhVDv709azzZ8ohSWcvlWYayck3JiEkQprRxrIktjqeQzE1kql3fekVpyfNpSeJc52HXT070eD//+A9C/v/OJUtC020+1emO31JKR2BLsvh7zOecANFhiz7WSO6kvn5K4LQGUnkglCVosuVrHJy2WJicXbkstPlosZbPZ3delGJutzTvms8q9V5ekFJOtliJ3uBZLq5o8aam4JkurUomHjFKS4eXgymEpxcHtP+mbjMOXZ3CzzU9ZEmeIw6Ox4oCZnzQsfvVaIv9UKtHRa8ltzK9JLTJ6LWWz2V03pRgV2eOS4QKvfNdQqpDgoyb400E07kklGilYUjvuSikSaVhSsz9KLQopWCoUConaeAqWlFIqyVpFb4/rZsEOrrgHegqikEKUmrjPpRIWvVHqmWkPcPlI9yoKbtwVWzBHLh2KtRhIreKAQ19JJRRpWsocuSSlMLhpeuL1i8ekFIzWVeVWjn2+SPNBQvh+lGqQgMUbv0gpiLQtEf18Zvh4xqNe5+JUtSblYaQepejfTTJgqRpxDk674oAatYsLhD8pZiBKwMLtCElWM5YinVdJcdoF2g1jbo4Lx/sLBmOgLTU5fmE6z1Tn0gEyqInuDR0MVRwRzkWbs5TfeSfcGWRzliDk+QJjbYkpmLmyCBRhaPrRZJRg8cbTp4HpHrOW2HkneGFg2FKYMdO0pUrwc05zzRugWARvtQrVISegTEcJqN5/PnQnbMES2x4N/Qa8DUsU/5RKL2bbEgBV4Np+qXYxZ8lp/VAE9n9dJ9/ov6GNlYoD6psDm7gtS0POF9iylC8OzLGaa0v9yYcGNFb2+Z40shUlgH1XpAKYtKS2kHvtS3kTgOu3IE8Fvzd647OjqiJFc1Hy5egXUrFuSR2/IKW0s3BBVHjz05NCS3u3G8zJT071C+mmT0Nx6uNDs73X9h1tyY+PQJSYnf3odM/lKFiC0x+e6V64Y93XFjnzwdnOa8uDQIez79c8TgCj0byB3nPR5hYnAXje9dZQMDJRgvaazvX6dWucAN49D6PTvAE4/84y4A7Yudhh+dzySLUlgOVz4LwnVcu8/cKx8186huD8D+bLun31kku9AAAAAElFTkSuQmCC",
         "type": "image",
         "xaxis": "x",
         "yaxis": "y"
        }
       ],
       "layout": {
        "height": 600,
        "template": {
         "data": {
          "bar": [
           {
            "error_x": {
             "color": "#2a3f5f"
            },
            "error_y": {
             "color": "#2a3f5f"
            },
            "marker": {
             "line": {
              "color": "#E5ECF6",
              "width": 0.5
             },
             "pattern": {
              "fillmode": "overlay",
              "size": 10,
              "solidity": 0.2
             }
            },
            "type": "bar"
           }
          ],
          "barpolar": [
           {
            "marker": {
             "line": {
              "color": "#E5ECF6",
              "width": 0.5
             },
             "pattern": {
              "fillmode": "overlay",
              "size": 10,
              "solidity": 0.2
             }
            },
            "type": "barpolar"
           }
          ],
          "carpet": [
           {
            "aaxis": {
             "endlinecolor": "#2a3f5f",
             "gridcolor": "white",
             "linecolor": "white",
             "minorgridcolor": "white",
             "startlinecolor": "#2a3f5f"
            },
            "baxis": {
             "endlinecolor": "#2a3f5f",
             "gridcolor": "white",
             "linecolor": "white",
             "minorgridcolor": "white",
             "startlinecolor": "#2a3f5f"
            },
            "type": "carpet"
           }
          ],
          "choropleth": [
           {
            "colorbar": {
             "outlinewidth": 0,
             "ticks": ""
            },
            "type": "choropleth"
           }
          ],
          "contour": [
           {
            "colorbar": {
             "outlinewidth": 0,
             "ticks": ""
            },
            "colorscale": [
             [
              0,
              "#0d0887"
             ],
             [
              0.1111111111111111,
              "#46039f"
             ],
             [
              0.2222222222222222,
              "#7201a8"
             ],
             [
              0.3333333333333333,
              "#9c179e"
             ],
             [
              0.4444444444444444,
              "#bd3786"
             ],
             [
              0.5555555555555556,
              "#d8576b"
             ],
             [
              0.6666666666666666,
              "#ed7953"
             ],
             [
              0.7777777777777778,
              "#fb9f3a"
             ],
             [
              0.8888888888888888,
              "#fdca26"
             ],
             [
              1,
              "#f0f921"
             ]
            ],
            "type": "contour"
           }
          ],
          "contourcarpet": [
           {
            "colorbar": {
             "outlinewidth": 0,
             "ticks": ""
            },
            "type": "contourcarpet"
           }
          ],
          "heatmap": [
           {
            "colorbar": {
             "outlinewidth": 0,
             "ticks": ""
            },
            "colorscale": [
             [
              0,
              "#0d0887"
             ],
             [
              0.1111111111111111,
              "#46039f"
             ],
             [
              0.2222222222222222,
              "#7201a8"
             ],
             [
              0.3333333333333333,
              "#9c179e"
             ],
             [
              0.4444444444444444,
              "#bd3786"
             ],
             [
              0.5555555555555556,
              "#d8576b"
             ],
             [
              0.6666666666666666,
              "#ed7953"
             ],
             [
              0.7777777777777778,
              "#fb9f3a"
             ],
             [
              0.8888888888888888,
              "#fdca26"
             ],
             [
              1,
              "#f0f921"
             ]
            ],
            "type": "heatmap"
           }
          ],
          "heatmapgl": [
           {
            "colorbar": {
             "outlinewidth": 0,
             "ticks": ""
            },
            "colorscale": [
             [
              0,
              "#0d0887"
             ],
             [
              0.1111111111111111,
              "#46039f"
             ],
             [
              0.2222222222222222,
              "#7201a8"
             ],
             [
              0.3333333333333333,
              "#9c179e"
             ],
             [
              0.4444444444444444,
              "#bd3786"
             ],
             [
              0.5555555555555556,
              "#d8576b"
             ],
             [
              0.6666666666666666,
              "#ed7953"
             ],
             [
              0.7777777777777778,
              "#fb9f3a"
             ],
             [
              0.8888888888888888,
              "#fdca26"
             ],
             [
              1,
              "#f0f921"
             ]
            ],
            "type": "heatmapgl"
           }
          ],
          "histogram": [
           {
            "marker": {
             "pattern": {
              "fillmode": "overlay",
              "size": 10,
              "solidity": 0.2
             }
            },
            "type": "histogram"
           }
          ],
          "histogram2d": [
           {
            "colorbar": {
             "outlinewidth": 0,
             "ticks": ""
            },
            "colorscale": [
             [
              0,
              "#0d0887"
             ],
             [
              0.1111111111111111,
              "#46039f"
             ],
             [
              0.2222222222222222,
              "#7201a8"
             ],
             [
              0.3333333333333333,
              "#9c179e"
             ],
             [
              0.4444444444444444,
              "#bd3786"
             ],
             [
              0.5555555555555556,
              "#d8576b"
             ],
             [
              0.6666666666666666,
              "#ed7953"
             ],
             [
              0.7777777777777778,
              "#fb9f3a"
             ],
             [
              0.8888888888888888,
              "#fdca26"
             ],
             [
              1,
              "#f0f921"
             ]
            ],
            "type": "histogram2d"
           }
          ],
          "histogram2dcontour": [
           {
            "colorbar": {
             "outlinewidth": 0,
             "ticks": ""
            },
            "colorscale": [
             [
              0,
              "#0d0887"
             ],
             [
              0.1111111111111111,
              "#46039f"
             ],
             [
              0.2222222222222222,
              "#7201a8"
             ],
             [
              0.3333333333333333,
              "#9c179e"
             ],
             [
              0.4444444444444444,
              "#bd3786"
             ],
             [
              0.5555555555555556,
              "#d8576b"
             ],
             [
              0.6666666666666666,
              "#ed7953"
             ],
             [
              0.7777777777777778,
              "#fb9f3a"
             ],
             [
              0.8888888888888888,
              "#fdca26"
             ],
             [
              1,
              "#f0f921"
             ]
            ],
            "type": "histogram2dcontour"
           }
          ],
          "mesh3d": [
           {
            "colorbar": {
             "outlinewidth": 0,
             "ticks": ""
            },
            "type": "mesh3d"
           }
          ],
          "parcoords": [
           {
            "line": {
             "colorbar": {
              "outlinewidth": 0,
              "ticks": ""
             }
            },
            "type": "parcoords"
           }
          ],
          "pie": [
           {
            "automargin": true,
            "type": "pie"
           }
          ],
          "scatter": [
           {
            "marker": {
             "colorbar": {
              "outlinewidth": 0,
              "ticks": ""
             }
            },
            "type": "scatter"
           }
          ],
          "scatter3d": [
           {
            "line": {
             "colorbar": {
              "outlinewidth": 0,
              "ticks": ""
             }
            },
            "marker": {
             "colorbar": {
              "outlinewidth": 0,
              "ticks": ""
             }
            },
            "type": "scatter3d"
           }
          ],
          "scattercarpet": [
           {
            "marker": {
             "colorbar": {
              "outlinewidth": 0,
              "ticks": ""
             }
            },
            "type": "scattercarpet"
           }
          ],
          "scattergeo": [
           {
            "marker": {
             "colorbar": {
              "outlinewidth": 0,
              "ticks": ""
             }
            },
            "type": "scattergeo"
           }
          ],
          "scattergl": [
           {
            "marker": {
             "colorbar": {
              "outlinewidth": 0,
              "ticks": ""
             }
            },
            "type": "scattergl"
           }
          ],
          "scattermapbox": [
           {
            "marker": {
             "colorbar": {
              "outlinewidth": 0,
              "ticks": ""
             }
            },
            "type": "scattermapbox"
           }
          ],
          "scatterpolar": [
           {
            "marker": {
             "colorbar": {
              "outlinewidth": 0,
              "ticks": ""
             }
            },
            "type": "scatterpolar"
           }
          ],
          "scatterpolargl": [
           {
            "marker": {
             "colorbar": {
              "outlinewidth": 0,
              "ticks": ""
             }
            },
            "type": "scatterpolargl"
           }
          ],
          "scatterternary": [
           {
            "marker": {
             "colorbar": {
              "outlinewidth": 0,
              "ticks": ""
             }
            },
            "type": "scatterternary"
           }
          ],
          "surface": [
           {
            "colorbar": {
             "outlinewidth": 0,
             "ticks": ""
            },
            "colorscale": [
             [
              0,
              "#0d0887"
             ],
             [
              0.1111111111111111,
              "#46039f"
             ],
             [
              0.2222222222222222,
              "#7201a8"
             ],
             [
              0.3333333333333333,
              "#9c179e"
             ],
             [
              0.4444444444444444,
              "#bd3786"
             ],
             [
              0.5555555555555556,
              "#d8576b"
             ],
             [
              0.6666666666666666,
              "#ed7953"
             ],
             [
              0.7777777777777778,
              "#fb9f3a"
             ],
             [
              0.8888888888888888,
              "#fdca26"
             ],
             [
              1,
              "#f0f921"
             ]
            ],
            "type": "surface"
           }
          ],
          "table": [
           {
            "cells": {
             "fill": {
              "color": "#EBF0F8"
             },
             "line": {
              "color": "white"
             }
            },
            "header": {
             "fill": {
              "color": "#C8D4E3"
             },
             "line": {
              "color": "white"
             }
            },
            "type": "table"
           }
          ]
         },
         "layout": {
          "annotationdefaults": {
           "arrowcolor": "#2a3f5f",
           "arrowhead": 0,
           "arrowwidth": 1
          },
          "autotypenumbers": "strict",
          "coloraxis": {
           "colorbar": {
            "outlinewidth": 0,
            "ticks": ""
           }
          },
          "colorscale": {
           "diverging": [
            [
             0,
             "#8e0152"
            ],
            [
             0.1,
             "#c51b7d"
            ],
            [
             0.2,
             "#de77ae"
            ],
            [
             0.3,
             "#f1b6da"
            ],
            [
             0.4,
             "#fde0ef"
            ],
            [
             0.5,
             "#f7f7f7"
            ],
            [
             0.6,
             "#e6f5d0"
            ],
            [
             0.7,
             "#b8e186"
            ],
            [
             0.8,
             "#7fbc41"
            ],
            [
             0.9,
             "#4d9221"
            ],
            [
             1,
             "#276419"
            ]
           ],
           "sequential": [
            [
             0,
             "#0d0887"
            ],
            [
             0.1111111111111111,
             "#46039f"
            ],
            [
             0.2222222222222222,
             "#7201a8"
            ],
            [
             0.3333333333333333,
             "#9c179e"
            ],
            [
             0.4444444444444444,
             "#bd3786"
            ],
            [
             0.5555555555555556,
             "#d8576b"
            ],
            [
             0.6666666666666666,
             "#ed7953"
            ],
            [
             0.7777777777777778,
             "#fb9f3a"
            ],
            [
             0.8888888888888888,
             "#fdca26"
            ],
            [
             1,
             "#f0f921"
            ]
           ],
           "sequentialminus": [
            [
             0,
             "#0d0887"
            ],
            [
             0.1111111111111111,
             "#46039f"
            ],
            [
             0.2222222222222222,
             "#7201a8"
            ],
            [
             0.3333333333333333,
             "#9c179e"
            ],
            [
             0.4444444444444444,
             "#bd3786"
            ],
            [
             0.5555555555555556,
             "#d8576b"
            ],
            [
             0.6666666666666666,
             "#ed7953"
            ],
            [
             0.7777777777777778,
             "#fb9f3a"
            ],
            [
             0.8888888888888888,
             "#fdca26"
            ],
            [
             1,
             "#f0f921"
            ]
           ]
          },
          "colorway": [
           "#636efa",
           "#EF553B",
           "#00cc96",
           "#ab63fa",
           "#FFA15A",
           "#19d3f3",
           "#FF6692",
           "#B6E880",
           "#FF97FF",
           "#FECB52"
          ],
          "font": {
           "color": "#2a3f5f"
          },
          "geo": {
           "bgcolor": "white",
           "lakecolor": "white",
           "landcolor": "#E5ECF6",
           "showlakes": true,
           "showland": true,
           "subunitcolor": "white"
          },
          "hoverlabel": {
           "align": "left"
          },
          "hovermode": "closest",
          "mapbox": {
           "style": "light"
          },
          "paper_bgcolor": "white",
          "plot_bgcolor": "#E5ECF6",
          "polar": {
           "angularaxis": {
            "gridcolor": "white",
            "linecolor": "white",
            "ticks": ""
           },
           "bgcolor": "#E5ECF6",
           "radialaxis": {
            "gridcolor": "white",
            "linecolor": "white",
            "ticks": ""
           }
          },
          "scene": {
           "xaxis": {
            "backgroundcolor": "#E5ECF6",
            "gridcolor": "white",
            "gridwidth": 2,
            "linecolor": "white",
            "showbackground": true,
            "ticks": "",
            "zerolinecolor": "white"
           },
           "yaxis": {
            "backgroundcolor": "#E5ECF6",
            "gridcolor": "white",
            "gridwidth": 2,
            "linecolor": "white",
            "showbackground": true,
            "ticks": "",
            "zerolinecolor": "white"
           },
           "zaxis": {
            "backgroundcolor": "#E5ECF6",
            "gridcolor": "white",
            "gridwidth": 2,
            "linecolor": "white",
            "showbackground": true,
            "ticks": "",
            "zerolinecolor": "white"
           }
          },
          "shapedefaults": {
           "line": {
            "color": "#2a3f5f"
           }
          },
          "ternary": {
           "aaxis": {
            "gridcolor": "white",
            "linecolor": "white",
            "ticks": ""
           },
           "baxis": {
            "gridcolor": "white",
            "linecolor": "white",
            "ticks": ""
           },
           "bgcolor": "#E5ECF6",
           "caxis": {
            "gridcolor": "white",
            "linecolor": "white",
            "ticks": ""
           }
          },
          "title": {
           "x": 0.05
          },
          "xaxis": {
           "automargin": true,
           "gridcolor": "white",
           "linecolor": "white",
           "ticks": "",
           "title": {
            "standoff": 15
           },
           "zerolinecolor": "white",
           "zerolinewidth": 2
          },
          "yaxis": {
           "automargin": true,
           "gridcolor": "white",
           "linecolor": "white",
           "ticks": "",
           "title": {
            "standoff": 15
           },
           "zerolinecolor": "white",
           "zerolinewidth": 2
          }
         }
        },
        "title": {
         "text": "iVAT: 2D-PCA"
        },
        "width": 600,
        "xaxis": {
         "anchor": "y",
         "domain": [
          0,
          1
         ]
        },
        "yaxis": {
         "anchor": "x",
         "domain": [
          0,
          1
         ]
        }
       }
      }
     },
     "metadata": {},
     "output_type": "display_data"
    }
   ],
   "source": [
    "ivat_2d_img = iVAT(pca_2_data, title='iVAT: 2D-PCA')\n",
    "ivat_2d_img.show()"
   ]
  },
  {
   "cell_type": "code",
   "execution_count": 13,
   "metadata": {},
   "outputs": [
    {
     "data": {
      "application/vnd.plotly.v1+json": {
       "config": {
        "plotlyServerURL": "https://plot.ly"
       },
       "data": [
        {
         "hovertemplate": "x: %{x}<br>y: %{y}<extra></extra>",
         "name": "0",
         "source": "data:image/png;base64,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",
         "type": "image",
         "xaxis": "x",
         "yaxis": "y"
        }
       ],
       "layout": {
        "height": 600,
        "template": {
         "data": {
          "bar": [
           {
            "error_x": {
             "color": "#2a3f5f"
            },
            "error_y": {
             "color": "#2a3f5f"
            },
            "marker": {
             "line": {
              "color": "#E5ECF6",
              "width": 0.5
             },
             "pattern": {
              "fillmode": "overlay",
              "size": 10,
              "solidity": 0.2
             }
            },
            "type": "bar"
           }
          ],
          "barpolar": [
           {
            "marker": {
             "line": {
              "color": "#E5ECF6",
              "width": 0.5
             },
             "pattern": {
              "fillmode": "overlay",
              "size": 10,
              "solidity": 0.2
             }
            },
            "type": "barpolar"
           }
          ],
          "carpet": [
           {
            "aaxis": {
             "endlinecolor": "#2a3f5f",
             "gridcolor": "white",
             "linecolor": "white",
             "minorgridcolor": "white",
             "startlinecolor": "#2a3f5f"
            },
            "baxis": {
             "endlinecolor": "#2a3f5f",
             "gridcolor": "white",
             "linecolor": "white",
             "minorgridcolor": "white",
             "startlinecolor": "#2a3f5f"
            },
            "type": "carpet"
           }
          ],
          "choropleth": [
           {
            "colorbar": {
             "outlinewidth": 0,
             "ticks": ""
            },
            "type": "choropleth"
           }
          ],
          "contour": [
           {
            "colorbar": {
             "outlinewidth": 0,
             "ticks": ""
            },
            "colorscale": [
             [
              0,
              "#0d0887"
             ],
             [
              0.1111111111111111,
              "#46039f"
             ],
             [
              0.2222222222222222,
              "#7201a8"
             ],
             [
              0.3333333333333333,
              "#9c179e"
             ],
             [
              0.4444444444444444,
              "#bd3786"
             ],
             [
              0.5555555555555556,
              "#d8576b"
             ],
             [
              0.6666666666666666,
              "#ed7953"
             ],
             [
              0.7777777777777778,
              "#fb9f3a"
             ],
             [
              0.8888888888888888,
              "#fdca26"
             ],
             [
              1,
              "#f0f921"
             ]
            ],
            "type": "contour"
           }
          ],
          "contourcarpet": [
           {
            "colorbar": {
             "outlinewidth": 0,
             "ticks": ""
            },
            "type": "contourcarpet"
           }
          ],
          "heatmap": [
           {
            "colorbar": {
             "outlinewidth": 0,
             "ticks": ""
            },
            "colorscale": [
             [
              0,
              "#0d0887"
             ],
             [
              0.1111111111111111,
              "#46039f"
             ],
             [
              0.2222222222222222,
              "#7201a8"
             ],
             [
              0.3333333333333333,
              "#9c179e"
             ],
             [
              0.4444444444444444,
              "#bd3786"
             ],
             [
              0.5555555555555556,
              "#d8576b"
             ],
             [
              0.6666666666666666,
              "#ed7953"
             ],
             [
              0.7777777777777778,
              "#fb9f3a"
             ],
             [
              0.8888888888888888,
              "#fdca26"
             ],
             [
              1,
              "#f0f921"
             ]
            ],
            "type": "heatmap"
           }
          ],
          "heatmapgl": [
           {
            "colorbar": {
             "outlinewidth": 0,
             "ticks": ""
            },
            "colorscale": [
             [
              0,
              "#0d0887"
             ],
             [
              0.1111111111111111,
              "#46039f"
             ],
             [
              0.2222222222222222,
              "#7201a8"
             ],
             [
              0.3333333333333333,
              "#9c179e"
             ],
             [
              0.4444444444444444,
              "#bd3786"
             ],
             [
              0.5555555555555556,
              "#d8576b"
             ],
             [
              0.6666666666666666,
              "#ed7953"
             ],
             [
              0.7777777777777778,
              "#fb9f3a"
             ],
             [
              0.8888888888888888,
              "#fdca26"
             ],
             [
              1,
              "#f0f921"
             ]
            ],
            "type": "heatmapgl"
           }
          ],
          "histogram": [
           {
            "marker": {
             "pattern": {
              "fillmode": "overlay",
              "size": 10,
              "solidity": 0.2
             }
            },
            "type": "histogram"
           }
          ],
          "histogram2d": [
           {
            "colorbar": {
             "outlinewidth": 0,
             "ticks": ""
            },
            "colorscale": [
             [
              0,
              "#0d0887"
             ],
             [
              0.1111111111111111,
              "#46039f"
             ],
             [
              0.2222222222222222,
              "#7201a8"
             ],
             [
              0.3333333333333333,
              "#9c179e"
             ],
             [
              0.4444444444444444,
              "#bd3786"
             ],
             [
              0.5555555555555556,
              "#d8576b"
             ],
             [
              0.6666666666666666,
              "#ed7953"
             ],
             [
              0.7777777777777778,
              "#fb9f3a"
             ],
             [
              0.8888888888888888,
              "#fdca26"
             ],
             [
              1,
              "#f0f921"
             ]
            ],
            "type": "histogram2d"
           }
          ],
          "histogram2dcontour": [
           {
            "colorbar": {
             "outlinewidth": 0,
             "ticks": ""
            },
            "colorscale": [
             [
              0,
              "#0d0887"
             ],
             [
              0.1111111111111111,
              "#46039f"
             ],
             [
              0.2222222222222222,
              "#7201a8"
             ],
             [
              0.3333333333333333,
              "#9c179e"
             ],
             [
              0.4444444444444444,
              "#bd3786"
             ],
             [
              0.5555555555555556,
              "#d8576b"
             ],
             [
              0.6666666666666666,
              "#ed7953"
             ],
             [
              0.7777777777777778,
              "#fb9f3a"
             ],
             [
              0.8888888888888888,
              "#fdca26"
             ],
             [
              1,
              "#f0f921"
             ]
            ],
            "type": "histogram2dcontour"
           }
          ],
          "mesh3d": [
           {
            "colorbar": {
             "outlinewidth": 0,
             "ticks": ""
            },
            "type": "mesh3d"
           }
          ],
          "parcoords": [
           {
            "line": {
             "colorbar": {
              "outlinewidth": 0,
              "ticks": ""
             }
            },
            "type": "parcoords"
           }
          ],
          "pie": [
           {
            "automargin": true,
            "type": "pie"
           }
          ],
          "scatter": [
           {
            "marker": {
             "colorbar": {
              "outlinewidth": 0,
              "ticks": ""
             }
            },
            "type": "scatter"
           }
          ],
          "scatter3d": [
           {
            "line": {
             "colorbar": {
              "outlinewidth": 0,
              "ticks": ""
             }
            },
            "marker": {
             "colorbar": {
              "outlinewidth": 0,
              "ticks": ""
             }
            },
            "type": "scatter3d"
           }
          ],
          "scattercarpet": [
           {
            "marker": {
             "colorbar": {
              "outlinewidth": 0,
              "ticks": ""
             }
            },
            "type": "scattercarpet"
           }
          ],
          "scattergeo": [
           {
            "marker": {
             "colorbar": {
              "outlinewidth": 0,
              "ticks": ""
             }
            },
            "type": "scattergeo"
           }
          ],
          "scattergl": [
           {
            "marker": {
             "colorbar": {
              "outlinewidth": 0,
              "ticks": ""
             }
            },
            "type": "scattergl"
           }
          ],
          "scattermapbox": [
           {
            "marker": {
             "colorbar": {
              "outlinewidth": 0,
              "ticks": ""
             }
            },
            "type": "scattermapbox"
           }
          ],
          "scatterpolar": [
           {
            "marker": {
             "colorbar": {
              "outlinewidth": 0,
              "ticks": ""
             }
            },
            "type": "scatterpolar"
           }
          ],
          "scatterpolargl": [
           {
            "marker": {
             "colorbar": {
              "outlinewidth": 0,
              "ticks": ""
             }
            },
            "type": "scatterpolargl"
           }
          ],
          "scatterternary": [
           {
            "marker": {
             "colorbar": {
              "outlinewidth": 0,
              "ticks": ""
             }
            },
            "type": "scatterternary"
           }
          ],
          "surface": [
           {
            "colorbar": {
             "outlinewidth": 0,
             "ticks": ""
            },
            "colorscale": [
             [
              0,
              "#0d0887"
             ],
             [
              0.1111111111111111,
              "#46039f"
             ],
             [
              0.2222222222222222,
              "#7201a8"
             ],
             [
              0.3333333333333333,
              "#9c179e"
             ],
             [
              0.4444444444444444,
              "#bd3786"
             ],
             [
              0.5555555555555556,
              "#d8576b"
             ],
             [
              0.6666666666666666,
              "#ed7953"
             ],
             [
              0.7777777777777778,
              "#fb9f3a"
             ],
             [
              0.8888888888888888,
              "#fdca26"
             ],
             [
              1,
              "#f0f921"
             ]
            ],
            "type": "surface"
           }
          ],
          "table": [
           {
            "cells": {
             "fill": {
              "color": "#EBF0F8"
             },
             "line": {
              "color": "white"
             }
            },
            "header": {
             "fill": {
              "color": "#C8D4E3"
             },
             "line": {
              "color": "white"
             }
            },
            "type": "table"
           }
          ]
         },
         "layout": {
          "annotationdefaults": {
           "arrowcolor": "#2a3f5f",
           "arrowhead": 0,
           "arrowwidth": 1
          },
          "autotypenumbers": "strict",
          "coloraxis": {
           "colorbar": {
            "outlinewidth": 0,
            "ticks": ""
           }
          },
          "colorscale": {
           "diverging": [
            [
             0,
             "#8e0152"
            ],
            [
             0.1,
             "#c51b7d"
            ],
            [
             0.2,
             "#de77ae"
            ],
            [
             0.3,
             "#f1b6da"
            ],
            [
             0.4,
             "#fde0ef"
            ],
            [
             0.5,
             "#f7f7f7"
            ],
            [
             0.6,
             "#e6f5d0"
            ],
            [
             0.7,
             "#b8e186"
            ],
            [
             0.8,
             "#7fbc41"
            ],
            [
             0.9,
             "#4d9221"
            ],
            [
             1,
             "#276419"
            ]
           ],
           "sequential": [
            [
             0,
             "#0d0887"
            ],
            [
             0.1111111111111111,
             "#46039f"
            ],
            [
             0.2222222222222222,
             "#7201a8"
            ],
            [
             0.3333333333333333,
             "#9c179e"
            ],
            [
             0.4444444444444444,
             "#bd3786"
            ],
            [
             0.5555555555555556,
             "#d8576b"
            ],
            [
             0.6666666666666666,
             "#ed7953"
            ],
            [
             0.7777777777777778,
             "#fb9f3a"
            ],
            [
             0.8888888888888888,
             "#fdca26"
            ],
            [
             1,
             "#f0f921"
            ]
           ],
           "sequentialminus": [
            [
             0,
             "#0d0887"
            ],
            [
             0.1111111111111111,
             "#46039f"
            ],
            [
             0.2222222222222222,
             "#7201a8"
            ],
            [
             0.3333333333333333,
             "#9c179e"
            ],
            [
             0.4444444444444444,
             "#bd3786"
            ],
            [
             0.5555555555555556,
             "#d8576b"
            ],
            [
             0.6666666666666666,
             "#ed7953"
            ],
            [
             0.7777777777777778,
             "#fb9f3a"
            ],
            [
             0.8888888888888888,
             "#fdca26"
            ],
            [
             1,
             "#f0f921"
            ]
           ]
          },
          "colorway": [
           "#636efa",
           "#EF553B",
           "#00cc96",
           "#ab63fa",
           "#FFA15A",
           "#19d3f3",
           "#FF6692",
           "#B6E880",
           "#FF97FF",
           "#FECB52"
          ],
          "font": {
           "color": "#2a3f5f"
          },
          "geo": {
           "bgcolor": "white",
           "lakecolor": "white",
           "landcolor": "#E5ECF6",
           "showlakes": true,
           "showland": true,
           "subunitcolor": "white"
          },
          "hoverlabel": {
           "align": "left"
          },
          "hovermode": "closest",
          "mapbox": {
           "style": "light"
          },
          "paper_bgcolor": "white",
          "plot_bgcolor": "#E5ECF6",
          "polar": {
           "angularaxis": {
            "gridcolor": "white",
            "linecolor": "white",
            "ticks": ""
           },
           "bgcolor": "#E5ECF6",
           "radialaxis": {
            "gridcolor": "white",
            "linecolor": "white",
            "ticks": ""
           }
          },
          "scene": {
           "xaxis": {
            "backgroundcolor": "#E5ECF6",
            "gridcolor": "white",
            "gridwidth": 2,
            "linecolor": "white",
            "showbackground": true,
            "ticks": "",
            "zerolinecolor": "white"
           },
           "yaxis": {
            "backgroundcolor": "#E5ECF6",
            "gridcolor": "white",
            "gridwidth": 2,
            "linecolor": "white",
            "showbackground": true,
            "ticks": "",
            "zerolinecolor": "white"
           },
           "zaxis": {
            "backgroundcolor": "#E5ECF6",
            "gridcolor": "white",
            "gridwidth": 2,
            "linecolor": "white",
            "showbackground": true,
            "ticks": "",
            "zerolinecolor": "white"
           }
          },
          "shapedefaults": {
           "line": {
            "color": "#2a3f5f"
           }
          },
          "ternary": {
           "aaxis": {
            "gridcolor": "white",
            "linecolor": "white",
            "ticks": ""
           },
           "baxis": {
            "gridcolor": "white",
            "linecolor": "white",
            "ticks": ""
           },
           "bgcolor": "#E5ECF6",
           "caxis": {
            "gridcolor": "white",
            "linecolor": "white",
            "ticks": ""
           }
          },
          "title": {
           "x": 0.05
          },
          "xaxis": {
           "automargin": true,
           "gridcolor": "white",
           "linecolor": "white",
           "ticks": "",
           "title": {
            "standoff": 15
           },
           "zerolinecolor": "white",
           "zerolinewidth": 2
          },
          "yaxis": {
           "automargin": true,
           "gridcolor": "white",
           "linecolor": "white",
           "ticks": "",
           "title": {
            "standoff": 15
           },
           "zerolinecolor": "white",
           "zerolinewidth": 2
          }
         }
        },
        "title": {
         "text": "iVAT: 3D-PCA"
        },
        "width": 600,
        "xaxis": {
         "anchor": "y",
         "domain": [
          0,
          1
         ]
        },
        "yaxis": {
         "anchor": "x",
         "domain": [
          0,
          1
         ]
        }
       }
      }
     },
     "metadata": {},
     "output_type": "display_data"
    }
   ],
   "source": [
    "ivat_3d_img = iVAT(pca_3_data, title='iVAT: 3D-PCA')\n",
    "ivat_3d_img.show()"
   ]
  },
  {
   "cell_type": "markdown",
   "metadata": {},
   "source": [
    "## Analysis of VAT and iVAT"
   ]
  }
 ],
 "metadata": {
  "interpreter": {
   "hash": "935f013ec3274d983f6cf9c6c8d3a038a9827a62579d2563240b276044aef7b2"
  },
  "kernelspec": {
   "display_name": "Python 3.8.12 ('base')",
   "language": "python",
   "name": "python3"
  },
  "language_info": {
   "codemirror_mode": {
    "name": "ipython",
    "version": 3
   },
   "file_extension": ".py",
   "mimetype": "text/x-python",
   "name": "python",
   "nbconvert_exporter": "python",
   "pygments_lexer": "ipython3",
   "version": "3.8.12"
  },
  "orig_nbformat": 4
 },
 "nbformat": 4,
 "nbformat_minor": 2
}
