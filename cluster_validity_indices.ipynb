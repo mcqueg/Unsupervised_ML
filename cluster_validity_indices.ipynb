{
 "cells": [
  {
   "cell_type": "markdown",
   "metadata": {},
   "source": [
    "# Cluster Validity\n",
    "\n",
    "#### Garrett McCue"
   ]
  },
  {
   "cell_type": "markdown",
   "metadata": {},
   "source": [
    "\n",
    "1. Implement three cluster validity indices (one must be the CS index).\n",
    "2. Taking into consideration the results you obtained after implementing VAT, iVAT (as a pre-clustering technique) and FCM (as a clustering technique), compare the results you will get after applying the validity indices with the previous results of VAT (iVAT) and FCM. What do you think the best choice for the number of clusters (C) will be?"
   ]
  },
  {
   "cell_type": "code",
   "execution_count": 5,
   "metadata": {},
   "outputs": [],
   "source": [
    "import numpy as np\n",
    "import pandas as pd\n",
    "from fcmeans import FCM\n",
    "from sklearn.preprocessing import StandardScaler\n",
    "from sklearn.decomposition import PCA"
   ]
  },
  {
   "cell_type": "code",
   "execution_count": 7,
   "metadata": {},
   "outputs": [
    {
     "data": {
      "text/html": [
       "<div>\n",
       "<style scoped>\n",
       "    .dataframe tbody tr th:only-of-type {\n",
       "        vertical-align: middle;\n",
       "    }\n",
       "\n",
       "    .dataframe tbody tr th {\n",
       "        vertical-align: top;\n",
       "    }\n",
       "\n",
       "    .dataframe thead th {\n",
       "        text-align: right;\n",
       "    }\n",
       "</style>\n",
       "<table border=\"1\" class=\"dataframe\">\n",
       "  <thead>\n",
       "    <tr style=\"text-align: right;\">\n",
       "      <th></th>\n",
       "      <th>RANK</th>\n",
       "      <th>Country</th>\n",
       "      <th>Happiness score</th>\n",
       "      <th>Whisker-high</th>\n",
       "      <th>Whisker-low</th>\n",
       "      <th>Dystopia (1.83) + residual</th>\n",
       "      <th>Explained by: GDP per capita</th>\n",
       "      <th>Explained by: Social support</th>\n",
       "      <th>Explained by: Healthy life expectancy</th>\n",
       "      <th>Explained by: Freedom to make life choices</th>\n",
       "      <th>Explained by: Generosity</th>\n",
       "      <th>Explained by: Perceptions of corruption</th>\n",
       "    </tr>\n",
       "  </thead>\n",
       "  <tbody>\n",
       "    <tr>\n",
       "      <th>0</th>\n",
       "      <td>1</td>\n",
       "      <td>Finland</td>\n",
       "      <td>7.821</td>\n",
       "      <td>7.886</td>\n",
       "      <td>7.756</td>\n",
       "      <td>2.518</td>\n",
       "      <td>1.892</td>\n",
       "      <td>1.258</td>\n",
       "      <td>0.775</td>\n",
       "      <td>0.736</td>\n",
       "      <td>0.109</td>\n",
       "      <td>0.534</td>\n",
       "    </tr>\n",
       "    <tr>\n",
       "      <th>1</th>\n",
       "      <td>2</td>\n",
       "      <td>Denmark</td>\n",
       "      <td>7.636</td>\n",
       "      <td>7.710</td>\n",
       "      <td>7.563</td>\n",
       "      <td>2.226</td>\n",
       "      <td>1.953</td>\n",
       "      <td>1.243</td>\n",
       "      <td>0.777</td>\n",
       "      <td>0.719</td>\n",
       "      <td>0.188</td>\n",
       "      <td>0.532</td>\n",
       "    </tr>\n",
       "    <tr>\n",
       "      <th>2</th>\n",
       "      <td>3</td>\n",
       "      <td>Iceland</td>\n",
       "      <td>7.557</td>\n",
       "      <td>7.651</td>\n",
       "      <td>7.464</td>\n",
       "      <td>2.320</td>\n",
       "      <td>1.936</td>\n",
       "      <td>1.320</td>\n",
       "      <td>0.803</td>\n",
       "      <td>0.718</td>\n",
       "      <td>0.270</td>\n",
       "      <td>0.191</td>\n",
       "    </tr>\n",
       "    <tr>\n",
       "      <th>3</th>\n",
       "      <td>4</td>\n",
       "      <td>Switzerland</td>\n",
       "      <td>7.512</td>\n",
       "      <td>7.586</td>\n",
       "      <td>7.437</td>\n",
       "      <td>2.153</td>\n",
       "      <td>2.026</td>\n",
       "      <td>1.226</td>\n",
       "      <td>0.822</td>\n",
       "      <td>0.677</td>\n",
       "      <td>0.147</td>\n",
       "      <td>0.461</td>\n",
       "    </tr>\n",
       "    <tr>\n",
       "      <th>4</th>\n",
       "      <td>5</td>\n",
       "      <td>Netherlands</td>\n",
       "      <td>7.415</td>\n",
       "      <td>7.471</td>\n",
       "      <td>7.359</td>\n",
       "      <td>2.137</td>\n",
       "      <td>1.945</td>\n",
       "      <td>1.206</td>\n",
       "      <td>0.787</td>\n",
       "      <td>0.651</td>\n",
       "      <td>0.271</td>\n",
       "      <td>0.419</td>\n",
       "    </tr>\n",
       "  </tbody>\n",
       "</table>\n",
       "</div>"
      ],
      "text/plain": [
       "   RANK      Country  Happiness score  Whisker-high  Whisker-low  \\\n",
       "0     1      Finland            7.821         7.886        7.756   \n",
       "1     2      Denmark            7.636         7.710        7.563   \n",
       "2     3      Iceland            7.557         7.651        7.464   \n",
       "3     4  Switzerland            7.512         7.586        7.437   \n",
       "4     5  Netherlands            7.415         7.471        7.359   \n",
       "\n",
       "   Dystopia (1.83) + residual  Explained by: GDP per capita  \\\n",
       "0                       2.518                         1.892   \n",
       "1                       2.226                         1.953   \n",
       "2                       2.320                         1.936   \n",
       "3                       2.153                         2.026   \n",
       "4                       2.137                         1.945   \n",
       "\n",
       "   Explained by: Social support  Explained by: Healthy life expectancy  \\\n",
       "0                         1.258                                  0.775   \n",
       "1                         1.243                                  0.777   \n",
       "2                         1.320                                  0.803   \n",
       "3                         1.226                                  0.822   \n",
       "4                         1.206                                  0.787   \n",
       "\n",
       "   Explained by: Freedom to make life choices  Explained by: Generosity  \\\n",
       "0                                       0.736                     0.109   \n",
       "1                                       0.719                     0.188   \n",
       "2                                       0.718                     0.270   \n",
       "3                                       0.677                     0.147   \n",
       "4                                       0.651                     0.271   \n",
       "\n",
       "   Explained by: Perceptions of corruption  \n",
       "0                                    0.534  \n",
       "1                                    0.532  \n",
       "2                                    0.191  \n",
       "3                                    0.461  \n",
       "4                                    0.419  "
      ]
     },
     "execution_count": 7,
     "metadata": {},
     "output_type": "execute_result"
    }
   ],
   "source": [
    "# import data\n",
    "hap_df = pd.read_csv(\"data/world_happiness_rankings_2022.csv\")\n",
    "ranking_df = hap_df[['RANK', 'Country']]\n",
    "metrics_df = hap_df.drop(['RANK', 'Country'], axis=1)\n",
    "\n",
    "hap_df.head()"
   ]
  },
  {
   "cell_type": "code",
   "execution_count": 13,
   "metadata": {},
   "outputs": [],
   "source": [
    "# scale data\n",
    "metrics_df = StandardScaler().fit_transform(metrics_df)\n",
    "\n",
    "# apply 2D PCA to data\n",
    "pca_2 = PCA(n_components=2)\n",
    "pca_2_data = pca_2.fit_transform(metrics_df)\n",
    "pca_2_df = pd.DataFrame(data=pca_2_data, columns=['PC1', 'PC2'])\n",
    "pca_2_ranking_df = pd.concat([ranking_df, pca_2_df], axis=1)\n",
    "\n",
    "# apply 3D PCA to data\n",
    "pca_3 = PCA(n_components=3)\n",
    "pca_3_data = pca_3.fit_transform(metrics_df)\n",
    "pca_3_df = pd.DataFrame(data=pca_3_data, columns=['PC1', 'PC2', 'PC3'])\n",
    "pca_3_ranking_df = pd.concat([ranking_df, pca_3_df], axis=1)\n",
    "\n",
    "X_2d = pca_2_df.to_numpy()\n",
    "X_3d = pca_3_df.to_numpy()"
   ]
  },
  {
   "cell_type": "markdown",
   "metadata": {},
   "source": [
    "### Classification entropy\n",
    "\n",
    "lower the index the better the clustering"
   ]
  },
  {
   "cell_type": "code",
   "execution_count": 2,
   "metadata": {},
   "outputs": [],
   "source": [
    "def ce(u):\n",
    "    n, c = u.shape\n",
    "    return abs((np.log10(u) * u).sum() / n)"
   ]
  },
  {
   "cell_type": "code",
   "execution_count": 21,
   "metadata": {},
   "outputs": [
    {
     "name": "stdout",
     "output_type": "stream",
     "text": [
      "2D Clustering: \n",
      "classification entropy with 2 number of clusters is: 0.15636960316532073\n",
      "classification entropy with 3 number of clusters is: 0.26217203099401803\n",
      "classification entropy with 4 number of clusters is: 0.31092072988828295\n",
      "classification entropy with 5 number of clusters is: 0.36385658331854787\n",
      "\n",
      "3D Clustering: \n",
      "classification entropy with 2 number of clusters is: 0.18630141922819146\n",
      "classification entropy with 3 number of clusters is: 0.299758939293352\n",
      "classification entropy with 4 number of clusters is: 0.37074073024041704\n",
      "classification entropy with 5 number of clusters is: 0.4326485534979038\n"
     ]
    }
   ],
   "source": [
    "print(\"2D Clustering: \")\n",
    "for n_clusters in range(2, 6):\n",
    "    fcm = FCM(n_clusters=n_clusters, m=2)\n",
    "    fcm.fit(X_2d)\n",
    "    u = fcm.u\n",
    "    index = ce(u)\n",
    "\n",
    "    print(f\"classification entropy with {n_clusters} number of clusters is: {index}\")\n",
    "\n",
    "print(\"\\n3D Clustering: \")\n",
    "for n_clusters in range(2, 6):\n",
    "    fcm = FCM(n_clusters=n_clusters, m=2)\n",
    "    fcm.fit(X_3d)\n",
    "    u = fcm.u\n",
    "    index = ce(u)\n",
    "\n",
    "    print(f\"classification entropy with {n_clusters} number of clusters is: {index}\")"
   ]
  },
  {
   "cell_type": "markdown",
   "metadata": {},
   "source": [
    "### Partition Coefficient\n",
    "\n",
    "larger the better"
   ]
  },
  {
   "cell_type": "code",
   "execution_count": 23,
   "metadata": {},
   "outputs": [],
   "source": [
    "def pc(u):\n",
    "    n, c = u.shape\n",
    "    return np.square(u).sum() / n"
   ]
  },
  {
   "cell_type": "code",
   "execution_count": 24,
   "metadata": {},
   "outputs": [
    {
     "name": "stdout",
     "output_type": "stream",
     "text": [
      "2D Clustering: \n",
      "partition coeficient with 2 number of clusters is: 0.778128432086986\n",
      "partition coeficient with 3 number of clusters is: 0.6568531183751598\n",
      "partition coeficient with 4 number of clusters is: 0.6264371757621778\n",
      "partition coeficient with 5 number of clusters is: 0.580008461955948\n",
      "\n",
      "3D Clustering: \n",
      "partition coeficient with 2 number of clusters is: 0.7298308248311745\n",
      "partition coeficient with 3 number of clusters is: 0.6048014776172559\n",
      "partition coeficient with 4 number of clusters is: 0.5508124458325865\n",
      "partition coeficient with 5 number of clusters is: 0.5014876229884749\n"
     ]
    }
   ],
   "source": [
    "print(\"2D Clustering: \")\n",
    "for n_clusters in range(2, 6):\n",
    "    fcm = FCM(n_clusters=n_clusters, m=2)\n",
    "    fcm.fit(X_2d)\n",
    "    u = fcm.u\n",
    "    index = pc(u)\n",
    "\n",
    "    print(f\"partition coeficient with {n_clusters} number of clusters is: {index}\")\n",
    "\n",
    "print(\"\\n3D Clustering: \")\n",
    "for n_clusters in range(2, 6):\n",
    "    fcm = FCM(n_clusters=n_clusters, m=2)\n",
    "    fcm.fit(X_3d)\n",
    "    u = fcm.u\n",
    "    index = pc(u)\n",
    "\n",
    "    print(f\"partition coeficient with {n_clusters} number of clusters is: {index}\")"
   ]
  },
  {
   "cell_type": "markdown",
   "metadata": {},
   "source": [
    "### CS Index\n",
    "\n",
    "N: number of samples  \n",
    "X: are the data points  \n",
    "C:  the number of clusters  \n",
    "ai:  the number of data points in the cluster i  \n",
    "vi:  the cluster center of cluster i "
   ]
  },
  {
   "cell_type": "code",
   "execution_count": 92,
   "metadata": {},
   "outputs": [],
   "source": [
    "def euclidean_dist(p, q):\n",
    "    temp = p - q\n",
    "    sum_sq = np.dot(temp.T, temp)\n",
    "    return(np.sqrt(sum_sq))"
   ]
  },
  {
   "cell_type": "code",
   "execution_count": 93,
   "metadata": {},
   "outputs": [],
   "source": [
    "def cs(X, centers, labels, n_clusters):\n",
    "    #bewteen data points\n",
    "    max_sum = 0\n",
    "    for c in range(1, n_clusters+1):\n",
    "        labels_c = np.array(np.where(labels == c))\n",
    "        X_c = []\n",
    "        for i in labels_c: X_c.append(X[i])\n",
    "        ai = len(X_c) \n",
    "        max_c = 0\n",
    "        for i in X_c:\n",
    "            for j in X_c:\n",
    "                dist = euclidean_dist(i, j)\n",
    "                if dist >= max_c:\n",
    "                    max_c = dist/ai\n",
    "        max_sum += max_c\n",
    "    between_points = max_sum/n_clusters\n",
    "            \n",
    "    # between clusters\n",
    "    min_sum = 0\n",
    "    for i in centers:\n",
    "        min_vi = 0\n",
    "        vi = i\n",
    "        for j in  centers:\n",
    "            dist = euclidean_dist(vi, j)\n",
    "            if dist > min_vi:\n",
    "                min_vi = dist\n",
    "        min_sum += min_vi\n",
    "\n",
    "    between_clusters = min_sum/n_clusters\n",
    "\n",
    "    return between_points / between_clusters"
   ]
  },
  {
   "cell_type": "code",
   "execution_count": 95,
   "metadata": {},
   "outputs": [
    {
     "name": "stdout",
     "output_type": "stream",
     "text": [
      "2D Clustering: \n"
     ]
    },
    {
     "ename": "ValueError",
     "evalue": "The truth value of an array with more than one element is ambiguous. Use a.any() or a.all()",
     "output_type": "error",
     "traceback": [
      "\u001b[0;31m---------------------------------------------------------------------------\u001b[0m",
      "\u001b[0;31mValueError\u001b[0m                                Traceback (most recent call last)",
      "\u001b[1;32m/Users/garrettmccue/lewisU/DATA55100/Unsupervised_ML_Assignments/cluster_validity_indices.ipynb Cell 15'\u001b[0m in \u001b[0;36m<cell line: 2>\u001b[0;34m()\u001b[0m\n\u001b[1;32m      <a href='vscode-notebook-cell:/Users/garrettmccue/lewisU/DATA55100/Unsupervised_ML_Assignments/cluster_validity_indices.ipynb#ch0000023?line=4'>5</a>\u001b[0m     centers_2d \u001b[39m=\u001b[39m fcm\u001b[39m.\u001b[39mcenters\n\u001b[1;32m      <a href='vscode-notebook-cell:/Users/garrettmccue/lewisU/DATA55100/Unsupervised_ML_Assignments/cluster_validity_indices.ipynb#ch0000023?line=5'>6</a>\u001b[0m     labels_2d \u001b[39m=\u001b[39m fcm\u001b[39m.\u001b[39mpredict(X_2d)\n\u001b[0;32m----> <a href='vscode-notebook-cell:/Users/garrettmccue/lewisU/DATA55100/Unsupervised_ML_Assignments/cluster_validity_indices.ipynb#ch0000023?line=6'>7</a>\u001b[0m     index \u001b[39m=\u001b[39m cs(X_2d, centers\u001b[39m=\u001b[39;49mcenters_2d, labels\u001b[39m=\u001b[39;49mlabels_2d, n_clusters\u001b[39m=\u001b[39;49mn_clusters)\n\u001b[1;32m      <a href='vscode-notebook-cell:/Users/garrettmccue/lewisU/DATA55100/Unsupervised_ML_Assignments/cluster_validity_indices.ipynb#ch0000023?line=8'>9</a>\u001b[0m     \u001b[39mprint\u001b[39m(\u001b[39mf\u001b[39m\u001b[39m\"\u001b[39m\u001b[39mcs index with \u001b[39m\u001b[39m{\u001b[39;00mn_clusters\u001b[39m}\u001b[39;00m\u001b[39m number of clusters is: \u001b[39m\u001b[39m{\u001b[39;00mindex\u001b[39m}\u001b[39;00m\u001b[39m\"\u001b[39m)\n\u001b[1;32m     <a href='vscode-notebook-cell:/Users/garrettmccue/lewisU/DATA55100/Unsupervised_ML_Assignments/cluster_validity_indices.ipynb#ch0000023?line=10'>11</a>\u001b[0m \u001b[39mprint\u001b[39m(\u001b[39m\"\u001b[39m\u001b[39m\\n\u001b[39;00m\u001b[39m3D Clustering: \u001b[39m\u001b[39m\"\u001b[39m)\n",
      "\u001b[1;32m/Users/garrettmccue/lewisU/DATA55100/Unsupervised_ML_Assignments/cluster_validity_indices.ipynb Cell 14'\u001b[0m in \u001b[0;36mcs\u001b[0;34m(X, centers, labels, n_clusters)\u001b[0m\n\u001b[1;32m     <a href='vscode-notebook-cell:/Users/garrettmccue/lewisU/DATA55100/Unsupervised_ML_Assignments/cluster_validity_indices.ipynb#ch0000014?line=10'>11</a>\u001b[0m     \u001b[39mfor\u001b[39;00m j \u001b[39min\u001b[39;00m X_c:\n\u001b[1;32m     <a href='vscode-notebook-cell:/Users/garrettmccue/lewisU/DATA55100/Unsupervised_ML_Assignments/cluster_validity_indices.ipynb#ch0000014?line=11'>12</a>\u001b[0m         dist \u001b[39m=\u001b[39m euclidean_dist(i, j)\n\u001b[0;32m---> <a href='vscode-notebook-cell:/Users/garrettmccue/lewisU/DATA55100/Unsupervised_ML_Assignments/cluster_validity_indices.ipynb#ch0000014?line=12'>13</a>\u001b[0m         \u001b[39mif\u001b[39;00m dist \u001b[39m>\u001b[39m\u001b[39m=\u001b[39m max_c:\n\u001b[1;32m     <a href='vscode-notebook-cell:/Users/garrettmccue/lewisU/DATA55100/Unsupervised_ML_Assignments/cluster_validity_indices.ipynb#ch0000014?line=13'>14</a>\u001b[0m             max_c \u001b[39m=\u001b[39m dist\u001b[39m/\u001b[39mai\n\u001b[1;32m     <a href='vscode-notebook-cell:/Users/garrettmccue/lewisU/DATA55100/Unsupervised_ML_Assignments/cluster_validity_indices.ipynb#ch0000014?line=14'>15</a>\u001b[0m max_sum \u001b[39m+\u001b[39m\u001b[39m=\u001b[39m max_c\n",
      "\u001b[0;31mValueError\u001b[0m: The truth value of an array with more than one element is ambiguous. Use a.any() or a.all()"
     ]
    }
   ],
   "source": [
    "print(\"2D Clustering: \")\n",
    "for n_clusters in range(2, 6):\n",
    "    fcm = FCM(n_clusters=n_clusters, m=2)\n",
    "    fcm.fit(X_2d)\n",
    "    centers_2d = fcm.centers\n",
    "    labels_2d = fcm.predict(X_2d)\n",
    "    index = cs(X_2d, centers=centers_2d, labels=labels_2d, n_clusters=n_clusters)\n",
    "\n",
    "    print(f\"cs index with {n_clusters} number of clusters is: {index}\")\n",
    "\n",
    "print(\"\\n3D Clustering: \")\n",
    "for n_clusters in range(2, 6):\n",
    "    fcm = FCM(n_clusters=n_clusters, m=2)\n",
    "    fcm.fit(X_3d)\n",
    "    centers_3d = fcm.centers\n",
    "    labels_3d = fcm.predict(X_3d)\n",
    "    index = cs(X_3d, centers=centers_3d, labels=labels_3d, n_clusters=n_clusters)\n",
    "\n",
    "    print(f\"cs index with {n_clusters} number of clusters is: {index}\")"
   ]
  },
  {
   "cell_type": "code",
   "execution_count": 73,
   "metadata": {},
   "outputs": [
    {
     "data": {
      "text/plain": [
       "[array([-4.23407564, -1.11346734])]"
      ]
     },
     "execution_count": 73,
     "metadata": {},
     "output_type": "execute_result"
    }
   ],
   "source": [
    "X_2d\n",
    "X_v = []\n",
    "X_v.append(X_2d[2])\n",
    "X_v"
   ]
  },
  {
   "cell_type": "code",
   "execution_count": 74,
   "metadata": {},
   "outputs": [
    {
     "data": {
      "text/plain": [
       "array([[-4.96692889e+00, -4.21282621e-01],\n",
       "       [-4.69710035e+00, -2.85748760e-01],\n",
       "       [-4.23407564e+00, -1.11346734e+00],\n",
       "       [-4.46369636e+00,  1.26755593e-01],\n",
       "       [-4.09278890e+00, -5.92264028e-01],\n",
       "       [-4.24147250e+00,  4.24635639e-01],\n",
       "       [-4.31315489e+00, -5.52346867e-02],\n",
       "       [-4.29335532e+00,  6.90103450e-02],\n",
       "       [-3.52118876e+00, -1.00626690e+00],\n",
       "       [-3.84659482e+00, -1.91271981e-01],\n",
       "       [-3.51250357e+00, -2.70455811e-01],\n",
       "       [-3.62749189e+00, -4.21302413e-01],\n",
       "       [-3.58076248e+00,  6.06337738e-01],\n",
       "       [-3.23533840e+00, -5.32255654e-02],\n",
       "       [-3.44398242e+00, -9.56189864e-03],\n",
       "       [-2.76559546e+00, -7.69399315e-01],\n",
       "       [-3.05510184e+00, -4.99217067e-01],\n",
       "       [-2.79311776e+00, -6.51461450e-01],\n",
       "       [-2.55135888e+00,  2.37277408e-01],\n",
       "       [-2.75539122e+00,  8.40035617e-01],\n",
       "       [-2.25374332e+00, -6.23637992e-01],\n",
       "       [-2.60444334e+00,  3.23615451e-01],\n",
       "       [-2.11668877e+00, -4.65836625e-01],\n",
       "       [-2.34584425e+00, -1.65557501e-02],\n",
       "       [-2.04439507e+00,  4.84150480e-02],\n",
       "       [-2.11123959e+00,  4.82254532e-01],\n",
       "       [-3.21643683e+00,  2.37338728e+00],\n",
       "       [-1.63352070e+00, -4.62734599e-01],\n",
       "       [-2.15934347e+00,  6.14778033e-01],\n",
       "       [-2.20983305e+00,  1.63932909e-01],\n",
       "       [-1.71741736e+00,  1.19595143e-01],\n",
       "       [-1.19898668e+00, -2.45762261e+00],\n",
       "       [-2.37496697e+00,  5.49858455e-01],\n",
       "       [-1.74913432e+00,  1.72169048e-01],\n",
       "       [-1.63824642e+00, -6.02396668e-02],\n",
       "       [-2.40376644e+00,  1.17728345e+00],\n",
       "       [-1.62690134e+00,  2.33170279e-01],\n",
       "       [-1.26111711e+00, -8.15419046e-01],\n",
       "       [-9.16938819e-01, -1.71330847e+00],\n",
       "       [-1.56003016e+00,  1.29911140e-01],\n",
       "       [-1.31808814e+00,  2.12747688e-01],\n",
       "       [-1.34421554e+00,  4.07309114e-01],\n",
       "       [-1.19836057e+00, -6.41288719e-01],\n",
       "       [-1.23197530e+00,  5.87276179e-02],\n",
       "       [-1.08650838e+00, -1.26228079e+00],\n",
       "       [-1.04867685e+00, -4.28458292e-01],\n",
       "       [-1.27045551e+00,  2.78926012e-01],\n",
       "       [-1.45889554e+00,  6.78562980e-01],\n",
       "       [-9.34531202e-01, -1.00938764e+00],\n",
       "       [-1.56505429e+00,  1.02684625e+00],\n",
       "       [-1.22423629e+00,  6.27774154e-01],\n",
       "       [-1.05686362e+00, -1.81944976e-01],\n",
       "       [-1.23959186e+00, -1.00909479e+00],\n",
       "       [-1.70269533e+00,  1.93284376e+00],\n",
       "       [-4.02394712e-01, -1.94223289e+00],\n",
       "       [-1.42735949e+00,  1.14943277e+00],\n",
       "       [-9.76483450e-01,  3.50121781e-01],\n",
       "       [-6.01122879e-01,  7.44291740e-01],\n",
       "       [-1.05274918e+00,  1.11525931e+00],\n",
       "       [-5.45260440e-01, -8.70147119e-01],\n",
       "       [-8.96922186e-01, -4.81822872e-01],\n",
       "       [-4.51193247e-01, -4.14085903e-01],\n",
       "       [-5.37180844e-01, -3.11003631e-01],\n",
       "       [-5.88948785e-01, -1.07667435e+00],\n",
       "       [-6.59979447e-01,  9.74504370e-01],\n",
       "       [-5.37402690e-01,  1.83699296e-01],\n",
       "       [-2.98824746e-01, -4.99852289e-01],\n",
       "       [-2.12336431e-02, -9.42256185e-01],\n",
       "       [-5.97029764e-01,  4.73501823e-01],\n",
       "       [-6.57688327e-01,  3.20933318e-01],\n",
       "       [ 3.51719276e-02, -5.59911293e-01],\n",
       "       [-5.74448689e-01,  8.89191525e-01],\n",
       "       [-3.76552239e-01,  2.59815434e-01],\n",
       "       [-1.06815155e-01,  2.72110820e-01],\n",
       "       [-1.23891697e-01,  5.94880842e-01],\n",
       "       [-1.09090882e-01,  3.32895839e-01],\n",
       "       [-1.36165069e-01, -2.94365303e-02],\n",
       "       [-2.64636537e-01,  6.63470373e-02],\n",
       "       [-5.81117799e-01,  1.92681270e+00],\n",
       "       [ 8.17056226e-02,  9.20396973e-01],\n",
       "       [-8.93904938e-01,  3.05475373e+00],\n",
       "       [-4.12682955e-03,  9.26002748e-01],\n",
       "       [ 2.26932993e-01, -1.58409133e-01],\n",
       "       [ 7.98111927e-01, -1.48594810e+00],\n",
       "       [-1.16402044e-01,  1.21562242e+00],\n",
       "       [ 2.32309303e-01,  8.28393850e-01],\n",
       "       [ 5.50912741e-01, -9.98532947e-01],\n",
       "       [ 1.68178568e+00, -1.92149806e+00],\n",
       "       [ 6.12675076e-01,  3.28111957e-01],\n",
       "       [ 6.83707713e-01,  3.26872171e-01],\n",
       "       [ 9.60344925e-01,  1.72372428e-01],\n",
       "       [-4.09100011e-02,  2.02136080e+00],\n",
       "       [ 1.89468646e+00, -2.98878651e+00],\n",
       "       [ 8.28092300e-01, -3.50893160e-01],\n",
       "       [ 7.91518049e-01, -3.77354260e-01],\n",
       "       [ 1.09941500e+00,  7.21628323e-01],\n",
       "       [ 2.04029042e+00, -2.61570237e+00],\n",
       "       [ 7.46374858e-01,  6.02684302e-01],\n",
       "       [ 1.96991877e+00, -1.82084448e+00],\n",
       "       [ 1.56569297e+00, -5.02144593e-01],\n",
       "       [ 1.90846086e+00, -2.52833170e+00],\n",
       "       [ 1.95528246e+00, -1.65764044e+00],\n",
       "       [ 1.72258692e+00, -1.45027115e+00],\n",
       "       [ 1.95295708e+00, -2.32900529e+00],\n",
       "       [ 9.77015215e-01,  1.28558247e+00],\n",
       "       [ 1.64303238e+00,  3.70160565e-01],\n",
       "       [ 1.65949214e+00, -1.46118381e-01],\n",
       "       [ 2.14531637e+00, -2.57947295e+00],\n",
       "       [ 2.47440630e+00, -2.13650650e+00],\n",
       "       [ 1.41107510e+00,  4.60723315e-01],\n",
       "       [ 1.89054721e+00, -1.11581263e+00],\n",
       "       [ 1.36404866e+00,  2.16802480e+00],\n",
       "       [ 2.64725570e+00, -1.59559393e+00],\n",
       "       [ 1.54042985e+00,  1.18311069e-01],\n",
       "       [ 2.78123989e+00, -1.47757984e+00],\n",
       "       [ 2.90966668e+00, -1.29517110e+00],\n",
       "       [ 2.32126115e+00, -8.78926048e-01],\n",
       "       [ 2.51853392e+00, -6.09177713e-01],\n",
       "       [ 2.47227159e+00, -1.03368152e+00],\n",
       "       [ 2.15762128e+00,  1.25151123e+00],\n",
       "       [ 2.66842536e+00, -7.97980021e-01],\n",
       "       [ 2.09846416e+00,  1.10041067e+00],\n",
       "       [ 3.16201830e+00, -1.44245716e+00],\n",
       "       [ 2.33747909e+00,  8.53167007e-01],\n",
       "       [ 2.88885416e+00,  4.71626746e-01],\n",
       "       [ 2.04155867e+00, -1.85904283e-01],\n",
       "       [ 1.57709216e+00,  2.19224150e+00],\n",
       "       [ 3.25694500e+00, -8.83293445e-01],\n",
       "       [ 1.94315334e+00,  2.32612343e+00],\n",
       "       [ 3.92180195e+00, -1.81575354e+00],\n",
       "       [ 2.60097234e+00,  8.20441092e-02],\n",
       "       [ 2.89403676e+00,  3.22992863e-01],\n",
       "       [ 2.77051986e+00,  1.25726506e+00],\n",
       "       [ 2.02198774e+00,  2.60570713e+00],\n",
       "       [ 3.73951132e+00, -9.78929622e-01],\n",
       "       [ 3.14556904e+00,  1.15011406e+00],\n",
       "       [ 3.64926912e+00,  2.87072083e-01],\n",
       "       [ 3.95678610e+00, -2.44351099e-01],\n",
       "       [ 3.22056034e+00,  9.69303977e-01],\n",
       "       [ 4.53355581e+00, -5.14964416e-01],\n",
       "       [ 4.55239478e+00,  2.64956163e-01],\n",
       "       [ 3.40624801e+00,  3.16770803e+00],\n",
       "       [ 3.80714035e+00,  1.80965168e+00],\n",
       "       [ 4.94463797e+00,  1.97422388e+00],\n",
       "       [ 4.79384712e+00,  3.45487635e+00],\n",
       "       [ 7.20900211e+00,  9.00472113e-01]])"
      ]
     },
     "execution_count": 74,
     "metadata": {},
     "output_type": "execute_result"
    }
   ],
   "source": [
    "X_2d"
   ]
  },
  {
   "cell_type": "code",
   "execution_count": 76,
   "metadata": {},
   "outputs": [
    {
     "data": {
      "text/plain": [
       "0.30195508326254183"
      ]
     },
     "execution_count": 76,
     "metadata": {},
     "output_type": "execute_result"
    }
   ],
   "source": [
    "euclidean_dist(X_2d[0], X_2d[1])"
   ]
  },
  {
   "cell_type": "code",
   "execution_count": null,
   "metadata": {},
   "outputs": [],
   "source": []
  }
 ],
 "metadata": {
  "interpreter": {
   "hash": "935f013ec3274d983f6cf9c6c8d3a038a9827a62579d2563240b276044aef7b2"
  },
  "kernelspec": {
   "display_name": "Python 3.8.12 ('base')",
   "language": "python",
   "name": "python3"
  },
  "language_info": {
   "codemirror_mode": {
    "name": "ipython",
    "version": 3
   },
   "file_extension": ".py",
   "mimetype": "text/x-python",
   "name": "python",
   "nbconvert_exporter": "python",
   "pygments_lexer": "ipython3",
   "version": "3.8.12"
  },
  "orig_nbformat": 4
 },
 "nbformat": 4,
 "nbformat_minor": 2
}
