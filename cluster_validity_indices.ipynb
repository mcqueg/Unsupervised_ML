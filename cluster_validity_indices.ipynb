{
 "cells": [
  {
   "cell_type": "markdown",
   "metadata": {},
   "source": [
    "# Cluster Validity\n",
    "\n",
    "#### Garrett McCue"
   ]
  },
  {
   "cell_type": "markdown",
   "metadata": {},
   "source": [
    "\n",
    "1. Implement three cluster validity indices (one must be the CS index).\n",
    "2. Taking into consideration the results you obtained after implementing VAT, iVAT (as a pre-clustering technique) and FCM (as a clustering technique), compare the results you will get after applying the validity indices with the previous results of VAT (iVAT) and FCM. What do you think the best choice for the number of clusters (C) will be?"
   ]
  },
  {
   "cell_type": "code",
   "execution_count": 5,
   "metadata": {},
   "outputs": [],
   "source": [
    "import numpy as np\n",
    "import pandas as pd\n",
    "from fcmeans import FCM\n",
    "from sklearn.preprocessing import StandardScaler\n",
    "from sklearn.decomposition import PCA"
   ]
  },
  {
   "cell_type": "code",
   "execution_count": 7,
   "metadata": {},
   "outputs": [
    {
     "data": {
      "text/html": [
       "<div>\n",
       "<style scoped>\n",
       "    .dataframe tbody tr th:only-of-type {\n",
       "        vertical-align: middle;\n",
       "    }\n",
       "\n",
       "    .dataframe tbody tr th {\n",
       "        vertical-align: top;\n",
       "    }\n",
       "\n",
       "    .dataframe thead th {\n",
       "        text-align: right;\n",
       "    }\n",
       "</style>\n",
       "<table border=\"1\" class=\"dataframe\">\n",
       "  <thead>\n",
       "    <tr style=\"text-align: right;\">\n",
       "      <th></th>\n",
       "      <th>RANK</th>\n",
       "      <th>Country</th>\n",
       "      <th>Happiness score</th>\n",
       "      <th>Whisker-high</th>\n",
       "      <th>Whisker-low</th>\n",
       "      <th>Dystopia (1.83) + residual</th>\n",
       "      <th>Explained by: GDP per capita</th>\n",
       "      <th>Explained by: Social support</th>\n",
       "      <th>Explained by: Healthy life expectancy</th>\n",
       "      <th>Explained by: Freedom to make life choices</th>\n",
       "      <th>Explained by: Generosity</th>\n",
       "      <th>Explained by: Perceptions of corruption</th>\n",
       "    </tr>\n",
       "  </thead>\n",
       "  <tbody>\n",
       "    <tr>\n",
       "      <th>0</th>\n",
       "      <td>1</td>\n",
       "      <td>Finland</td>\n",
       "      <td>7.821</td>\n",
       "      <td>7.886</td>\n",
       "      <td>7.756</td>\n",
       "      <td>2.518</td>\n",
       "      <td>1.892</td>\n",
       "      <td>1.258</td>\n",
       "      <td>0.775</td>\n",
       "      <td>0.736</td>\n",
       "      <td>0.109</td>\n",
       "      <td>0.534</td>\n",
       "    </tr>\n",
       "    <tr>\n",
       "      <th>1</th>\n",
       "      <td>2</td>\n",
       "      <td>Denmark</td>\n",
       "      <td>7.636</td>\n",
       "      <td>7.710</td>\n",
       "      <td>7.563</td>\n",
       "      <td>2.226</td>\n",
       "      <td>1.953</td>\n",
       "      <td>1.243</td>\n",
       "      <td>0.777</td>\n",
       "      <td>0.719</td>\n",
       "      <td>0.188</td>\n",
       "      <td>0.532</td>\n",
       "    </tr>\n",
       "    <tr>\n",
       "      <th>2</th>\n",
       "      <td>3</td>\n",
       "      <td>Iceland</td>\n",
       "      <td>7.557</td>\n",
       "      <td>7.651</td>\n",
       "      <td>7.464</td>\n",
       "      <td>2.320</td>\n",
       "      <td>1.936</td>\n",
       "      <td>1.320</td>\n",
       "      <td>0.803</td>\n",
       "      <td>0.718</td>\n",
       "      <td>0.270</td>\n",
       "      <td>0.191</td>\n",
       "    </tr>\n",
       "    <tr>\n",
       "      <th>3</th>\n",
       "      <td>4</td>\n",
       "      <td>Switzerland</td>\n",
       "      <td>7.512</td>\n",
       "      <td>7.586</td>\n",
       "      <td>7.437</td>\n",
       "      <td>2.153</td>\n",
       "      <td>2.026</td>\n",
       "      <td>1.226</td>\n",
       "      <td>0.822</td>\n",
       "      <td>0.677</td>\n",
       "      <td>0.147</td>\n",
       "      <td>0.461</td>\n",
       "    </tr>\n",
       "    <tr>\n",
       "      <th>4</th>\n",
       "      <td>5</td>\n",
       "      <td>Netherlands</td>\n",
       "      <td>7.415</td>\n",
       "      <td>7.471</td>\n",
       "      <td>7.359</td>\n",
       "      <td>2.137</td>\n",
       "      <td>1.945</td>\n",
       "      <td>1.206</td>\n",
       "      <td>0.787</td>\n",
       "      <td>0.651</td>\n",
       "      <td>0.271</td>\n",
       "      <td>0.419</td>\n",
       "    </tr>\n",
       "  </tbody>\n",
       "</table>\n",
       "</div>"
      ],
      "text/plain": [
       "   RANK      Country  Happiness score  Whisker-high  Whisker-low  \\\n",
       "0     1      Finland            7.821         7.886        7.756   \n",
       "1     2      Denmark            7.636         7.710        7.563   \n",
       "2     3      Iceland            7.557         7.651        7.464   \n",
       "3     4  Switzerland            7.512         7.586        7.437   \n",
       "4     5  Netherlands            7.415         7.471        7.359   \n",
       "\n",
       "   Dystopia (1.83) + residual  Explained by: GDP per capita  \\\n",
       "0                       2.518                         1.892   \n",
       "1                       2.226                         1.953   \n",
       "2                       2.320                         1.936   \n",
       "3                       2.153                         2.026   \n",
       "4                       2.137                         1.945   \n",
       "\n",
       "   Explained by: Social support  Explained by: Healthy life expectancy  \\\n",
       "0                         1.258                                  0.775   \n",
       "1                         1.243                                  0.777   \n",
       "2                         1.320                                  0.803   \n",
       "3                         1.226                                  0.822   \n",
       "4                         1.206                                  0.787   \n",
       "\n",
       "   Explained by: Freedom to make life choices  Explained by: Generosity  \\\n",
       "0                                       0.736                     0.109   \n",
       "1                                       0.719                     0.188   \n",
       "2                                       0.718                     0.270   \n",
       "3                                       0.677                     0.147   \n",
       "4                                       0.651                     0.271   \n",
       "\n",
       "   Explained by: Perceptions of corruption  \n",
       "0                                    0.534  \n",
       "1                                    0.532  \n",
       "2                                    0.191  \n",
       "3                                    0.461  \n",
       "4                                    0.419  "
      ]
     },
     "execution_count": 7,
     "metadata": {},
     "output_type": "execute_result"
    }
   ],
   "source": [
    "# import data\n",
    "hap_df = pd.read_csv(\"data/world_happiness_rankings_2022.csv\")\n",
    "ranking_df = hap_df[['RANK', 'Country']]\n",
    "metrics_df = hap_df.drop(['RANK', 'Country'], axis=1)\n",
    "\n",
    "hap_df.head()"
   ]
  },
  {
   "cell_type": "code",
   "execution_count": 13,
   "metadata": {},
   "outputs": [],
   "source": [
    "# scale data\n",
    "metrics_df = StandardScaler().fit_transform(metrics_df)\n",
    "\n",
    "# apply 2D PCA to data\n",
    "pca_2 = PCA(n_components=2)\n",
    "pca_2_data = pca_2.fit_transform(metrics_df)\n",
    "pca_2_df = pd.DataFrame(data=pca_2_data, columns=['PC1', 'PC2'])\n",
    "pca_2_ranking_df = pd.concat([ranking_df, pca_2_df], axis=1)\n",
    "\n",
    "# apply 3D PCA to data\n",
    "pca_3 = PCA(n_components=3)\n",
    "pca_3_data = pca_3.fit_transform(metrics_df)\n",
    "pca_3_df = pd.DataFrame(data=pca_3_data, columns=['PC1', 'PC2', 'PC3'])\n",
    "pca_3_ranking_df = pd.concat([ranking_df, pca_3_df], axis=1)\n",
    "\n",
    "X_2d = pca_2_df.to_numpy()\n",
    "X_3d = pca_3_df.to_numpy()"
   ]
  },
  {
   "cell_type": "markdown",
   "metadata": {},
   "source": [
    "### Classification entropy\n",
    "\n",
    "lower the index the better the clustering"
   ]
  },
  {
   "cell_type": "code",
   "execution_count": 2,
   "metadata": {},
   "outputs": [],
   "source": [
    "def ce(u):\n",
    "    n, c = u.shape\n",
    "    return abs((np.log10(u) * u).sum() / n)"
   ]
  },
  {
   "cell_type": "code",
   "execution_count": 21,
   "metadata": {},
   "outputs": [
    {
     "name": "stdout",
     "output_type": "stream",
     "text": [
      "2D Clustering: \n",
      "classification entropy with 2 number of clusters is: 0.15636960316532073\n",
      "classification entropy with 3 number of clusters is: 0.26217203099401803\n",
      "classification entropy with 4 number of clusters is: 0.31092072988828295\n",
      "classification entropy with 5 number of clusters is: 0.36385658331854787\n",
      "\n",
      "3D Clustering: \n",
      "classification entropy with 2 number of clusters is: 0.18630141922819146\n",
      "classification entropy with 3 number of clusters is: 0.299758939293352\n",
      "classification entropy with 4 number of clusters is: 0.37074073024041704\n",
      "classification entropy with 5 number of clusters is: 0.4326485534979038\n"
     ]
    }
   ],
   "source": [
    "print(\"2D Clustering: \")\n",
    "for n_clusters in range(2, 6):\n",
    "    fcm = FCM(n_clusters=n_clusters, m=2)\n",
    "    fcm.fit(X_2d)\n",
    "    u = fcm.u\n",
    "    index = ce(u)\n",
    "\n",
    "    print(f\"classification entropy with {n_clusters} number of clusters is: {index}\")\n",
    "\n",
    "print(\"\\n3D Clustering: \")\n",
    "for n_clusters in range(2, 6):\n",
    "    fcm = FCM(n_clusters=n_clusters, m=2)\n",
    "    fcm.fit(X_3d)\n",
    "    u = fcm.u\n",
    "    index = ce(u)\n",
    "\n",
    "    print(f\"classification entropy with {n_clusters} number of clusters is: {index}\")"
   ]
  },
  {
   "cell_type": "markdown",
   "metadata": {},
   "source": [
    "### Partition Coefficient\n",
    "\n",
    "larger the better"
   ]
  },
  {
   "cell_type": "code",
   "execution_count": 23,
   "metadata": {},
   "outputs": [],
   "source": [
    "def pc(u):\n",
    "    n, c = u.shape\n",
    "    return np.square(u).sum() / n"
   ]
  },
  {
   "cell_type": "code",
   "execution_count": 24,
   "metadata": {},
   "outputs": [
    {
     "name": "stdout",
     "output_type": "stream",
     "text": [
      "2D Clustering: \n",
      "partition coeficient with 2 number of clusters is: 0.778128432086986\n",
      "partition coeficient with 3 number of clusters is: 0.6568531183751598\n",
      "partition coeficient with 4 number of clusters is: 0.6264371757621778\n",
      "partition coeficient with 5 number of clusters is: 0.580008461955948\n",
      "\n",
      "3D Clustering: \n",
      "partition coeficient with 2 number of clusters is: 0.7298308248311745\n",
      "partition coeficient with 3 number of clusters is: 0.6048014776172559\n",
      "partition coeficient with 4 number of clusters is: 0.5508124458325865\n",
      "partition coeficient with 5 number of clusters is: 0.5014876229884749\n"
     ]
    }
   ],
   "source": [
    "print(\"2D Clustering: \")\n",
    "for n_clusters in range(2, 6):\n",
    "    fcm = FCM(n_clusters=n_clusters, m=2)\n",
    "    fcm.fit(X_2d)\n",
    "    u = fcm.u\n",
    "    index = pc(u)\n",
    "\n",
    "    print(f\"partition coeficient with {n_clusters} number of clusters is: {index}\")\n",
    "\n",
    "print(\"\\n3D Clustering: \")\n",
    "for n_clusters in range(2, 6):\n",
    "    fcm = FCM(n_clusters=n_clusters, m=2)\n",
    "    fcm.fit(X_3d)\n",
    "    u = fcm.u\n",
    "    index = pc(u)\n",
    "\n",
    "    print(f\"partition coeficient with {n_clusters} number of clusters is: {index}\")"
   ]
  },
  {
   "cell_type": "markdown",
   "metadata": {},
   "source": [
    "### CS Index\n",
    "\n",
    "N: number of samples  \n",
    "X: are the data points  \n",
    "C:  the number of clusters  \n",
    "ai:  the number of data points in the cluster i  \n",
    "vi:  the cluster center of cluster i "
   ]
  },
  {
   "cell_type": "code",
   "execution_count": 66,
   "metadata": {},
   "outputs": [],
   "source": [
    "def euclidean_dist(p, q):\n",
    "    temp = p - q\n",
    "    sum_sq = np.dot(temp.T, temp)\n",
    "    return(np.sqrt(sum_sq))\n"
   ]
  },
  {
   "cell_type": "code",
   "execution_count": 69,
   "metadata": {},
   "outputs": [],
   "source": [
    "def cs(X, centers, labels, n_clusters):\n",
    "    #bewteen data points\n",
    "    max_sum = 0\n",
    "    for c in range(1, n_clusters+1):\n",
    "        labels_c = np.array(np.where(labels == c))\n",
    "        X_c = []\n",
    "        for i in labels_c: X_c.append(X[i])\n",
    "        ai = len(X_c) \n",
    "        max_c = 0\n",
    "        for i in X_c:\n",
    "            for j in X_c:\n",
    "                dist = euclidean_dist(i, j)\n",
    "                if dist >= max_c:\n",
    "                    max_c = dist/ai\n",
    "        max_sum += max_c\n",
    "    between_points = max_sum/n_clusters\n",
    "            \n",
    "    # between clusters\n",
    "    min_sum = 0\n",
    "    for i in centers:\n",
    "        min_vi = 0\n",
    "        vi = i\n",
    "        for j in  centers:\n",
    "            dist = euclidean_dist(vi, j)\n",
    "            if dist > min_vi:\n",
    "                min_vi = dist\n",
    "        min_sum += min_vi\n",
    "\n",
    "    between_clusters = min_sum/n_clusters\n",
    "\n",
    "    return between_points / between_clusters"
   ]
  },
  {
   "cell_type": "code",
   "execution_count": 70,
   "metadata": {},
   "outputs": [
    {
     "name": "stdout",
     "output_type": "stream",
     "text": [
      "2D Clustering: \n"
     ]
    },
    {
     "ename": "ValueError",
     "evalue": "The truth value of an array with more than one element is ambiguous. Use a.any() or a.all()",
     "output_type": "error",
     "traceback": [
      "\u001b[0;31m---------------------------------------------------------------------------\u001b[0m",
      "\u001b[0;31mValueError\u001b[0m                                Traceback (most recent call last)",
      "\u001b[1;32m/Users/garrettmccue/lewisU/DATA55100/Unsupervised_ML_Assignments/cluster_validity_indices.ipynb Cell 15'\u001b[0m in \u001b[0;36m<cell line: 2>\u001b[0;34m()\u001b[0m\n\u001b[1;32m      <a href='vscode-notebook-cell:/Users/garrettmccue/lewisU/DATA55100/Unsupervised_ML_Assignments/cluster_validity_indices.ipynb#ch0000023?line=4'>5</a>\u001b[0m     centers_2d \u001b[39m=\u001b[39m fcm\u001b[39m.\u001b[39mcenters\n\u001b[1;32m      <a href='vscode-notebook-cell:/Users/garrettmccue/lewisU/DATA55100/Unsupervised_ML_Assignments/cluster_validity_indices.ipynb#ch0000023?line=5'>6</a>\u001b[0m     labels_2d \u001b[39m=\u001b[39m fcm\u001b[39m.\u001b[39mpredict(X_2d)\n\u001b[0;32m----> <a href='vscode-notebook-cell:/Users/garrettmccue/lewisU/DATA55100/Unsupervised_ML_Assignments/cluster_validity_indices.ipynb#ch0000023?line=6'>7</a>\u001b[0m     index \u001b[39m=\u001b[39m cs(X_2d, centers\u001b[39m=\u001b[39;49mcenters_2d, labels\u001b[39m=\u001b[39;49mlabels_2d, n_clusters\u001b[39m=\u001b[39;49mn_clusters)\n\u001b[1;32m      <a href='vscode-notebook-cell:/Users/garrettmccue/lewisU/DATA55100/Unsupervised_ML_Assignments/cluster_validity_indices.ipynb#ch0000023?line=8'>9</a>\u001b[0m     \u001b[39mprint\u001b[39m(\u001b[39mf\u001b[39m\u001b[39m\"\u001b[39m\u001b[39mpartition coeficient with \u001b[39m\u001b[39m{\u001b[39;00mn_clusters\u001b[39m}\u001b[39;00m\u001b[39m number of clusters is: \u001b[39m\u001b[39m{\u001b[39;00mindex\u001b[39m}\u001b[39;00m\u001b[39m\"\u001b[39m)\n\u001b[1;32m     <a href='vscode-notebook-cell:/Users/garrettmccue/lewisU/DATA55100/Unsupervised_ML_Assignments/cluster_validity_indices.ipynb#ch0000023?line=10'>11</a>\u001b[0m \u001b[39mprint\u001b[39m(\u001b[39m\"\u001b[39m\u001b[39m\\n\u001b[39;00m\u001b[39m3D Clustering: \u001b[39m\u001b[39m\"\u001b[39m)\n",
      "\u001b[1;32m/Users/garrettmccue/lewisU/DATA55100/Unsupervised_ML_Assignments/cluster_validity_indices.ipynb Cell 14'\u001b[0m in \u001b[0;36mcs\u001b[0;34m(X, centers, labels, n_clusters)\u001b[0m\n\u001b[1;32m     <a href='vscode-notebook-cell:/Users/garrettmccue/lewisU/DATA55100/Unsupervised_ML_Assignments/cluster_validity_indices.ipynb#ch0000014?line=10'>11</a>\u001b[0m     \u001b[39mfor\u001b[39;00m j \u001b[39min\u001b[39;00m X_c:\n\u001b[1;32m     <a href='vscode-notebook-cell:/Users/garrettmccue/lewisU/DATA55100/Unsupervised_ML_Assignments/cluster_validity_indices.ipynb#ch0000014?line=11'>12</a>\u001b[0m         dist \u001b[39m=\u001b[39m euclidean_dist(i, j)\n\u001b[0;32m---> <a href='vscode-notebook-cell:/Users/garrettmccue/lewisU/DATA55100/Unsupervised_ML_Assignments/cluster_validity_indices.ipynb#ch0000014?line=12'>13</a>\u001b[0m         \u001b[39mif\u001b[39;00m dist \u001b[39m>\u001b[39m\u001b[39m=\u001b[39m max_c:\n\u001b[1;32m     <a href='vscode-notebook-cell:/Users/garrettmccue/lewisU/DATA55100/Unsupervised_ML_Assignments/cluster_validity_indices.ipynb#ch0000014?line=13'>14</a>\u001b[0m             max_c \u001b[39m=\u001b[39m dist\u001b[39m/\u001b[39mai\n\u001b[1;32m     <a href='vscode-notebook-cell:/Users/garrettmccue/lewisU/DATA55100/Unsupervised_ML_Assignments/cluster_validity_indices.ipynb#ch0000014?line=14'>15</a>\u001b[0m max_sum \u001b[39m+\u001b[39m\u001b[39m=\u001b[39m max_c\n",
      "\u001b[0;31mValueError\u001b[0m: The truth value of an array with more than one element is ambiguous. Use a.any() or a.all()"
     ]
    }
   ],
   "source": [
    "print(\"2D Clustering: \")\n",
    "for n_clusters in range(2, 6):\n",
    "    fcm = FCM(n_clusters=n_clusters, m=2)\n",
    "    fcm.fit(X_2d)\n",
    "    centers_2d = fcm.centers\n",
    "    labels_2d = fcm.predict(X_2d)\n",
    "    index = cs(X_2d, centers=centers_2d, labels=labels_2d, n_clusters=n_clusters)\n",
    "\n",
    "    print(f\"partition coeficient with {n_clusters} number of clusters is: {index}\")\n",
    "\n",
    "print(\"\\n3D Clustering: \")\n",
    "for n_clusters in range(2, 6):\n",
    "    fcm = FCM(n_clusters=n_clusters, m=2)\n",
    "    fcm.fit(X_3d)\n",
    "    centers_3d = fcm.centers\n",
    "    labels_3d = fcm.predict(X_3d)\n",
    "    index = cs(X_3d, centers=centers_3d, labels=labels_3d, n_clusters=n_clusters)\n",
    "\n",
    "    print(f\"partition coeficient with {n_clusters} number of clusters is: {index}\")"
   ]
  },
  {
   "cell_type": "code",
   "execution_count": null,
   "metadata": {},
   "outputs": [],
   "source": []
  }
 ],
 "metadata": {
  "interpreter": {
   "hash": "935f013ec3274d983f6cf9c6c8d3a038a9827a62579d2563240b276044aef7b2"
  },
  "kernelspec": {
   "display_name": "Python 3.8.12 ('base')",
   "language": "python",
   "name": "python3"
  },
  "language_info": {
   "codemirror_mode": {
    "name": "ipython",
    "version": 3
   },
   "file_extension": ".py",
   "mimetype": "text/x-python",
   "name": "python",
   "nbconvert_exporter": "python",
   "pygments_lexer": "ipython3",
   "version": "3.8.12"
  },
  "orig_nbformat": 4
 },
 "nbformat": 4,
 "nbformat_minor": 2
}
