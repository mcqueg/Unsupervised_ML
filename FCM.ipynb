{
 "cells": [
  {
   "cell_type": "markdown",
   "metadata": {},
   "source": [
    "# Clustering with the Fuzzy C-means Algorithm\n",
    "\n",
    "#### Garrett McCue\n",
    "\n",
    "The goal of this assignment is to apply the fuzzy c-means clustering algorithm to the dataset used for [VAT/iVAT analysis](https://nbviewer.org/github/mcqueg/Unsupervised_ML/blob/main/VAT.ipynb) and compare the results from the clustering with the resutls from VAT/iVAT.\n"
   ]
  },
  {
   "cell_type": "markdown",
   "metadata": {},
   "source": [
    "## Fuzzy C-means\n",
    "![](https://miro.medium.com/max/700/1*O5Ynz1UI6ClCs-Bdf-MG9A.png)\n",
    "\n",
    "Fuzzy C-means clustering is a form of clustering that is referred to as \"soft clustering\". Soft clustering allows for data points to belong to more than one cluster based on their likely hood of similiarity which is defined by a distance measure. For example a data point could have a chance of belonging to cluster A [A = 0.25] and a chance of belonging to cluster B [B = 0.75], and which cluster it would belong to would be decided by a similarity threshold. If the similarity threshold was set at 0.7, then this data point would be grouped within cluster B. This algorithm works by assigning membership values to each observation for all potential clusters. Membership values are based on the distance of the observation to the centroid of a cluster, which means the closer a data point is to the centroid the greater its membership value is for that cluster. The summation of membership values for all clusters pertaining to a singluar observation should eqaul 1. The goal of the algorithm is to minimize its objective function, which can be described as the weighted summation between data points and the clusters. By optimizing the clustering through the minimization of the objective function, the algorithm is grouping points together that are closest to the respective centroid. The clustering algorithm iterates over all data points updating the membership matrix and cluster centroids after each iteration. \n",
    "\n",
    "\n",
    "## FCM Algorithm\n",
    "\n",
    "$ X = \\{x_1, x_2, ... , x_n\\} $ : the set of data points  \n",
    "$ V =  \\{v_1, v_2, ... , v_c\\}$ : set of cluster centers\n",
    "\n",
    "\n",
    "$N$ : number of data points  \n",
    "$q$ :  fuzziness  \n",
    "$c$ :  number of cluster centers\n",
    "$d_{ij}$ : Euclidean distance between $i^\\text{th}$ data point and $j^\\text{th}$ cluster center  \n",
    "$\\mu_{ij}$ : the membership of the $i^\\text{th}$ data point to the $j^\\text{th}$ cluster center  \n",
    "$\\cup$ : membership matrix of all $\\mu_{ij}$ membership values with shape \n",
    "$v_{j}$ :  the $j^\\text{th}$ cluster center  \n",
    "$\\beta$ : termination criterion\n",
    "\n",
    "Goal is to minimize:\n",
    "\n",
    "$$J(\\cup,V) = \\sum_{i=1}^{n}\\sum_{j=1}^{c}\\mu_{ij}^{q}d(\\vec{x_i} , \\vec{v_j}) $$\n",
    "where, $$d(\\vec{x_i} , \\vec{v_j}) \\text{is the Euclidean distance between the }i^\\text{th}\\text{ data point to the } j^\\text{th}\\text{ cluster center.} $$\n",
    "\n",
    "1)  Randomly select $v_j$, cluster centers\n",
    "\n",
    "2) Generate $\\cup$, the fuzzy member matrix, by calculating $\\mu_{ij}$ for $N$\n",
    "$$\\mu_{ij}=\\frac{1}{\\displaystyle\\sum_{k=1}^c\\left(\\frac{d(\\vec{x_i} ,\\vec{v_j})}{d(\\vec{x_i} , \\vec{v_j})\n",
    "}\\right)^{\\frac{2}{q - 1}}}, \\;\\forall\\: i=1,2,...N \\; \\text{and} \\; j=1,2,...,c$$\n",
    "\n",
    "3) Compute new $v_j$, cluster centers, based on $\\cup$\n",
    "$$v_j = \\frac{\\sum_{j=1}^N \\mu_{ij}^q x_i}{\\sum_{j=1}^N\\mu_{ij}^{q}}, \\; \\forall\\: j = 1,2,...,c$$\n",
    "\n",
    "4) Repeat steps (2) and (3) until $J < \\beta$, or until a set number of max iterations is met."
   ]
  },
  {
   "cell_type": "markdown",
   "metadata": {},
   "source": [
    "### Load Libraries"
   ]
  },
  {
   "cell_type": "code",
   "execution_count": 4,
   "metadata": {},
   "outputs": [],
   "source": [
    "import pandas as pd\n",
    "import numpy as np\n",
    "from sklearn.preprocessing import StandardScaler\n",
    "from sklearn.decomposition import PCA\n",
    "import plotly.express as px\n",
    "import plotly.io as pio\n",
    "pio.renderers.default = \"notebook\""
   ]
  },
  {
   "cell_type": "markdown",
   "metadata": {},
   "source": [
    "## Load and Process Data"
   ]
  },
  {
   "cell_type": "code",
   "execution_count": null,
   "metadata": {},
   "outputs": [],
   "source": [
    "# TODO: read data\n",
    "hap_df = pd.read_csv(\"data/world_happiness_rankings_2022.csv\")\n",
    "hap_df.head()\n",
    "# TODO: scale data\n",
    "\n",
    "# TODO: 2Dpca/3D pca projections\n"
   ]
  },
  {
   "cell_type": "markdown",
   "metadata": {},
   "source": [
    "## Applying FCM"
   ]
  },
  {
   "cell_type": "code",
   "execution_count": null,
   "metadata": {},
   "outputs": [],
   "source": [
    "\n",
    "# TODO: FCM\n",
    "# 3vals for C & q\n",
    "# 10-12 results\n"
   ]
  },
  {
   "cell_type": "markdown",
   "metadata": {},
   "source": [
    "## FCM Results"
   ]
  },
  {
   "cell_type": "code",
   "execution_count": null,
   "metadata": {},
   "outputs": [],
   "source": [
    "\n",
    "# TODO: plot function for all combinations of C & q\n",
    "\n"
   ]
  },
  {
   "cell_type": "markdown",
   "metadata": {},
   "source": [
    "## Clustering Analysis and comparison with VAT/iVAT "
   ]
  },
  {
   "cell_type": "markdown",
   "metadata": {},
   "source": [
    "https://towardsdatascience.com/fuzzy-c-means-clustering-with-python-f4908c714081"
   ]
  }
 ],
 "metadata": {
  "interpreter": {
   "hash": "935f013ec3274d983f6cf9c6c8d3a038a9827a62579d2563240b276044aef7b2"
  },
  "kernelspec": {
   "display_name": "Python 3.8.12 ('base')",
   "language": "python",
   "name": "python3"
  },
  "language_info": {
   "codemirror_mode": {
    "name": "ipython",
    "version": 3
   },
   "file_extension": ".py",
   "mimetype": "text/x-python",
   "name": "python",
   "nbconvert_exporter": "python",
   "pygments_lexer": "ipython3",
   "version": "3.8.12"
  },
  "orig_nbformat": 4
 },
 "nbformat": 4,
 "nbformat_minor": 2
}
