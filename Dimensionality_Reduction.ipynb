{
 "cells": [
  {
   "cell_type": "markdown",
   "metadata": {},
   "source": [
    "# Dimensionality Reduction with PCA and LDA\n",
    "\n",
    "#### Garrett McCue\n"
   ]
  },
  {
   "cell_type": "code",
   "execution_count": 1,
   "metadata": {},
   "outputs": [],
   "source": [
    "import pandas as pd\n",
    "import numpy as np\n",
    "import matplotlib\n",
    "import matplotlib.pyplot as plt\n",
    "import seaborn as sns\n",
    "from mpl_toolkits.mplot3d import Axes3D\n",
    "# import plotly.express as px\n",
    "\n",
    "sns.set_style(\"white\")\n",
    "sns.set_context(\"notebook\", font_scale=1.2) #set theme for visualizations\n",
    "%matplotlib inline"
   ]
  },
  {
   "cell_type": "markdown",
   "metadata": {},
   "source": [
    "![](https://miro.medium.com/max/1400/1*vXQ5sgMF0XmiY4Jc6gJVwA.png)\n",
    "### Table of Contents\n",
    "\n",
    "* [1. Data](#data)\n",
    "    * [1.1 Load Data](#load-data)\n",
    "    * [1.2 EDA](#eda)\n",
    "* [2. PCA](#pca)\n",
    "    * [2.1 What is PCA?](#what_is_pca)\n",
    "    * [2.2 PCA Logic](#pca-logic)\n",
    "    * [2.3 Applying PCA](#applying-pca)\n",
    "    * [2.4 PCA Results](#pca-results)\n",
    "        * [2.4.1 1D Projection](#pca1)\n",
    "        * [2.4.2 2D Projection](#pca2)\n",
    "        * [2.4.3 3D Projection](#pca3)\n",
    "    * [2.5 PCA Analysis](#pca-analysis)\n",
    "* [3. LDA](#lda)\n",
    "    * [3.1 What is LDA?](#what-is-lda)\n",
    "    * [3.2 LDA Logic](#lda-logic)\n",
    "    * [3.3 Applying LDA](#applying-lda)\n",
    "    * [3.4 LDA Results](#lda-results)\n",
    "    * [3.5 LDA Analysis](#lda-analysis)\n",
    "* [4. Conclusion](#conclusion)\n",
    "* [5. Full Code](#code)\n",
    "\n",
    "#### Aims:\n",
    "1. Apply PCA as a dimensionality reduction technique.\n",
    "2. Apply Linear Discriminate Analysis (LDA) as a dimensionality reduction technique.\n",
    "\n"
   ]
  },
  {
   "cell_type": "markdown",
   "metadata": {},
   "source": [
    "\n",
    "## 1. Data<a class=\"anchor\" id=\"data\"></a>\n",
    "\n",
    "The dataset that will be used to implement the two dimensionality reduction techniques is the [Stellar Classification Dataset](https://www.kaggle.com/datasets/fedesoriano/stellar-classification-dataset-sdss17) from Kaggle. \n",
    "The context of the data, as reported by the dataset, is quoted from Kaggle as\n",
    "> In astronomy, stellar classification is the classification of stars based on their spectral characteristics. The classification scheme of galaxies, quasars, and stars is one of the most fundamental in astronomy. The early cataloguing of stars and their distribution in the sky has led to the understanding that they make up our own galaxy and, following the distinction that Andromeda was a separate galaxy to our own, numerous galaxies began to be surveyed as more powerful telescopes were built. This datasat aims to classificate stars, galaxies, and quasars based on their spectral characteristics.\n",
    "\n",
    "The dataset consits of `100,000` observations from the [Sloan Digital Sky Survey](https://www.sdss.org/). Each observation has `17 features` columns and belongs to one of `3 classes` which are either a `star`, `galaxy`, or `quasar`. The goal of the assignment is to use `PCA` and `LDA` to reduce the dimensionality of the dataset. \n"
   ]
  },
  {
   "cell_type": "markdown",
   "metadata": {},
   "source": [
    "### 1.1 Load Data<a class=\"anchor\" id=\"load-data\"></a>"
   ]
  },
  {
   "cell_type": "code",
   "execution_count": 2,
   "metadata": {},
   "outputs": [
    {
     "data": {
      "text/plain": [
       "(100000, 18)"
      ]
     },
     "execution_count": 2,
     "metadata": {},
     "output_type": "execute_result"
    }
   ],
   "source": [
    "DATA = \"data/star_classification.csv\"\n",
    "df = pd.read_csv(DATA)\n",
    "df.shape"
   ]
  },
  {
   "cell_type": "markdown",
   "metadata": {},
   "source": [
    "### 1.2 EDA<a class=\"anchor\" id=\"eda\"></a>\n",
    "we are going to drop the obj_ID', 'run_ID','rerun_ID', 'field_ID', 'spec_obj_ID', 'MJD', 'fiber_ID', 'cam_col', 'plate' from the dataset, becasue they are identifiers from the Sloan Digital Sky Survey and are not apart of the stellar classification process. "
   ]
  },
  {
   "cell_type": "code",
   "execution_count": 3,
   "metadata": {},
   "outputs": [
    {
     "data": {
      "text/html": [
       "<div>\n",
       "<style scoped>\n",
       "    .dataframe tbody tr th:only-of-type {\n",
       "        vertical-align: middle;\n",
       "    }\n",
       "\n",
       "    .dataframe tbody tr th {\n",
       "        vertical-align: top;\n",
       "    }\n",
       "\n",
       "    .dataframe thead th {\n",
       "        text-align: right;\n",
       "    }\n",
       "</style>\n",
       "<table border=\"1\" class=\"dataframe\">\n",
       "  <thead>\n",
       "    <tr style=\"text-align: right;\">\n",
       "      <th></th>\n",
       "      <th>alpha</th>\n",
       "      <th>delta</th>\n",
       "      <th>u</th>\n",
       "      <th>g</th>\n",
       "      <th>r</th>\n",
       "      <th>i</th>\n",
       "      <th>z</th>\n",
       "      <th>class</th>\n",
       "      <th>redshift</th>\n",
       "    </tr>\n",
       "  </thead>\n",
       "  <tbody>\n",
       "    <tr>\n",
       "      <th>0</th>\n",
       "      <td>135.689107</td>\n",
       "      <td>32.494632</td>\n",
       "      <td>23.87882</td>\n",
       "      <td>22.27530</td>\n",
       "      <td>20.39501</td>\n",
       "      <td>19.16573</td>\n",
       "      <td>18.79371</td>\n",
       "      <td>GALAXY</td>\n",
       "      <td>0.634794</td>\n",
       "    </tr>\n",
       "    <tr>\n",
       "      <th>1</th>\n",
       "      <td>144.826101</td>\n",
       "      <td>31.274185</td>\n",
       "      <td>24.77759</td>\n",
       "      <td>22.83188</td>\n",
       "      <td>22.58444</td>\n",
       "      <td>21.16812</td>\n",
       "      <td>21.61427</td>\n",
       "      <td>GALAXY</td>\n",
       "      <td>0.779136</td>\n",
       "    </tr>\n",
       "    <tr>\n",
       "      <th>2</th>\n",
       "      <td>142.188790</td>\n",
       "      <td>35.582444</td>\n",
       "      <td>25.26307</td>\n",
       "      <td>22.66389</td>\n",
       "      <td>20.60976</td>\n",
       "      <td>19.34857</td>\n",
       "      <td>18.94827</td>\n",
       "      <td>GALAXY</td>\n",
       "      <td>0.644195</td>\n",
       "    </tr>\n",
       "    <tr>\n",
       "      <th>3</th>\n",
       "      <td>338.741038</td>\n",
       "      <td>-0.402828</td>\n",
       "      <td>22.13682</td>\n",
       "      <td>23.77656</td>\n",
       "      <td>21.61162</td>\n",
       "      <td>20.50454</td>\n",
       "      <td>19.25010</td>\n",
       "      <td>GALAXY</td>\n",
       "      <td>0.932346</td>\n",
       "    </tr>\n",
       "    <tr>\n",
       "      <th>4</th>\n",
       "      <td>345.282593</td>\n",
       "      <td>21.183866</td>\n",
       "      <td>19.43718</td>\n",
       "      <td>17.58028</td>\n",
       "      <td>16.49747</td>\n",
       "      <td>15.97711</td>\n",
       "      <td>15.54461</td>\n",
       "      <td>GALAXY</td>\n",
       "      <td>0.116123</td>\n",
       "    </tr>\n",
       "  </tbody>\n",
       "</table>\n",
       "</div>"
      ],
      "text/plain": [
       "        alpha      delta         u         g         r         i         z  \\\n",
       "0  135.689107  32.494632  23.87882  22.27530  20.39501  19.16573  18.79371   \n",
       "1  144.826101  31.274185  24.77759  22.83188  22.58444  21.16812  21.61427   \n",
       "2  142.188790  35.582444  25.26307  22.66389  20.60976  19.34857  18.94827   \n",
       "3  338.741038  -0.402828  22.13682  23.77656  21.61162  20.50454  19.25010   \n",
       "4  345.282593  21.183866  19.43718  17.58028  16.49747  15.97711  15.54461   \n",
       "\n",
       "    class  redshift  \n",
       "0  GALAXY  0.634794  \n",
       "1  GALAXY  0.779136  \n",
       "2  GALAXY  0.644195  \n",
       "3  GALAXY  0.932346  \n",
       "4  GALAXY  0.116123  "
      ]
     },
     "execution_count": 3,
     "metadata": {},
     "output_type": "execute_result"
    }
   ],
   "source": [
    "columns = ['obj_ID', 'run_ID','rerun_ID', 'field_ID', 'spec_obj_ID', 'MJD', 'fiber_ID', 'cam_col', 'plate']\n",
    "df = df.drop(columns=columns)\n",
    "df.head()\n"
   ]
  },
  {
   "cell_type": "code",
   "execution_count": 4,
   "metadata": {},
   "outputs": [
    {
     "data": {
      "text/html": [
       "<div>\n",
       "<style scoped>\n",
       "    .dataframe tbody tr th:only-of-type {\n",
       "        vertical-align: middle;\n",
       "    }\n",
       "\n",
       "    .dataframe tbody tr th {\n",
       "        vertical-align: top;\n",
       "    }\n",
       "\n",
       "    .dataframe thead th {\n",
       "        text-align: right;\n",
       "    }\n",
       "</style>\n",
       "<table border=\"1\" class=\"dataframe\">\n",
       "  <thead>\n",
       "    <tr style=\"text-align: right;\">\n",
       "      <th></th>\n",
       "      <th>count</th>\n",
       "      <th>mean</th>\n",
       "      <th>std</th>\n",
       "      <th>min</th>\n",
       "      <th>25%</th>\n",
       "      <th>50%</th>\n",
       "      <th>75%</th>\n",
       "      <th>max</th>\n",
       "    </tr>\n",
       "  </thead>\n",
       "  <tbody>\n",
       "    <tr>\n",
       "      <th>alpha</th>\n",
       "      <td>100000.0</td>\n",
       "      <td>177.629117</td>\n",
       "      <td>96.502241</td>\n",
       "      <td>0.005528</td>\n",
       "      <td>127.518222</td>\n",
       "      <td>180.900700</td>\n",
       "      <td>233.895005</td>\n",
       "      <td>359.999810</td>\n",
       "    </tr>\n",
       "    <tr>\n",
       "      <th>delta</th>\n",
       "      <td>100000.0</td>\n",
       "      <td>24.135305</td>\n",
       "      <td>19.644665</td>\n",
       "      <td>-18.785328</td>\n",
       "      <td>5.146771</td>\n",
       "      <td>23.645922</td>\n",
       "      <td>39.901550</td>\n",
       "      <td>83.000519</td>\n",
       "    </tr>\n",
       "    <tr>\n",
       "      <th>u</th>\n",
       "      <td>100000.0</td>\n",
       "      <td>21.980468</td>\n",
       "      <td>31.769291</td>\n",
       "      <td>-9999.000000</td>\n",
       "      <td>20.352353</td>\n",
       "      <td>22.179135</td>\n",
       "      <td>23.687440</td>\n",
       "      <td>32.781390</td>\n",
       "    </tr>\n",
       "    <tr>\n",
       "      <th>g</th>\n",
       "      <td>100000.0</td>\n",
       "      <td>20.531387</td>\n",
       "      <td>31.750292</td>\n",
       "      <td>-9999.000000</td>\n",
       "      <td>18.965230</td>\n",
       "      <td>21.099835</td>\n",
       "      <td>22.123767</td>\n",
       "      <td>31.602240</td>\n",
       "    </tr>\n",
       "    <tr>\n",
       "      <th>r</th>\n",
       "      <td>100000.0</td>\n",
       "      <td>19.645762</td>\n",
       "      <td>1.854760</td>\n",
       "      <td>9.822070</td>\n",
       "      <td>18.135828</td>\n",
       "      <td>20.125290</td>\n",
       "      <td>21.044785</td>\n",
       "      <td>29.571860</td>\n",
       "    </tr>\n",
       "    <tr>\n",
       "      <th>i</th>\n",
       "      <td>100000.0</td>\n",
       "      <td>19.084854</td>\n",
       "      <td>1.757895</td>\n",
       "      <td>9.469903</td>\n",
       "      <td>17.732285</td>\n",
       "      <td>19.405145</td>\n",
       "      <td>20.396495</td>\n",
       "      <td>32.141470</td>\n",
       "    </tr>\n",
       "    <tr>\n",
       "      <th>z</th>\n",
       "      <td>100000.0</td>\n",
       "      <td>18.668810</td>\n",
       "      <td>31.728152</td>\n",
       "      <td>-9999.000000</td>\n",
       "      <td>17.460677</td>\n",
       "      <td>19.004595</td>\n",
       "      <td>19.921120</td>\n",
       "      <td>29.383740</td>\n",
       "    </tr>\n",
       "    <tr>\n",
       "      <th>redshift</th>\n",
       "      <td>100000.0</td>\n",
       "      <td>0.576661</td>\n",
       "      <td>0.730707</td>\n",
       "      <td>-0.009971</td>\n",
       "      <td>0.054517</td>\n",
       "      <td>0.424173</td>\n",
       "      <td>0.704154</td>\n",
       "      <td>7.011245</td>\n",
       "    </tr>\n",
       "  </tbody>\n",
       "</table>\n",
       "</div>"
      ],
      "text/plain": [
       "             count        mean        std          min         25%  \\\n",
       "alpha     100000.0  177.629117  96.502241     0.005528  127.518222   \n",
       "delta     100000.0   24.135305  19.644665   -18.785328    5.146771   \n",
       "u         100000.0   21.980468  31.769291 -9999.000000   20.352353   \n",
       "g         100000.0   20.531387  31.750292 -9999.000000   18.965230   \n",
       "r         100000.0   19.645762   1.854760     9.822070   18.135828   \n",
       "i         100000.0   19.084854   1.757895     9.469903   17.732285   \n",
       "z         100000.0   18.668810  31.728152 -9999.000000   17.460677   \n",
       "redshift  100000.0    0.576661   0.730707    -0.009971    0.054517   \n",
       "\n",
       "                 50%         75%         max  \n",
       "alpha     180.900700  233.895005  359.999810  \n",
       "delta      23.645922   39.901550   83.000519  \n",
       "u          22.179135   23.687440   32.781390  \n",
       "g          21.099835   22.123767   31.602240  \n",
       "r          20.125290   21.044785   29.571860  \n",
       "i          19.405145   20.396495   32.141470  \n",
       "z          19.004595   19.921120   29.383740  \n",
       "redshift    0.424173    0.704154    7.011245  "
      ]
     },
     "execution_count": 4,
     "metadata": {},
     "output_type": "execute_result"
    }
   ],
   "source": [
    "# analyze data at a high level\n",
    "df.describe().T"
   ]
  },
  {
   "cell_type": "code",
   "execution_count": 5,
   "metadata": {},
   "outputs": [
    {
     "name": "stdout",
     "output_type": "stream",
     "text": [
      "<class 'pandas.core.frame.DataFrame'>\n",
      "RangeIndex: 100000 entries, 0 to 99999\n",
      "Data columns (total 9 columns):\n",
      " #   Column    Non-Null Count   Dtype  \n",
      "---  ------    --------------   -----  \n",
      " 0   alpha     100000 non-null  float64\n",
      " 1   delta     100000 non-null  float64\n",
      " 2   u         100000 non-null  float64\n",
      " 3   g         100000 non-null  float64\n",
      " 4   r         100000 non-null  float64\n",
      " 5   i         100000 non-null  float64\n",
      " 6   z         100000 non-null  float64\n",
      " 7   class     100000 non-null  object \n",
      " 8   redshift  100000 non-null  float64\n",
      "dtypes: float64(8), object(1)\n",
      "memory usage: 6.9+ MB\n"
     ]
    }
   ],
   "source": [
    "# see if there are any missing values\n",
    "df.info()"
   ]
  },
  {
   "cell_type": "markdown",
   "metadata": {},
   "source": [
    "We see that all columns conatin numerical data(float64) besides the class column, which contains objects. The objects in this column correspond to one of the three classes that each observation belongs to. Lets see what classes the observations are grouped into....."
   ]
  },
  {
   "cell_type": "code",
   "execution_count": 6,
   "metadata": {},
   "outputs": [
    {
     "name": "stderr",
     "output_type": "stream",
     "text": [
      "/Users/garrettmccue/anaconda3/lib/python3.8/site-packages/seaborn/_decorators.py:36: FutureWarning: Pass the following variable as a keyword arg: x. From version 0.12, the only valid positional argument will be `data`, and passing other arguments without an explicit keyword will result in an error or misinterpretation.\n",
      "  warnings.warn(\n"
     ]
    },
    {
     "data": {
      "image/png": "[encoded data removed]",
      "text/plain": [
       "<Figure size 432x288 with 1 Axes>"
      ]
     },
     "metadata": {
      "needs_background": "light"
     },
     "output_type": "display_data"
    }
   ],
   "source": [
    "# plot the number of observations within each class\n",
    "sns.countplot(df['class'], palette=\"deep\")\n",
    "sns.despine()\n",
    "plt.title(\"Class Count\")\n",
    "\n",
    "plt.show()"
   ]
  },
  {
   "cell_type": "markdown",
   "metadata": {},
   "source": [
    "The goal of the assignment is to apply dimensionality reduction techniques in order to project the classes into a lower dimension, which can lower the computational need and aid in classification of new samples. "
   ]
  },
  {
   "cell_type": "markdown",
   "metadata": {},
   "source": [
    "\n",
    "## 2. PCA<a class=\"anchor\" id=\"pca\"></a>\n"
   ]
  },
  {
   "cell_type": "markdown",
   "metadata": {},
   "source": [
    "\n",
    "### 2.1 What is PCA<a class=\"anchor\" id=\"what_is_pca\"></a>\n",
    "\n",
    " Technical description of techniques"
   ]
  },
  {
   "cell_type": "markdown",
   "metadata": {},
   "source": [
    "\n",
    "### 2.2 PCA Logic<a class=\"anchor\" id=\"pca-logic\"></a>\n",
    "\n",
    "1. compute mean of each column and subtract it from titself in order to center the data \n",
    "    * `X_mean = X - np.mean(X)`\n",
    "2. calculate covariance matrix from the centered data\n",
    "    * `cov_matrix = np.cov(X_mean)`\n",
    "3. compute eigenvectors and eigenvalues from covariance matrix\n",
    "    * `eigen_vals, eigen_vecs = np.linalg.eigh(cov_matrix)`\n",
    "4. sort the eigenvalues and eigenvectors in decreasing order by:\n",
    "    *  `np.argsort()` to sort the indices in ascending order\n",
    "    *  `np.flip()` to reverse the ascending index list into the desired descending list.\n",
    "5. select the largest _n_ amount of eigenvalues and eigenvectors\n",
    "    * _`n`_  being the desired number of principal components\n",
    "6. transform the data into a lower dimensional space by taking the dot product of the selected subset of eigenvectors and the mean-centered data. \n",
    "    * `X_pca = np.dot(eigenvec_subset, X_mean)`"
   ]
  },
  {
   "cell_type": "markdown",
   "metadata": {},
   "source": [
    "### 2.3 Applying PCA<a class=\"anchor\" id=\"applying-pca\"></a>\n"
   ]
  },
  {
   "cell_type": "code",
   "execution_count": 7,
   "metadata": {},
   "outputs": [
    {
     "name": "stdout",
     "output_type": "stream",
     "text": [
      "X shape: (100000, 8)\n",
      "classes shape: (100000, 1)\n"
     ]
    }
   ],
   "source": [
    "# seperate features and target first\n",
    "X = df.drop(columns=['class'])\n",
    "classes_df = pd.DataFrame(df['class'])\n",
    "print(\"X shape: {}\\nclasses shape: {}\".format(X.shape, classes_df.shape))"
   ]
  },
  {
   "cell_type": "markdown",
   "metadata": {},
   "source": [
    "1. compute mean of each column and subtract it from itself in order to center the data\n",
    "    * `X_mean = X - np.mean(X)`"
   ]
  },
  {
   "cell_type": "code",
   "execution_count": 8,
   "metadata": {},
   "outputs": [],
   "source": [
    "X_mean = X - np.mean(X, axis=0)"
   ]
  },
  {
   "cell_type": "markdown",
   "metadata": {},
   "source": [
    "2. calculate covariance matrix from the centered data\n",
    "    * `cov_matrix = np.cov(X_mean)`"
   ]
  },
  {
   "cell_type": "code",
   "execution_count": 9,
   "metadata": {},
   "outputs": [],
   "source": [
    "# rowvar = True by defualt...assumes features are row-wise and obsertvations are column-wise\n",
    "# set to False becasue observations are row-wise and features are column-wise\n",
    "cov_mat = np.cov(X_mean, rowvar=False)"
   ]
  },
  {
   "cell_type": "markdown",
   "metadata": {},
   "source": [
    "3. compute eigenvectors and eigenvalues from covariance matrix\n",
    "    * `eigen_vals, eigen_vecs = np.linalg.eigh(cov_matrix)`"
   ]
  },
  {
   "cell_type": "code",
   "execution_count": 10,
   "metadata": {},
   "outputs": [],
   "source": [
    "eigen_vals, eigen_vecs = np.linalg.eigh(cov_mat)"
   ]
  },
  {
   "cell_type": "markdown",
   "metadata": {},
   "source": [
    "4. sort the eigenvalues and eigenvectors in decreasing order\n",
    "    * `np.argsort()`\n",
    "    * `np.flip()`"
   ]
  },
  {
   "cell_type": "code",
   "execution_count": 11,
   "metadata": {},
   "outputs": [],
   "source": [
    "# sort the index of eigenvals using argsort() and flip() to get the largest egienvals on top\n",
    "eigenvals_sorted = eigen_vals[np.flip(np.argsort(eigen_vals))]\n",
    "# do the same to the eigenvectors using the largest eigenvals indices\n",
    "eigenvecs_sorted = eigen_vecs[:, np.flip(np.argsort(eigen_vals))]"
   ]
  },
  {
   "cell_type": "markdown",
   "metadata": {},
   "source": [
    "5. select the largest _`n`_ amount of eigenvalues and take a subset of eigenvectors\n",
    "    * _`n`_  being the desired number of principal components"
   ]
  },
  {
   "cell_type": "code",
   "execution_count": 12,
   "metadata": {},
   "outputs": [],
   "source": [
    "# given a specified n \n",
    "# we will use n = 1 here to cast the data into a 1 dimensional space\n",
    "n = 1\n",
    "eigenvec_subset = eigenvecs_sorted[:,0:n] # take a slice the first element to the specified n"
   ]
  },
  {
   "cell_type": "markdown",
   "metadata": {},
   "source": [
    "6. transform the data into a lower dimensional space by taking the dot product of the selected subset of eigenvectors and the mean-centered data. \n",
    "    * `X_pca = np.dot(eigenvec_subset, X_mean)`"
   ]
  },
  {
   "cell_type": "code",
   "execution_count": 13,
   "metadata": {},
   "outputs": [
    {
     "name": "stdout",
     "output_type": "stream",
     "text": [
      "Original shape of data: (100000, 8)\n",
      "Shape of prrojected data: (100000, 1)\n"
     ]
    }
   ],
   "source": [
    "# X_pca = np.dot(X_mean, eigenvec_subset)\n",
    "X_pca = np.dot(eigenvec_subset.T, X_mean.T).T\n",
    "print(\"Original shape of data: {}\\nShape of prrojected data: {}\".format(X.shape, X_pca.shape))\n"
   ]
  },
  {
   "cell_type": "markdown",
   "metadata": {},
   "source": [
    "We have successfully projected the 17 dimensional dataset down to a 1d representation. We can combine the code and steps from above into a function for reusablility. We will apply the PCA function to the dataset in order to view the data in 1D, 2D, and 3D projections. "
   ]
  },
  {
   "cell_type": "code",
   "execution_count": 14,
   "metadata": {},
   "outputs": [],
   "source": [
    "# create the PCA function\n",
    "\n",
    "def PCA(X, n):\n",
    "    '''\n",
    "    Arguments:\n",
    "        X -- df to be projected into a lower dimensional space.. shape (num examples, num features)\n",
    "        n -- number of desired principal components or the number of dimensions to reduce the dataset to\n",
    "            n < features \n",
    "    Returns:\n",
    "        X_pca -- the new reduced data from of shape (num examples, n)\n",
    "    '''\n",
    "    # step 1: normalize data\n",
    "    X_mean = X - np.mean(X, axis=0)\n",
    "\n",
    "    # step 2: calcualte covariance\n",
    "    cov_mat = np.cov(X_mean, rowvar=False) # False b/c observations are row-wise & features are column-wise\n",
    "\n",
    "    # step 3: compute eigenvals and eigenvectors from covariance matrix\n",
    "    eigen_vals, eigen_vecs = np.linalg.eigh(cov_mat)\n",
    "\n",
    "    # step 4: sort eigenvals index w/ argsort() and flip() to get the largest egienvals on top\n",
    "    # apply the sorted indices to the eigenvectors in order to sort them in descending order\n",
    "    eigenvecs_sorted = eigen_vecs[:, np.flip(np.argsort(eigen_vals))]\n",
    "\n",
    "    # step 5: create the eigenvector subset by slicing from the first element to the specified nth element\n",
    "    eigenvec_subset = eigenvecs_sorted[:,0:n]\n",
    "\n",
    "    #step 6: project the dataset by using the dot product and eigenvector subset\n",
    "    X_pca = np.dot(X_mean, eigenvec_subset)\n",
    "\n",
    "    return X_pca\n"
   ]
  },
  {
   "cell_type": "markdown",
   "metadata": {},
   "source": [
    "### 2.4 PCA Results<a class=\"anchor\" id=\"pca-results\"></a>"
   ]
  },
  {
   "cell_type": "markdown",
   "metadata": {},
   "source": [
    "#### 2.4.1 1D Projection <a class=\"anchor\" id=\"pca1\"></a>"
   ]
  },
  {
   "cell_type": "code",
   "execution_count": 15,
   "metadata": {},
   "outputs": [
    {
     "data": {
      "image/png": "[encoded data removed]",
      "text/plain": [
       "<Figure size 720x432 with 1 Axes>"
      ]
     },
     "metadata": {
      "needs_background": "light"
     },
     "output_type": "display_data"
    }
   ],
   "source": [
    "# create the one dimensional data and set the column to be the 1st principal component\n",
    "pca_one_df = pd.DataFrame(PCA(X, 1), columns=['PC1'])\n",
    "# join the classes back to the observations\n",
    "pca_one_df = pd.concat([pca_one_df, classes_df], axis=1)\n",
    "\n",
    "# plot the new df to view the class seperation\n",
    "f, ax = plt.subplots(figsize=(10, 6))\n",
    "sns.despine(f)\n",
    "sns.histplot(pca_one_df, x = 'PC1', hue = \"class\", multiple='stack', palette='deep')\n",
    "plt.title(\"1D PCA Projection\")\n",
    "plt.show()"
   ]
  },
  {
   "cell_type": "markdown",
   "metadata": {},
   "source": [
    "#### 2.4.1 2D Projection <a class=\"anchor\" id=\"pca2\"></a>"
   ]
  },
  {
   "cell_type": "code",
   "execution_count": 16,
   "metadata": {},
   "outputs": [
    {
     "data": {
      "image/png": "[encoded data removed]",
      "text/plain": [
       "<Figure size 720x432 with 1 Axes>"
      ]
     },
     "metadata": {
      "needs_background": "light"
     },
     "output_type": "display_data"
    }
   ],
   "source": [
    "# 2D projection\n",
    "# create the 2 dimensional data and set the columns to be the 1st and 2nd principal component\n",
    "pca_two_df = pd.DataFrame(PCA(X, 2), columns=['PC1', 'PC2'])\n",
    "# join the classes back to the observations\n",
    "pca_two_df = pd.concat([pca_two_df, classes_df], axis=1)\n",
    "\n",
    "\n",
    "# plot the new df to view the class seperation\n",
    "f, ax = plt.subplots(figsize=(10, 6))\n",
    "sns.despine(f)\n",
    "sns.scatterplot(data = pca_two_df, x = 'PC1', y = 'PC2', hue = \"class\", palette='deep')\n",
    "plt.title(\"2D PCA Projection\")\n",
    "plt.show()"
   ]
  },
  {
   "cell_type": "markdown",
   "metadata": {},
   "source": [
    "#### 2.4.1 3D Projection <a class=\"anchor\" id=\"pca3\"></a>"
   ]
  },
  {
   "cell_type": "code",
   "execution_count": 17,
   "metadata": {},
   "outputs": [
    {
     "data": {
      "image/png": "[encoded data removed]",
      "text/plain": [
       "<Figure size 432x288 with 2 Axes>"
      ]
     },
     "metadata": {
      "needs_background": "light"
     },
     "output_type": "display_data"
    }
   ],
   "source": [
    "%matplotlib inline\n",
    "# 3D projection\n",
    "# create the 3 dimensional data and set the columns to be the 1st and 2nd principal component\n",
    "pca_three_df = pd.DataFrame(PCA(X, 3), columns=['PC1', 'PC2', 'PC3'])\n",
    "# join the classes back to the observations\n",
    "pca_three_df = pd.concat([pca_three_df, classes_df], axis=1)\n",
    "\n",
    "fig_3d, ax_3d = plt.subplots(1)\n",
    "ax_3d = plt.axes(projection='3d')\n",
    "\n",
    "groups = pca_three_df.groupby(df['class'])\n",
    "for name, group in groups:\n",
    "    ax_3d.scatter3D(group['PC1'], group['PC2'], group['PC3'], s=30, label=name, alpha=.7)\n",
    "ax_3d.legend(loc=1)\n",
    "ax_3d.set(title='3D PCA Projection', xlabel='PC1', ylabel='PC2', zlabel='PC3')\n",
    "sns.despine()\n",
    "plt.show()\n",
    "\n"
   ]
  },
  {
   "cell_type": "markdown",
   "metadata": {},
   "source": [
    "### 2.5 PCA Analysis<a class=\"anchor\" id=\"pca-analysis\"></a>\n",
    "An analysis of the results, i.e., did you obtain what you expected? Were there any surprises? What conclusions can you draw from the experiments? etc."
   ]
  },
  {
   "cell_type": "markdown",
   "metadata": {},
   "source": [
    "## 3. LDA<a class=\"anchor\" id=\"lda\"></a>\n"
   ]
  },
  {
   "cell_type": "markdown",
   "metadata": {},
   "source": [
    "### 3.1 What is LDA<a class=\"anchor\" id=\"what-is-lda\"></a>\n",
    "Technical description of techniques"
   ]
  },
  {
   "cell_type": "markdown",
   "metadata": {},
   "source": [
    "### 3.2 LDA Logic<a class=\"anchor\" id=\"lda-logic\"></a>\n",
    "1. Compute the within class scatter\n",
    "    * `Sw = sum(np.dot((X_class - mean_class).T, (X_class - mean_class)))`\n",
    "2. Compute the between class scatter `Sb`\n",
    "    * `Sb = sum(class_num * np.dot((mean_class - X2_mean).T, (mean_class - X2_mean))`\n",
    "3. Calculate eigenvalues and eigenvectors from (`inv_Sw` * `Sb`)\n",
    "    * `Sw2 = np.dot(np.linalg.inv(Sw), Sb)`\n",
    "    * `eigenvals, eigenvecs = np.linalg.eigh(Sw2)`\n",
    "4. Sort the eigenvectors and eigenvalues in descending order\n",
    "    * `np.argsort()`\n",
    "    * `np.flip()`\n",
    "5. Select the largest _n_ amount of eigenvalues and eigenvectors\n",
    "6. transform the data into a lower dimensional space by taking the dot product of the selected subset of eigenvectors and the original data. \n",
    "    * `X_lda = np.dot(eigenvec_subset, X_mean)`"
   ]
  },
  {
   "cell_type": "markdown",
   "metadata": {},
   "source": [
    "### 3.3 Applying LDA<a class=\"anchor\" id=\"applying-lda\"></a>\n"
   ]
  },
  {
   "cell_type": "code",
   "execution_count": 18,
   "metadata": {},
   "outputs": [
    {
     "name": "stdout",
     "output_type": "stream",
     "text": [
      "X shape: (100000, 8)\n",
      "labels shape: (100000,)\n"
     ]
    }
   ],
   "source": [
    "# seperate features and target first\n",
    "X2 = np.array(df.drop(columns=['class']))\n",
    "labels = np.array(df['class'])\n",
    "print(\"X shape: {}\\nlabels shape: {}\".format(X.shape, labels.shape))\n"
   ]
  },
  {
   "cell_type": "markdown",
   "metadata": {},
   "source": [
    "1. Compute the within class scatter\n",
    "    * `Sw = sum(np.dot((X_class - mean_class).T, (X_class - mean_class)))`\n",
    "2. Compute the between class scatter `Sb`\n",
    "    * `Sb = sum(class_num * (mean_class - X2_mean)**2)`"
   ]
  },
  {
   "cell_type": "code",
   "execution_count": 19,
   "metadata": {},
   "outputs": [],
   "source": [
    "# unique classes\n",
    "classes = np.unique(labels)\n",
    "# find the mean of the dataset\n",
    "X2_mean = np.mean(X2, axis=0)\n",
    "# initialize the matrices for Sw and Sb of size (num_feeatures, num_features)\n",
    "Sw = np.zeros((X2.shape[1], X2.shape[1]))\n",
    "Sb = np.zeros((X2.shape[1], X2.shape[1]))\n",
    "\n",
    "for c in classes:\n",
    "    X_class = X2[labels == c]\n",
    "    mean_class = np.mean(X_class, axis=0)\n",
    "    #step1: copmute within class scatter\n",
    "    class_diff = X_class - mean_class\n",
    "   # Sw += np.dot(class_diff.T, class_diff)\n",
    "    Sw += np.cov(X_class, rowvar=False)\n",
    "\n",
    "    #step2: compute between class scatter\n",
    "    #mean_diff = mean_class - X2_mean\n",
    "    #Sb += X_class.shape[0] * np.dot(mean_diff.T, mean_diff)\n",
    "\n"
   ]
  },
  {
   "cell_type": "markdown",
   "metadata": {},
   "source": [
    "3. Calculate eigenvalues and eigenvectors from (`inv_Sw` * `Sb`)\n",
    "    * `Sw2 = np.dot(np.linalg.inv(Sw), Sb)`\n",
    "    * `eigenvals, eigenvecs = np.linalg.eigh(Sw2)`"
   ]
  },
  {
   "cell_type": "code",
   "execution_count": 20,
   "metadata": {},
   "outputs": [],
   "source": [
    "# step3a: calcualte Sw2\n",
    "inv_Sw = np.linalg.inv(Sw)\n",
    "Sw2 =  np.dot(inv_Sw, Sb)\n",
    "# step3b: compute eigenvals and eigenvectors\n",
    "eigenvals, eigenvecs = np.linalg.eigh(Sw2)\n"
   ]
  },
  {
   "cell_type": "markdown",
   "metadata": {},
   "source": [
    "4. Sort the eigenvectors and eigenvalues in descending order\n",
    "    * `np.argsort()`\n",
    "    * `np.flip()`"
   ]
  },
  {
   "cell_type": "code",
   "execution_count": 21,
   "metadata": {},
   "outputs": [],
   "source": [
    "# step4: Sort the eigenvectors and eigenvalues in descending order"
   ]
  },
  {
   "cell_type": "markdown",
   "metadata": {},
   "source": [
    "5. Select the largest _n_ amount of eigenvalues and eigenvectors\n",
    "6. transform the data into a lower dimensional space by taking the dot product of the selected subset of eigenvectors and the original data. \n",
    "    * `X_lda = np.dot(eigenvec_subset, X_mean)`"
   ]
  },
  {
   "cell_type": "code",
   "execution_count": 22,
   "metadata": {},
   "outputs": [],
   "source": [
    "#step5: select the largest n amount of eigenvalues and eigenvectors\n",
    "\n",
    "#step6: transform original data by applying the eigenvector subset from step5 to it using the dot product"
   ]
  },
  {
   "cell_type": "markdown",
   "metadata": {},
   "source": [
    "### 3.4 LDA Results<a class=\"anchor\" id=\"lda-results\"></a>\n"
   ]
  },
  {
   "cell_type": "markdown",
   "metadata": {},
   "source": [
    "### 3.5 LDA Analysis<a class=\"anchor\" id=\"lda-analysis\"></a>"
   ]
  },
  {
   "cell_type": "markdown",
   "metadata": {},
   "source": [
    "## 4. Conclusion<a class=\"anchor\" id=\"conclusion\"></a>"
   ]
  },
  {
   "cell_type": "markdown",
   "metadata": {},
   "source": [
    "## 5. Full Code<a class=\"anchor\" id=\"code\"></a>"
   ]
  },
  {
   "cell_type": "code",
   "execution_count": 23,
   "metadata": {},
   "outputs": [],
   "source": [
    "def PCA(X, n):\n",
    "    '''\n",
    "    Arguments:\n",
    "        X -- df to be projected into a lower dimensional space.. shape (num examples, num features)\n",
    "        n -- number of desired principal components or the number of dimensions to reduce the dataset to\n",
    "            n < features \n",
    "    Returns:\n",
    "        X_pca -- the new reduced data from of shape (num examples, n)\n",
    "    '''\n",
    "    # step 1: normalize data\n",
    "    X_mean = X - np.mean(X, axis=0)\n",
    "\n",
    "    # step 2: calcualte covariance\n",
    "    cov_mat = np.cov(X_mean, rowvar=False) # False b/c observations are row-wise & features are column-wise\n",
    "\n",
    "    # step 3: compute eigenvals and eigenvectors from covariance matrix\n",
    "    eigen_vals, eigen_vecs = np.linalg.eigh(cov_mat)\n",
    "\n",
    "    # step 4: sort eigenvals index w/ argsort() and flip() to get the largest egienvals on top\n",
    "    # apply the dorted indices to the eigenvectors in order to sort them in descending order\n",
    "    eigenvecs_sorted = eigen_vecs[:, np.flip(np.argsort(eigen_vals))]\n",
    "\n",
    "    # step 5: create the eigenvector subset by slicing from the first element to the specified nth element\n",
    "    eigenvec_subset = eigenvecs_sorted[:,0:n]\n",
    "\n",
    "    #step 6: project the dataset by using the dot product and eigenvector subset\n",
    "    X_pca = np.dot(X_mean, eigenvec_subset)\n",
    "\n",
    "    return X_pca\n"
   ]
  }
 ],
 "metadata": {
  "interpreter": {
   "hash": "935f013ec3274d983f6cf9c6c8d3a038a9827a62579d2563240b276044aef7b2"
  },
  "kernelspec": {
   "display_name": "Python 3 (ipykernel)",
   "language": "python",
   "name": "python3"
  },
  "language_info": {
   "codemirror_mode": {
    "name": "ipython",
    "version": 3
   },
   "file_extension": ".py",
   "mimetype": "text/x-python",
   "name": "python",
   "nbconvert_exporter": "python",
   "pygments_lexer": "ipython3",
   "version": "3.8.12"
  }
 },
 "nbformat": 4,
 "nbformat_minor": 4
}
