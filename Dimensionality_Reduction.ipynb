{
 "cells": [
  {
   "cell_type": "markdown",
   "metadata": {},
   "source": [
    "# Dimensionality Reduction with PCA and LDA\n"
   ]
  },
  {
   "cell_type": "markdown",
   "metadata": {},
   "source": [
    "### Table of Contents\n",
    "\n",
    "* [1. Data](#data)\n",
    "    * [1.1 Load Data](#load-data)\n",
    "    * [1.2 EDA](#eda)\n",
    "* [2. PCA](#pca)\n",
    "    * [2.1 What is PCA?](#what_is_pca)\n",
    "    * [2.2 PCA Logic](#pca-logic)\n",
    "    * [2.3 Applying PCA](#applying-pca)\n",
    "    * [2.4 PCA Results](#pca-results)\n",
    "    * [2.5 PCA Analysis](#pca-analysis)\n",
    "* [3. LDA](#lda)\n",
    "    * [3.1 What is LDA?](#what-is-lda)\n",
    "    * [3.2 LDA Logic](#lda-logic)\n",
    "    * [3.3 Applying LDA](#applying-lda)\n",
    "    * [3.4 LDA Results](#lda-results)\n",
    "    * [3.5 LDA Analysis](#lda-analysis)\n",
    "* [4. Conclusion](#conclusion)\n",
    "* [5. Full Code](#code)\n",
    "\n",
    "#### Aims:\n",
    "1. Apply PCA as a dimensionality reduction technique.\n",
    "2. Apply Linear Discriminate Analysis (LDA) as a dimensionality reduction technique.\n",
    "\n"
   ]
  },
  {
   "cell_type": "markdown",
   "metadata": {},
   "source": [
    "\n",
    "## 1. Data<a class=\"anchor\" id=\"data\"></a>\n",
    "\n",
    "The dataset that will be used to implement the two dimensionality reduction techniques is the [Stellar Classification Dataset](https://www.kaggle.com/datasets/fedesoriano/stellar-classification-dataset-sdss17) from Kaggle. \n",
    "The context of the data, as reported by the dataset, is quoted from Kaggle as\n",
    "> In astronomy, stellar classification is the classification of stars based on their spectral characteristics. The classification scheme of galaxies, quasars, and stars is one of the most fundamental in astronomy. The early cataloguing of stars and their distribution in the sky has led to the understanding that they make up our own galaxy and, following the distinction that Andromeda was a separate galaxy to our own, numerous galaxies began to be surveyed as more powerful telescopes were built. This datasat aims to classificate stars, galaxies, and quasars based on their spectral characteristics.\n",
    "\n",
    "The dataset consits of `100,000` observations from the [Sloan Digital Sky Survey](https://www.sdss.org/). Each observation has `17 features` columns and belongs to one of `3 classes` which are either a `star`, `galaxy`, or `quasar`. The goal of the assignment is to use `PCA` and `LDA` to reduce the dimensionality of the dataset. \n"
   ]
  },
  {
   "cell_type": "markdown",
   "metadata": {},
   "source": [
    "### 1.1 Load Data<a class=\"anchor\" id=\"load-data\"></a>"
   ]
  },
  {
   "cell_type": "markdown",
   "metadata": {},
   "source": [
    "### 1.2 EDA<a class=\"anchor\" id=\"eda\"></a>"
   ]
  },
  {
   "cell_type": "markdown",
   "metadata": {},
   "source": [
    "\n",
    "## 2. PCA<a class=\"anchor\" id=\"pca\"></a>\n"
   ]
  },
  {
   "cell_type": "markdown",
   "metadata": {},
   "source": [
    "\n",
    "### 2.1 What is PCA<a class=\"anchor\" id=\"what_is_pca\"></a>\n"
   ]
  },
  {
   "cell_type": "markdown",
   "metadata": {},
   "source": [
    "\n",
    "### 2.2 PCA Logic<a class=\"anchor\" id=\"pca-logic\"></a>\n"
   ]
  },
  {
   "cell_type": "markdown",
   "metadata": {},
   "source": [
    "### 2.3 Applying PCA<a class=\"anchor\" id=\"applying-pca\"></a>\n"
   ]
  },
  {
   "cell_type": "markdown",
   "metadata": {},
   "source": [
    "### 2.4 PCA Results<a class=\"anchor\" id=\"pca-results\"></a>\n"
   ]
  },
  {
   "cell_type": "markdown",
   "metadata": {},
   "source": [
    "### 2.5 PCA Analysis<a class=\"anchor\" id=\"pca-analysis\"></a>"
   ]
  },
  {
   "cell_type": "markdown",
   "metadata": {},
   "source": [
    "## 3. LDA<a class=\"anchor\" id=\"lda\"></a>\n"
   ]
  },
  {
   "cell_type": "markdown",
   "metadata": {},
   "source": [
    "### 3.1 What is LDA<a class=\"anchor\" id=\"what-is-lda\"></a>\n"
   ]
  },
  {
   "cell_type": "markdown",
   "metadata": {},
   "source": [
    "### 3.2 LDA Logic<a class=\"anchor\" id=\"lda-logic\"></a>\n"
   ]
  },
  {
   "cell_type": "markdown",
   "metadata": {},
   "source": [
    "### 3.3 Applying LDA<a class=\"anchor\" id=\"applying-lda\"></a>\n"
   ]
  },
  {
   "cell_type": "markdown",
   "metadata": {},
   "source": [
    "### 3.4 LDA Results<a class=\"anchor\" id=\"lda-results\"></a>\n"
   ]
  },
  {
   "cell_type": "markdown",
   "metadata": {},
   "source": [
    "### 3.5 LDA Analysis<a class=\"anchor\" id=\"lda-analysis\"></a>"
   ]
  },
  {
   "cell_type": "markdown",
   "metadata": {},
   "source": [
    "## 4. Conclusion<a class=\"anchor\" id=\"conclusion\"></a>"
   ]
  },
  {
   "cell_type": "markdown",
   "metadata": {},
   "source": [
    "## 5. Full Code<a class=\"anchor\" id=\"code\"></a>"
   ]
  }
 ],
 "metadata": {
  "interpreter": {
   "hash": "935f013ec3274d983f6cf9c6c8d3a038a9827a62579d2563240b276044aef7b2"
  },
  "kernelspec": {
   "display_name": "Python 3.8.12 ('base')",
   "language": "python",
   "name": "python3"
  },
  "language_info": {
   "name": "python",
   "version": "3.8.12"
  },
  "orig_nbformat": 4
 },
 "nbformat": 4,
 "nbformat_minor": 2
}
