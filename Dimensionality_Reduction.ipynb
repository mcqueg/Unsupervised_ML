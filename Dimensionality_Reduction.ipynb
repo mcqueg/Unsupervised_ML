{
 "cells": [
  {
   "cell_type": "markdown",
   "metadata": {},
   "source": [
    "# Dimensionality Reduction with PCA and LDA\n",
    "\n",
    "#### Garrett McCue\n"
   ]
  },
  {
   "cell_type": "code",
   "execution_count": 16,
   "metadata": {},
   "outputs": [],
   "source": [
    "import pandas as pd\n",
    "import matplotlib.pyplot as plt\n",
    "import seaborn as sns\n",
    "\n",
    "%matplotlib inline"
   ]
  },
  {
   "cell_type": "markdown",
   "metadata": {},
   "source": [
    "### Table of Contents\n",
    "\n",
    "* [1. Data](#data)\n",
    "    * [1.1 Load Data](#load-data)\n",
    "    * [1.2 EDA](#eda)\n",
    "* [2. PCA](#pca)\n",
    "    * [2.1 What is PCA?](#what_is_pca)\n",
    "    * [2.2 PCA Logic](#pca-logic)\n",
    "    * [2.3 Applying PCA](#applying-pca)\n",
    "    * [2.4 PCA Results](#pca-results)\n",
    "    * [2.5 PCA Analysis](#pca-analysis)\n",
    "* [3. LDA](#lda)\n",
    "    * [3.1 What is LDA?](#what-is-lda)\n",
    "    * [3.2 LDA Logic](#lda-logic)\n",
    "    * [3.3 Applying LDA](#applying-lda)\n",
    "    * [3.4 LDA Results](#lda-results)\n",
    "    * [3.5 LDA Analysis](#lda-analysis)\n",
    "* [4. Conclusion](#conclusion)\n",
    "* [5. Full Code](#code)\n",
    "\n",
    "#### Aims:\n",
    "1. Apply PCA as a dimensionality reduction technique.\n",
    "2. Apply Linear Discriminate Analysis (LDA) as a dimensionality reduction technique.\n",
    "\n"
   ]
  },
  {
   "cell_type": "markdown",
   "metadata": {},
   "source": [
    "\n",
    "## 1. Data<a class=\"anchor\" id=\"data\"></a>\n",
    "\n",
    "The dataset that will be used to implement the two dimensionality reduction techniques is the [Stellar Classification Dataset](https://www.kaggle.com/datasets/fedesoriano/stellar-classification-dataset-sdss17) from Kaggle. \n",
    "The context of the data, as reported by the dataset, is quoted from Kaggle as\n",
    "> In astronomy, stellar classification is the classification of stars based on their spectral characteristics. The classification scheme of galaxies, quasars, and stars is one of the most fundamental in astronomy. The early cataloguing of stars and their distribution in the sky has led to the understanding that they make up our own galaxy and, following the distinction that Andromeda was a separate galaxy to our own, numerous galaxies began to be surveyed as more powerful telescopes were built. This datasat aims to classificate stars, galaxies, and quasars based on their spectral characteristics.\n",
    "\n",
    "The dataset consits of `100,000` observations from the [Sloan Digital Sky Survey](https://www.sdss.org/). Each observation has `17 features` columns and belongs to one of `3 classes` which are either a `star`, `galaxy`, or `quasar`. The goal of the assignment is to use `PCA` and `LDA` to reduce the dimensionality of the dataset. \n"
   ]
  },
  {
   "cell_type": "markdown",
   "metadata": {},
   "source": [
    "### 1.1 Load Data<a class=\"anchor\" id=\"load-data\"></a>"
   ]
  },
  {
   "cell_type": "code",
   "execution_count": 11,
   "metadata": {},
   "outputs": [
    {
     "data": {
      "text/plain": [
       "(100000, 18)"
      ]
     },
     "execution_count": 11,
     "metadata": {},
     "output_type": "execute_result"
    }
   ],
   "source": [
    "DATA = \"data/star_classification.csv\"\n",
    "df = pd.read_csv(DATA)\n",
    "df.shape"
   ]
  },
  {
   "cell_type": "markdown",
   "metadata": {},
   "source": [
    "### 1.2 EDA<a class=\"anchor\" id=\"eda\"></a>"
   ]
  },
  {
   "cell_type": "code",
   "execution_count": 12,
   "metadata": {},
   "outputs": [
    {
     "data": {
      "text/html": [
       "<div>\n",
       "<style scoped>\n",
       "    .dataframe tbody tr th:only-of-type {\n",
       "        vertical-align: middle;\n",
       "    }\n",
       "\n",
       "    .dataframe tbody tr th {\n",
       "        vertical-align: top;\n",
       "    }\n",
       "\n",
       "    .dataframe thead th {\n",
       "        text-align: right;\n",
       "    }\n",
       "</style>\n",
       "<table border=\"1\" class=\"dataframe\">\n",
       "  <thead>\n",
       "    <tr style=\"text-align: right;\">\n",
       "      <th></th>\n",
       "      <th>obj_ID</th>\n",
       "      <th>alpha</th>\n",
       "      <th>delta</th>\n",
       "      <th>u</th>\n",
       "      <th>g</th>\n",
       "      <th>r</th>\n",
       "      <th>i</th>\n",
       "      <th>z</th>\n",
       "      <th>run_ID</th>\n",
       "      <th>rerun_ID</th>\n",
       "      <th>cam_col</th>\n",
       "      <th>field_ID</th>\n",
       "      <th>spec_obj_ID</th>\n",
       "      <th>class</th>\n",
       "      <th>redshift</th>\n",
       "      <th>plate</th>\n",
       "      <th>MJD</th>\n",
       "      <th>fiber_ID</th>\n",
       "    </tr>\n",
       "  </thead>\n",
       "  <tbody>\n",
       "    <tr>\n",
       "      <th>0</th>\n",
       "      <td>1.237661e+18</td>\n",
       "      <td>135.689107</td>\n",
       "      <td>32.494632</td>\n",
       "      <td>23.87882</td>\n",
       "      <td>22.27530</td>\n",
       "      <td>20.39501</td>\n",
       "      <td>19.16573</td>\n",
       "      <td>18.79371</td>\n",
       "      <td>3606</td>\n",
       "      <td>301</td>\n",
       "      <td>2</td>\n",
       "      <td>79</td>\n",
       "      <td>6.543777e+18</td>\n",
       "      <td>GALAXY</td>\n",
       "      <td>0.634794</td>\n",
       "      <td>5812</td>\n",
       "      <td>56354</td>\n",
       "      <td>171</td>\n",
       "    </tr>\n",
       "    <tr>\n",
       "      <th>1</th>\n",
       "      <td>1.237665e+18</td>\n",
       "      <td>144.826101</td>\n",
       "      <td>31.274185</td>\n",
       "      <td>24.77759</td>\n",
       "      <td>22.83188</td>\n",
       "      <td>22.58444</td>\n",
       "      <td>21.16812</td>\n",
       "      <td>21.61427</td>\n",
       "      <td>4518</td>\n",
       "      <td>301</td>\n",
       "      <td>5</td>\n",
       "      <td>119</td>\n",
       "      <td>1.176014e+19</td>\n",
       "      <td>GALAXY</td>\n",
       "      <td>0.779136</td>\n",
       "      <td>10445</td>\n",
       "      <td>58158</td>\n",
       "      <td>427</td>\n",
       "    </tr>\n",
       "    <tr>\n",
       "      <th>2</th>\n",
       "      <td>1.237661e+18</td>\n",
       "      <td>142.188790</td>\n",
       "      <td>35.582444</td>\n",
       "      <td>25.26307</td>\n",
       "      <td>22.66389</td>\n",
       "      <td>20.60976</td>\n",
       "      <td>19.34857</td>\n",
       "      <td>18.94827</td>\n",
       "      <td>3606</td>\n",
       "      <td>301</td>\n",
       "      <td>2</td>\n",
       "      <td>120</td>\n",
       "      <td>5.152200e+18</td>\n",
       "      <td>GALAXY</td>\n",
       "      <td>0.644195</td>\n",
       "      <td>4576</td>\n",
       "      <td>55592</td>\n",
       "      <td>299</td>\n",
       "    </tr>\n",
       "    <tr>\n",
       "      <th>3</th>\n",
       "      <td>1.237663e+18</td>\n",
       "      <td>338.741038</td>\n",
       "      <td>-0.402828</td>\n",
       "      <td>22.13682</td>\n",
       "      <td>23.77656</td>\n",
       "      <td>21.61162</td>\n",
       "      <td>20.50454</td>\n",
       "      <td>19.25010</td>\n",
       "      <td>4192</td>\n",
       "      <td>301</td>\n",
       "      <td>3</td>\n",
       "      <td>214</td>\n",
       "      <td>1.030107e+19</td>\n",
       "      <td>GALAXY</td>\n",
       "      <td>0.932346</td>\n",
       "      <td>9149</td>\n",
       "      <td>58039</td>\n",
       "      <td>775</td>\n",
       "    </tr>\n",
       "    <tr>\n",
       "      <th>4</th>\n",
       "      <td>1.237680e+18</td>\n",
       "      <td>345.282593</td>\n",
       "      <td>21.183866</td>\n",
       "      <td>19.43718</td>\n",
       "      <td>17.58028</td>\n",
       "      <td>16.49747</td>\n",
       "      <td>15.97711</td>\n",
       "      <td>15.54461</td>\n",
       "      <td>8102</td>\n",
       "      <td>301</td>\n",
       "      <td>3</td>\n",
       "      <td>137</td>\n",
       "      <td>6.891865e+18</td>\n",
       "      <td>GALAXY</td>\n",
       "      <td>0.116123</td>\n",
       "      <td>6121</td>\n",
       "      <td>56187</td>\n",
       "      <td>842</td>\n",
       "    </tr>\n",
       "  </tbody>\n",
       "</table>\n",
       "</div>"
      ],
      "text/plain": [
       "         obj_ID       alpha      delta         u         g         r  \\\n",
       "0  1.237661e+18  135.689107  32.494632  23.87882  22.27530  20.39501   \n",
       "1  1.237665e+18  144.826101  31.274185  24.77759  22.83188  22.58444   \n",
       "2  1.237661e+18  142.188790  35.582444  25.26307  22.66389  20.60976   \n",
       "3  1.237663e+18  338.741038  -0.402828  22.13682  23.77656  21.61162   \n",
       "4  1.237680e+18  345.282593  21.183866  19.43718  17.58028  16.49747   \n",
       "\n",
       "          i         z  run_ID  rerun_ID  cam_col  field_ID   spec_obj_ID  \\\n",
       "0  19.16573  18.79371    3606       301        2        79  6.543777e+18   \n",
       "1  21.16812  21.61427    4518       301        5       119  1.176014e+19   \n",
       "2  19.34857  18.94827    3606       301        2       120  5.152200e+18   \n",
       "3  20.50454  19.25010    4192       301        3       214  1.030107e+19   \n",
       "4  15.97711  15.54461    8102       301        3       137  6.891865e+18   \n",
       "\n",
       "    class  redshift  plate    MJD  fiber_ID  \n",
       "0  GALAXY  0.634794   5812  56354       171  \n",
       "1  GALAXY  0.779136  10445  58158       427  \n",
       "2  GALAXY  0.644195   4576  55592       299  \n",
       "3  GALAXY  0.932346   9149  58039       775  \n",
       "4  GALAXY  0.116123   6121  56187       842  "
      ]
     },
     "execution_count": 12,
     "metadata": {},
     "output_type": "execute_result"
    }
   ],
   "source": [
    "df.head()"
   ]
  },
  {
   "cell_type": "code",
   "execution_count": 8,
   "metadata": {},
   "outputs": [
    {
     "data": {
      "text/html": [
       "<div>\n",
       "<style scoped>\n",
       "    .dataframe tbody tr th:only-of-type {\n",
       "        vertical-align: middle;\n",
       "    }\n",
       "\n",
       "    .dataframe tbody tr th {\n",
       "        vertical-align: top;\n",
       "    }\n",
       "\n",
       "    .dataframe thead th {\n",
       "        text-align: right;\n",
       "    }\n",
       "</style>\n",
       "<table border=\"1\" class=\"dataframe\">\n",
       "  <thead>\n",
       "    <tr style=\"text-align: right;\">\n",
       "      <th></th>\n",
       "      <th>count</th>\n",
       "      <th>mean</th>\n",
       "      <th>std</th>\n",
       "      <th>min</th>\n",
       "      <th>25%</th>\n",
       "      <th>50%</th>\n",
       "      <th>75%</th>\n",
       "      <th>max</th>\n",
       "    </tr>\n",
       "  </thead>\n",
       "  <tbody>\n",
       "    <tr>\n",
       "      <th>obj_ID</th>\n",
       "      <td>100000.0</td>\n",
       "      <td>1.237665e+18</td>\n",
       "      <td>8.438560e+12</td>\n",
       "      <td>1.237646e+18</td>\n",
       "      <td>1.237659e+18</td>\n",
       "      <td>1.237663e+18</td>\n",
       "      <td>1.237668e+18</td>\n",
       "      <td>1.237681e+18</td>\n",
       "    </tr>\n",
       "    <tr>\n",
       "      <th>alpha</th>\n",
       "      <td>100000.0</td>\n",
       "      <td>1.776291e+02</td>\n",
       "      <td>9.650224e+01</td>\n",
       "      <td>5.527828e-03</td>\n",
       "      <td>1.275182e+02</td>\n",
       "      <td>1.809007e+02</td>\n",
       "      <td>2.338950e+02</td>\n",
       "      <td>3.599998e+02</td>\n",
       "    </tr>\n",
       "    <tr>\n",
       "      <th>delta</th>\n",
       "      <td>100000.0</td>\n",
       "      <td>2.413530e+01</td>\n",
       "      <td>1.964467e+01</td>\n",
       "      <td>-1.878533e+01</td>\n",
       "      <td>5.146771e+00</td>\n",
       "      <td>2.364592e+01</td>\n",
       "      <td>3.990155e+01</td>\n",
       "      <td>8.300052e+01</td>\n",
       "    </tr>\n",
       "    <tr>\n",
       "      <th>u</th>\n",
       "      <td>100000.0</td>\n",
       "      <td>2.198047e+01</td>\n",
       "      <td>3.176929e+01</td>\n",
       "      <td>-9.999000e+03</td>\n",
       "      <td>2.035235e+01</td>\n",
       "      <td>2.217914e+01</td>\n",
       "      <td>2.368744e+01</td>\n",
       "      <td>3.278139e+01</td>\n",
       "    </tr>\n",
       "    <tr>\n",
       "      <th>g</th>\n",
       "      <td>100000.0</td>\n",
       "      <td>2.053139e+01</td>\n",
       "      <td>3.175029e+01</td>\n",
       "      <td>-9.999000e+03</td>\n",
       "      <td>1.896523e+01</td>\n",
       "      <td>2.109983e+01</td>\n",
       "      <td>2.212377e+01</td>\n",
       "      <td>3.160224e+01</td>\n",
       "    </tr>\n",
       "    <tr>\n",
       "      <th>r</th>\n",
       "      <td>100000.0</td>\n",
       "      <td>1.964576e+01</td>\n",
       "      <td>1.854760e+00</td>\n",
       "      <td>9.822070e+00</td>\n",
       "      <td>1.813583e+01</td>\n",
       "      <td>2.012529e+01</td>\n",
       "      <td>2.104478e+01</td>\n",
       "      <td>2.957186e+01</td>\n",
       "    </tr>\n",
       "    <tr>\n",
       "      <th>i</th>\n",
       "      <td>100000.0</td>\n",
       "      <td>1.908485e+01</td>\n",
       "      <td>1.757895e+00</td>\n",
       "      <td>9.469903e+00</td>\n",
       "      <td>1.773228e+01</td>\n",
       "      <td>1.940514e+01</td>\n",
       "      <td>2.039650e+01</td>\n",
       "      <td>3.214147e+01</td>\n",
       "    </tr>\n",
       "    <tr>\n",
       "      <th>z</th>\n",
       "      <td>100000.0</td>\n",
       "      <td>1.866881e+01</td>\n",
       "      <td>3.172815e+01</td>\n",
       "      <td>-9.999000e+03</td>\n",
       "      <td>1.746068e+01</td>\n",
       "      <td>1.900460e+01</td>\n",
       "      <td>1.992112e+01</td>\n",
       "      <td>2.938374e+01</td>\n",
       "    </tr>\n",
       "    <tr>\n",
       "      <th>run_ID</th>\n",
       "      <td>100000.0</td>\n",
       "      <td>4.481366e+03</td>\n",
       "      <td>1.964765e+03</td>\n",
       "      <td>1.090000e+02</td>\n",
       "      <td>3.187000e+03</td>\n",
       "      <td>4.188000e+03</td>\n",
       "      <td>5.326000e+03</td>\n",
       "      <td>8.162000e+03</td>\n",
       "    </tr>\n",
       "    <tr>\n",
       "      <th>rerun_ID</th>\n",
       "      <td>100000.0</td>\n",
       "      <td>3.010000e+02</td>\n",
       "      <td>0.000000e+00</td>\n",
       "      <td>3.010000e+02</td>\n",
       "      <td>3.010000e+02</td>\n",
       "      <td>3.010000e+02</td>\n",
       "      <td>3.010000e+02</td>\n",
       "      <td>3.010000e+02</td>\n",
       "    </tr>\n",
       "    <tr>\n",
       "      <th>cam_col</th>\n",
       "      <td>100000.0</td>\n",
       "      <td>3.511610e+00</td>\n",
       "      <td>1.586912e+00</td>\n",
       "      <td>1.000000e+00</td>\n",
       "      <td>2.000000e+00</td>\n",
       "      <td>4.000000e+00</td>\n",
       "      <td>5.000000e+00</td>\n",
       "      <td>6.000000e+00</td>\n",
       "    </tr>\n",
       "    <tr>\n",
       "      <th>field_ID</th>\n",
       "      <td>100000.0</td>\n",
       "      <td>1.861305e+02</td>\n",
       "      <td>1.490111e+02</td>\n",
       "      <td>1.100000e+01</td>\n",
       "      <td>8.200000e+01</td>\n",
       "      <td>1.460000e+02</td>\n",
       "      <td>2.410000e+02</td>\n",
       "      <td>9.890000e+02</td>\n",
       "    </tr>\n",
       "    <tr>\n",
       "      <th>spec_obj_ID</th>\n",
       "      <td>100000.0</td>\n",
       "      <td>5.783882e+18</td>\n",
       "      <td>3.324016e+18</td>\n",
       "      <td>2.995191e+17</td>\n",
       "      <td>2.844138e+18</td>\n",
       "      <td>5.614883e+18</td>\n",
       "      <td>8.332144e+18</td>\n",
       "      <td>1.412694e+19</td>\n",
       "    </tr>\n",
       "    <tr>\n",
       "      <th>redshift</th>\n",
       "      <td>100000.0</td>\n",
       "      <td>5.766608e-01</td>\n",
       "      <td>7.307073e-01</td>\n",
       "      <td>-9.970667e-03</td>\n",
       "      <td>5.451684e-02</td>\n",
       "      <td>4.241733e-01</td>\n",
       "      <td>7.041543e-01</td>\n",
       "      <td>7.011245e+00</td>\n",
       "    </tr>\n",
       "    <tr>\n",
       "      <th>plate</th>\n",
       "      <td>100000.0</td>\n",
       "      <td>5.137010e+03</td>\n",
       "      <td>2.952303e+03</td>\n",
       "      <td>2.660000e+02</td>\n",
       "      <td>2.526000e+03</td>\n",
       "      <td>4.987000e+03</td>\n",
       "      <td>7.400250e+03</td>\n",
       "      <td>1.254700e+04</td>\n",
       "    </tr>\n",
       "    <tr>\n",
       "      <th>MJD</th>\n",
       "      <td>100000.0</td>\n",
       "      <td>5.558865e+04</td>\n",
       "      <td>1.808484e+03</td>\n",
       "      <td>5.160800e+04</td>\n",
       "      <td>5.423400e+04</td>\n",
       "      <td>5.586850e+04</td>\n",
       "      <td>5.677700e+04</td>\n",
       "      <td>5.893200e+04</td>\n",
       "    </tr>\n",
       "    <tr>\n",
       "      <th>fiber_ID</th>\n",
       "      <td>100000.0</td>\n",
       "      <td>4.493127e+02</td>\n",
       "      <td>2.724984e+02</td>\n",
       "      <td>1.000000e+00</td>\n",
       "      <td>2.210000e+02</td>\n",
       "      <td>4.330000e+02</td>\n",
       "      <td>6.450000e+02</td>\n",
       "      <td>1.000000e+03</td>\n",
       "    </tr>\n",
       "  </tbody>\n",
       "</table>\n",
       "</div>"
      ],
      "text/plain": [
       "                count          mean           std           min           25%  \\\n",
       "obj_ID       100000.0  1.237665e+18  8.438560e+12  1.237646e+18  1.237659e+18   \n",
       "alpha        100000.0  1.776291e+02  9.650224e+01  5.527828e-03  1.275182e+02   \n",
       "delta        100000.0  2.413530e+01  1.964467e+01 -1.878533e+01  5.146771e+00   \n",
       "u            100000.0  2.198047e+01  3.176929e+01 -9.999000e+03  2.035235e+01   \n",
       "g            100000.0  2.053139e+01  3.175029e+01 -9.999000e+03  1.896523e+01   \n",
       "r            100000.0  1.964576e+01  1.854760e+00  9.822070e+00  1.813583e+01   \n",
       "i            100000.0  1.908485e+01  1.757895e+00  9.469903e+00  1.773228e+01   \n",
       "z            100000.0  1.866881e+01  3.172815e+01 -9.999000e+03  1.746068e+01   \n",
       "run_ID       100000.0  4.481366e+03  1.964765e+03  1.090000e+02  3.187000e+03   \n",
       "rerun_ID     100000.0  3.010000e+02  0.000000e+00  3.010000e+02  3.010000e+02   \n",
       "cam_col      100000.0  3.511610e+00  1.586912e+00  1.000000e+00  2.000000e+00   \n",
       "field_ID     100000.0  1.861305e+02  1.490111e+02  1.100000e+01  8.200000e+01   \n",
       "spec_obj_ID  100000.0  5.783882e+18  3.324016e+18  2.995191e+17  2.844138e+18   \n",
       "redshift     100000.0  5.766608e-01  7.307073e-01 -9.970667e-03  5.451684e-02   \n",
       "plate        100000.0  5.137010e+03  2.952303e+03  2.660000e+02  2.526000e+03   \n",
       "MJD          100000.0  5.558865e+04  1.808484e+03  5.160800e+04  5.423400e+04   \n",
       "fiber_ID     100000.0  4.493127e+02  2.724984e+02  1.000000e+00  2.210000e+02   \n",
       "\n",
       "                      50%           75%           max  \n",
       "obj_ID       1.237663e+18  1.237668e+18  1.237681e+18  \n",
       "alpha        1.809007e+02  2.338950e+02  3.599998e+02  \n",
       "delta        2.364592e+01  3.990155e+01  8.300052e+01  \n",
       "u            2.217914e+01  2.368744e+01  3.278139e+01  \n",
       "g            2.109983e+01  2.212377e+01  3.160224e+01  \n",
       "r            2.012529e+01  2.104478e+01  2.957186e+01  \n",
       "i            1.940514e+01  2.039650e+01  3.214147e+01  \n",
       "z            1.900460e+01  1.992112e+01  2.938374e+01  \n",
       "run_ID       4.188000e+03  5.326000e+03  8.162000e+03  \n",
       "rerun_ID     3.010000e+02  3.010000e+02  3.010000e+02  \n",
       "cam_col      4.000000e+00  5.000000e+00  6.000000e+00  \n",
       "field_ID     1.460000e+02  2.410000e+02  9.890000e+02  \n",
       "spec_obj_ID  5.614883e+18  8.332144e+18  1.412694e+19  \n",
       "redshift     4.241733e-01  7.041543e-01  7.011245e+00  \n",
       "plate        4.987000e+03  7.400250e+03  1.254700e+04  \n",
       "MJD          5.586850e+04  5.677700e+04  5.893200e+04  \n",
       "fiber_ID     4.330000e+02  6.450000e+02  1.000000e+03  "
      ]
     },
     "execution_count": 8,
     "metadata": {},
     "output_type": "execute_result"
    }
   ],
   "source": [
    "# analyze data at a high level\n",
    "df.describe().T"
   ]
  },
  {
   "cell_type": "code",
   "execution_count": 9,
   "metadata": {},
   "outputs": [
    {
     "name": "stdout",
     "output_type": "stream",
     "text": [
      "<class 'pandas.core.frame.DataFrame'>\n",
      "RangeIndex: 100000 entries, 0 to 99999\n",
      "Data columns (total 18 columns):\n",
      " #   Column       Non-Null Count   Dtype  \n",
      "---  ------       --------------   -----  \n",
      " 0   obj_ID       100000 non-null  float64\n",
      " 1   alpha        100000 non-null  float64\n",
      " 2   delta        100000 non-null  float64\n",
      " 3   u            100000 non-null  float64\n",
      " 4   g            100000 non-null  float64\n",
      " 5   r            100000 non-null  float64\n",
      " 6   i            100000 non-null  float64\n",
      " 7   z            100000 non-null  float64\n",
      " 8   run_ID       100000 non-null  int64  \n",
      " 9   rerun_ID     100000 non-null  int64  \n",
      " 10  cam_col      100000 non-null  int64  \n",
      " 11  field_ID     100000 non-null  int64  \n",
      " 12  spec_obj_ID  100000 non-null  float64\n",
      " 13  class        100000 non-null  object \n",
      " 14  redshift     100000 non-null  float64\n",
      " 15  plate        100000 non-null  int64  \n",
      " 16  MJD          100000 non-null  int64  \n",
      " 17  fiber_ID     100000 non-null  int64  \n",
      "dtypes: float64(10), int64(7), object(1)\n",
      "memory usage: 13.7+ MB\n"
     ]
    }
   ],
   "source": [
    "# find missing values\n",
    "df.info()"
   ]
  },
  {
   "cell_type": "markdown",
   "metadata": {},
   "source": [
    "We see that all columns conatin numerical data(7 int64, 10 float64) besides the class column, which contains objects. The objects in this column correspond to one of the three classes that each observation belongs to. Lets see what classes the observations are grouped into....."
   ]
  },
  {
   "cell_type": "code",
   "execution_count": 23,
   "metadata": {},
   "outputs": [
    {
     "name": "stderr",
     "output_type": "stream",
     "text": [
      "/Users/garrettmccue/anaconda3/lib/python3.8/site-packages/seaborn/_decorators.py:36: FutureWarning: Pass the following variable as a keyword arg: x. From version 0.12, the only valid positional argument will be `data`, and passing other arguments without an explicit keyword will result in an error or misinterpretation.\n",
      "  warnings.warn(\n"
     ]
    },
    {
     "data": {
      "image/png": "[encoded data removed]",
      "text/plain": [
       "<Figure size 432x288 with 1 Axes>"
      ]
     },
     "metadata": {
      "needs_background": "light"
     },
     "output_type": "display_data"
    }
   ],
   "source": [
    "# plot the num per class\n",
    "sns.countplot(df['class'])\n",
    "plt.title(\"Class Count\")\n",
    "plt.show()"
   ]
  },
  {
   "cell_type": "markdown",
   "metadata": {},
   "source": [
    "The goal of the assignment is to apply dimensionality reduction techniques in order to project the classes into a lower dimension, which can lower the computational need and aid in classification of new samples. "
   ]
  },
  {
   "cell_type": "markdown",
   "metadata": {},
   "source": [
    "\n",
    "## 2. PCA<a class=\"anchor\" id=\"pca\"></a>\n"
   ]
  },
  {
   "cell_type": "markdown",
   "metadata": {},
   "source": [
    "\n",
    "### 2.1 What is PCA<a class=\"anchor\" id=\"what_is_pca\"></a>\n"
   ]
  },
  {
   "cell_type": "markdown",
   "metadata": {},
   "source": [
    "\n",
    "### 2.2 PCA Logic<a class=\"anchor\" id=\"pca-logic\"></a>\n"
   ]
  },
  {
   "cell_type": "markdown",
   "metadata": {},
   "source": [
    "### 2.3 Applying PCA<a class=\"anchor\" id=\"applying-pca\"></a>\n"
   ]
  },
  {
   "cell_type": "markdown",
   "metadata": {},
   "source": [
    "### 2.4 PCA Results<a class=\"anchor\" id=\"pca-results\"></a>\n"
   ]
  },
  {
   "cell_type": "markdown",
   "metadata": {},
   "source": [
    "### 2.5 PCA Analysis<a class=\"anchor\" id=\"pca-analysis\"></a>"
   ]
  },
  {
   "cell_type": "markdown",
   "metadata": {},
   "source": [
    "## 3. LDA<a class=\"anchor\" id=\"lda\"></a>\n"
   ]
  },
  {
   "cell_type": "markdown",
   "metadata": {},
   "source": [
    "### 3.1 What is LDA<a class=\"anchor\" id=\"what-is-lda\"></a>\n"
   ]
  },
  {
   "cell_type": "markdown",
   "metadata": {},
   "source": [
    "### 3.2 LDA Logic<a class=\"anchor\" id=\"lda-logic\"></a>\n"
   ]
  },
  {
   "cell_type": "markdown",
   "metadata": {},
   "source": [
    "### 3.3 Applying LDA<a class=\"anchor\" id=\"applying-lda\"></a>\n"
   ]
  },
  {
   "cell_type": "markdown",
   "metadata": {},
   "source": [
    "### 3.4 LDA Results<a class=\"anchor\" id=\"lda-results\"></a>\n"
   ]
  },
  {
   "cell_type": "markdown",
   "metadata": {},
   "source": [
    "### 3.5 LDA Analysis<a class=\"anchor\" id=\"lda-analysis\"></a>"
   ]
  },
  {
   "cell_type": "markdown",
   "metadata": {},
   "source": [
    "## 4. Conclusion<a class=\"anchor\" id=\"conclusion\"></a>"
   ]
  },
  {
   "cell_type": "markdown",
   "metadata": {},
   "source": [
    "## 5. Full Code<a class=\"anchor\" id=\"code\"></a>"
   ]
  }
 ],
 "metadata": {
  "interpreter": {
   "hash": "935f013ec3274d983f6cf9c6c8d3a038a9827a62579d2563240b276044aef7b2"
  },
  "kernelspec": {
   "display_name": "Python 3.8.12 ('base')",
   "language": "python",
   "name": "python3"
  },
  "language_info": {
   "codemirror_mode": {
    "name": "ipython",
    "version": 3
   },
   "file_extension": ".py",
   "mimetype": "text/x-python",
   "name": "python",
   "nbconvert_exporter": "python",
   "pygments_lexer": "ipython3",
   "version": "3.8.12"
  },
  "orig_nbformat": 4
 },
 "nbformat": 4,
 "nbformat_minor": 2
}
